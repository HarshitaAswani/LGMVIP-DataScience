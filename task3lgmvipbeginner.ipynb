{
 "cells": [
  {
   "cell_type": "markdown",
   "id": "d6660e4b",
   "metadata": {},
   "source": [
    "# Music Recommendation"
   ]
  },
  {
   "cell_type": "markdown",
   "id": "abad4647",
   "metadata": {},
   "source": [
    "# By: **Harshita Aswani**"
   ]
  },
  {
   "cell_type": "code",
   "execution_count": 3,
   "id": "ee481629",
   "metadata": {},
   "outputs": [],
   "source": [
    "import pandas as pd\n",
    "import numpy as np\n",
    "import seaborn as sns\n",
    "import matplotlib.pyplot as plt"
   ]
  },
  {
   "cell_type": "code",
   "execution_count": 4,
   "id": "b2969989",
   "metadata": {},
   "outputs": [],
   "source": [
    "df = pd.read_csv('C:\\\\Users\\\\ASUS\\\\Documents\\\\member.csv')\n",
    "df1 = pd.read_csv('C:\\\\Users\\\\ASUS\\\\Documents\\\\sample submission.csv')\n",
    "df2 = pd.read_csv('C:\\\\Users\\\\ASUS\\\\Documents\\\\song.csv')\n",
    "df3 = pd.read_csv('C:\\\\Users\\\\ASUS\\\\Documents\\\\songs extra info.csv')\n",
    "df4 = pd.read_csv('C:\\\\Users\\\\ASUS\\\\Documents\\\\testset.csv')\n",
    "df5 = pd.read_csv('C:\\\\Users\\\\ASUS\\\\Documents\\\\trainset.csv')"
   ]
  },
  {
   "cell_type": "code",
   "execution_count": 5,
   "id": "44feac63",
   "metadata": {},
   "outputs": [
    {
     "data": {
      "text/html": [
       "<div>\n",
       "<style scoped>\n",
       "    .dataframe tbody tr th:only-of-type {\n",
       "        vertical-align: middle;\n",
       "    }\n",
       "\n",
       "    .dataframe tbody tr th {\n",
       "        vertical-align: top;\n",
       "    }\n",
       "\n",
       "    .dataframe thead th {\n",
       "        text-align: right;\n",
       "    }\n",
       "</style>\n",
       "<table border=\"1\" class=\"dataframe\">\n",
       "  <thead>\n",
       "    <tr style=\"text-align: right;\">\n",
       "      <th></th>\n",
       "      <th>msno</th>\n",
       "      <th>city</th>\n",
       "      <th>bd</th>\n",
       "      <th>gender</th>\n",
       "      <th>registered_via</th>\n",
       "      <th>registration_init_time</th>\n",
       "      <th>expiration_date</th>\n",
       "    </tr>\n",
       "  </thead>\n",
       "  <tbody>\n",
       "    <tr>\n",
       "      <th>0</th>\n",
       "      <td>XQxgAYj3klVKjR3oxPPXYYFp4soD4TuBghkhMTD4oTw=</td>\n",
       "      <td>1</td>\n",
       "      <td>0</td>\n",
       "      <td>NaN</td>\n",
       "      <td>7</td>\n",
       "      <td>20110820</td>\n",
       "      <td>20170920</td>\n",
       "    </tr>\n",
       "    <tr>\n",
       "      <th>1</th>\n",
       "      <td>UizsfmJb9mV54qE9hCYyU07Va97c0lCRLEQX3ae+ztM=</td>\n",
       "      <td>1</td>\n",
       "      <td>0</td>\n",
       "      <td>NaN</td>\n",
       "      <td>7</td>\n",
       "      <td>20150628</td>\n",
       "      <td>20170622</td>\n",
       "    </tr>\n",
       "    <tr>\n",
       "      <th>2</th>\n",
       "      <td>D8nEhsIOBSoE6VthTaqDX8U6lqjJ7dLdr72mOyLya2A=</td>\n",
       "      <td>1</td>\n",
       "      <td>0</td>\n",
       "      <td>NaN</td>\n",
       "      <td>4</td>\n",
       "      <td>20160411</td>\n",
       "      <td>20170712</td>\n",
       "    </tr>\n",
       "    <tr>\n",
       "      <th>3</th>\n",
       "      <td>mCuD+tZ1hERA/o5GPqk38e041J8ZsBaLcu7nGoIIvhI=</td>\n",
       "      <td>1</td>\n",
       "      <td>0</td>\n",
       "      <td>NaN</td>\n",
       "      <td>9</td>\n",
       "      <td>20150906</td>\n",
       "      <td>20150907</td>\n",
       "    </tr>\n",
       "    <tr>\n",
       "      <th>4</th>\n",
       "      <td>q4HRBfVSssAFS9iRfxWrohxuk9kCYMKjHOEagUMV6rQ=</td>\n",
       "      <td>1</td>\n",
       "      <td>0</td>\n",
       "      <td>NaN</td>\n",
       "      <td>4</td>\n",
       "      <td>20170126</td>\n",
       "      <td>20170613</td>\n",
       "    </tr>\n",
       "    <tr>\n",
       "      <th>...</th>\n",
       "      <td>...</td>\n",
       "      <td>...</td>\n",
       "      <td>...</td>\n",
       "      <td>...</td>\n",
       "      <td>...</td>\n",
       "      <td>...</td>\n",
       "      <td>...</td>\n",
       "    </tr>\n",
       "    <tr>\n",
       "      <th>34398</th>\n",
       "      <td>Wwd/cudKVuLJ3txRVxlg2Zaeliu+LRUfiBmfrnxhRCY=</td>\n",
       "      <td>1</td>\n",
       "      <td>0</td>\n",
       "      <td>NaN</td>\n",
       "      <td>7</td>\n",
       "      <td>20131111</td>\n",
       "      <td>20170910</td>\n",
       "    </tr>\n",
       "    <tr>\n",
       "      <th>34399</th>\n",
       "      <td>g3JGnJX6Hg50lFbrNWfsHwCUmApIkiv2M8sXOaeXoIQ=</td>\n",
       "      <td>4</td>\n",
       "      <td>18</td>\n",
       "      <td>male</td>\n",
       "      <td>3</td>\n",
       "      <td>20141024</td>\n",
       "      <td>20170518</td>\n",
       "    </tr>\n",
       "    <tr>\n",
       "      <th>34400</th>\n",
       "      <td>IMaPMJuyN+ip9Vqi+z2XuXbFAP2kbHr+EvvCNkFfj+o=</td>\n",
       "      <td>1</td>\n",
       "      <td>0</td>\n",
       "      <td>NaN</td>\n",
       "      <td>7</td>\n",
       "      <td>20130802</td>\n",
       "      <td>20170908</td>\n",
       "    </tr>\n",
       "    <tr>\n",
       "      <th>34401</th>\n",
       "      <td>WAnCAJjUty9Stv8yKtV7ZC7PN+ilOy5FX3aIJgGPANM=</td>\n",
       "      <td>1</td>\n",
       "      <td>0</td>\n",
       "      <td>NaN</td>\n",
       "      <td>7</td>\n",
       "      <td>20151020</td>\n",
       "      <td>20170920</td>\n",
       "    </tr>\n",
       "    <tr>\n",
       "      <th>34402</th>\n",
       "      <td>xH8KpzKGeNNq6dOvy51c/8VzqOiGG+m6vabhsPSDHX4=</td>\n",
       "      <td>1</td>\n",
       "      <td>0</td>\n",
       "      <td>NaN</td>\n",
       "      <td>4</td>\n",
       "      <td>20160815</td>\n",
       "      <td>20160818</td>\n",
       "    </tr>\n",
       "  </tbody>\n",
       "</table>\n",
       "<p>34403 rows × 7 columns</p>\n",
       "</div>"
      ],
      "text/plain": [
       "                                               msno  city  bd gender  \\\n",
       "0      XQxgAYj3klVKjR3oxPPXYYFp4soD4TuBghkhMTD4oTw=     1   0    NaN   \n",
       "1      UizsfmJb9mV54qE9hCYyU07Va97c0lCRLEQX3ae+ztM=     1   0    NaN   \n",
       "2      D8nEhsIOBSoE6VthTaqDX8U6lqjJ7dLdr72mOyLya2A=     1   0    NaN   \n",
       "3      mCuD+tZ1hERA/o5GPqk38e041J8ZsBaLcu7nGoIIvhI=     1   0    NaN   \n",
       "4      q4HRBfVSssAFS9iRfxWrohxuk9kCYMKjHOEagUMV6rQ=     1   0    NaN   \n",
       "...                                             ...   ...  ..    ...   \n",
       "34398  Wwd/cudKVuLJ3txRVxlg2Zaeliu+LRUfiBmfrnxhRCY=     1   0    NaN   \n",
       "34399  g3JGnJX6Hg50lFbrNWfsHwCUmApIkiv2M8sXOaeXoIQ=     4  18   male   \n",
       "34400  IMaPMJuyN+ip9Vqi+z2XuXbFAP2kbHr+EvvCNkFfj+o=     1   0    NaN   \n",
       "34401  WAnCAJjUty9Stv8yKtV7ZC7PN+ilOy5FX3aIJgGPANM=     1   0    NaN   \n",
       "34402  xH8KpzKGeNNq6dOvy51c/8VzqOiGG+m6vabhsPSDHX4=     1   0    NaN   \n",
       "\n",
       "       registered_via  registration_init_time  expiration_date  \n",
       "0                   7                20110820         20170920  \n",
       "1                   7                20150628         20170622  \n",
       "2                   4                20160411         20170712  \n",
       "3                   9                20150906         20150907  \n",
       "4                   4                20170126         20170613  \n",
       "...               ...                     ...              ...  \n",
       "34398               7                20131111         20170910  \n",
       "34399               3                20141024         20170518  \n",
       "34400               7                20130802         20170908  \n",
       "34401               7                20151020         20170920  \n",
       "34402               4                20160815         20160818  \n",
       "\n",
       "[34403 rows x 7 columns]"
      ]
     },
     "execution_count": 5,
     "metadata": {},
     "output_type": "execute_result"
    }
   ],
   "source": [
    "df"
   ]
  },
  {
   "cell_type": "code",
   "execution_count": 6,
   "id": "67d5c24c",
   "metadata": {},
   "outputs": [
    {
     "data": {
      "text/html": [
       "<div>\n",
       "<style scoped>\n",
       "    .dataframe tbody tr th:only-of-type {\n",
       "        vertical-align: middle;\n",
       "    }\n",
       "\n",
       "    .dataframe tbody tr th {\n",
       "        vertical-align: top;\n",
       "    }\n",
       "\n",
       "    .dataframe thead th {\n",
       "        text-align: right;\n",
       "    }\n",
       "</style>\n",
       "<table border=\"1\" class=\"dataframe\">\n",
       "  <thead>\n",
       "    <tr style=\"text-align: right;\">\n",
       "      <th></th>\n",
       "      <th>id</th>\n",
       "      <th>target</th>\n",
       "    </tr>\n",
       "  </thead>\n",
       "  <tbody>\n",
       "    <tr>\n",
       "      <th>0</th>\n",
       "      <td>0</td>\n",
       "      <td>0.5</td>\n",
       "    </tr>\n",
       "    <tr>\n",
       "      <th>1</th>\n",
       "      <td>1</td>\n",
       "      <td>0.5</td>\n",
       "    </tr>\n",
       "    <tr>\n",
       "      <th>2</th>\n",
       "      <td>2</td>\n",
       "      <td>0.5</td>\n",
       "    </tr>\n",
       "    <tr>\n",
       "      <th>3</th>\n",
       "      <td>3</td>\n",
       "      <td>0.5</td>\n",
       "    </tr>\n",
       "    <tr>\n",
       "      <th>4</th>\n",
       "      <td>4</td>\n",
       "      <td>0.5</td>\n",
       "    </tr>\n",
       "    <tr>\n",
       "      <th>...</th>\n",
       "      <td>...</td>\n",
       "      <td>...</td>\n",
       "    </tr>\n",
       "    <tr>\n",
       "      <th>1048570</th>\n",
       "      <td>1048570</td>\n",
       "      <td>0.5</td>\n",
       "    </tr>\n",
       "    <tr>\n",
       "      <th>1048571</th>\n",
       "      <td>1048571</td>\n",
       "      <td>0.5</td>\n",
       "    </tr>\n",
       "    <tr>\n",
       "      <th>1048572</th>\n",
       "      <td>1048572</td>\n",
       "      <td>0.5</td>\n",
       "    </tr>\n",
       "    <tr>\n",
       "      <th>1048573</th>\n",
       "      <td>1048573</td>\n",
       "      <td>0.5</td>\n",
       "    </tr>\n",
       "    <tr>\n",
       "      <th>1048574</th>\n",
       "      <td>1048574</td>\n",
       "      <td>0.5</td>\n",
       "    </tr>\n",
       "  </tbody>\n",
       "</table>\n",
       "<p>1048575 rows × 2 columns</p>\n",
       "</div>"
      ],
      "text/plain": [
       "              id  target\n",
       "0              0     0.5\n",
       "1              1     0.5\n",
       "2              2     0.5\n",
       "3              3     0.5\n",
       "4              4     0.5\n",
       "...          ...     ...\n",
       "1048570  1048570     0.5\n",
       "1048571  1048571     0.5\n",
       "1048572  1048572     0.5\n",
       "1048573  1048573     0.5\n",
       "1048574  1048574     0.5\n",
       "\n",
       "[1048575 rows x 2 columns]"
      ]
     },
     "execution_count": 6,
     "metadata": {},
     "output_type": "execute_result"
    }
   ],
   "source": [
    "df1"
   ]
  },
  {
   "cell_type": "code",
   "execution_count": 7,
   "id": "482e0e5d",
   "metadata": {},
   "outputs": [
    {
     "data": {
      "text/html": [
       "<div>\n",
       "<style scoped>\n",
       "    .dataframe tbody tr th:only-of-type {\n",
       "        vertical-align: middle;\n",
       "    }\n",
       "\n",
       "    .dataframe tbody tr th {\n",
       "        vertical-align: top;\n",
       "    }\n",
       "\n",
       "    .dataframe thead th {\n",
       "        text-align: right;\n",
       "    }\n",
       "</style>\n",
       "<table border=\"1\" class=\"dataframe\">\n",
       "  <thead>\n",
       "    <tr style=\"text-align: right;\">\n",
       "      <th></th>\n",
       "      <th>song_id</th>\n",
       "      <th>song_length</th>\n",
       "      <th>genre_ids</th>\n",
       "      <th>artist_name</th>\n",
       "      <th>composer</th>\n",
       "      <th>lyricist</th>\n",
       "      <th>language</th>\n",
       "    </tr>\n",
       "  </thead>\n",
       "  <tbody>\n",
       "    <tr>\n",
       "      <th>0</th>\n",
       "      <td>CXoTN1eb7AI+DntdU1vbcwGRV4SCIDxZu+YD8JP8r4E=</td>\n",
       "      <td>247640</td>\n",
       "      <td>465</td>\n",
       "      <td>å¼µä¿¡å“² (Jeff Chang)</td>\n",
       "      <td>è‘£è²ž</td>\n",
       "      <td>ä½•å•Ÿå¼˜</td>\n",
       "      <td>3.0</td>\n",
       "    </tr>\n",
       "    <tr>\n",
       "      <th>1</th>\n",
       "      <td>o0kFgae9QtnYgRkVPqLJwa05zIhRlUjfF7O1tDw0ZDU=</td>\n",
       "      <td>197328</td>\n",
       "      <td>444</td>\n",
       "      <td>BLACKPINK</td>\n",
       "      <td>TEDDY|  FUTURE BOUNCE|  Bekuh BOOM</td>\n",
       "      <td>TEDDY</td>\n",
       "      <td>31.0</td>\n",
       "    </tr>\n",
       "    <tr>\n",
       "      <th>2</th>\n",
       "      <td>DwVvVurfpuz+XPuFvucclVQEyPqcpUkHR0ne1RQzPs0=</td>\n",
       "      <td>231781</td>\n",
       "      <td>465</td>\n",
       "      <td>SUPER JUNIOR</td>\n",
       "      <td>NaN</td>\n",
       "      <td>NaN</td>\n",
       "      <td>31.0</td>\n",
       "    </tr>\n",
       "    <tr>\n",
       "      <th>3</th>\n",
       "      <td>dKMBWoZyScdxSkihKG+Vf47nc18N9q4m58+b4e7dSSE=</td>\n",
       "      <td>273554</td>\n",
       "      <td>465</td>\n",
       "      <td>S.H.E</td>\n",
       "      <td>æ¹¯å°åº·</td>\n",
       "      <td>å¾ä¸–ç</td>\n",
       "      <td>3.0</td>\n",
       "    </tr>\n",
       "    <tr>\n",
       "      <th>4</th>\n",
       "      <td>W3bqWd3T+VeHFzHAUfARgW9AvVRaF4N5Yzm4Mr6Eo/o=</td>\n",
       "      <td>140329</td>\n",
       "      <td>726</td>\n",
       "      <td>è²´æ—ç²¾é¸</td>\n",
       "      <td>Traditional</td>\n",
       "      <td>Traditional</td>\n",
       "      <td>52.0</td>\n",
       "    </tr>\n",
       "    <tr>\n",
       "      <th>...</th>\n",
       "      <td>...</td>\n",
       "      <td>...</td>\n",
       "      <td>...</td>\n",
       "      <td>...</td>\n",
       "      <td>...</td>\n",
       "      <td>...</td>\n",
       "      <td>...</td>\n",
       "    </tr>\n",
       "    <tr>\n",
       "      <th>1048570</th>\n",
       "      <td>2ZRF6vTIjeJOFG0QOvQE+9L2Uhzo7prCVNIa0sBqIbA=</td>\n",
       "      <td>182044</td>\n",
       "      <td>NaN</td>\n",
       "      <td>Dragonbay</td>\n",
       "      <td>NaN</td>\n",
       "      <td>NaN</td>\n",
       "      <td>52.0</td>\n",
       "    </tr>\n",
       "    <tr>\n",
       "      <th>1048571</th>\n",
       "      <td>k0TIUBzWIi7l7XYyj3YRSvLVuLJ1y1z/v/LYRKpYvVg=</td>\n",
       "      <td>470158</td>\n",
       "      <td>1152|947</td>\n",
       "      <td>Massage Tribe</td>\n",
       "      <td>NaN</td>\n",
       "      <td>NaN</td>\n",
       "      <td>-1.0</td>\n",
       "    </tr>\n",
       "    <tr>\n",
       "      <th>1048572</th>\n",
       "      <td>+FyGIHSC23kAAF4UeTku3oquYaFYH21OWHy+eNKpNoQ=</td>\n",
       "      <td>360559</td>\n",
       "      <td>958</td>\n",
       "      <td>Antonio Vivaldi| Wolfgang Amadeus Mozart| Ludw...</td>\n",
       "      <td>Antonio Vivaldi</td>\n",
       "      <td>NaN</td>\n",
       "      <td>-1.0</td>\n",
       "    </tr>\n",
       "    <tr>\n",
       "      <th>1048573</th>\n",
       "      <td>LW/HYg6lUeKFxJh/0DwaivmohvW7Mwh14sWQ4dA1riU=</td>\n",
       "      <td>767652</td>\n",
       "      <td>958</td>\n",
       "      <td>Sviatoslav Richter</td>\n",
       "      <td>NaN</td>\n",
       "      <td>NaN</td>\n",
       "      <td>-1.0</td>\n",
       "    </tr>\n",
       "    <tr>\n",
       "      <th>1048574</th>\n",
       "      <td>n6p0LirSgOFGNz+vZ+p0ERCnj3nL8nnYS4KhtLHEmA4=</td>\n",
       "      <td>390188</td>\n",
       "      <td>2122</td>\n",
       "      <td>Joe Pass</td>\n",
       "      <td>Joe Pass</td>\n",
       "      <td>NaN</td>\n",
       "      <td>52.0</td>\n",
       "    </tr>\n",
       "  </tbody>\n",
       "</table>\n",
       "<p>1048575 rows × 7 columns</p>\n",
       "</div>"
      ],
      "text/plain": [
       "                                              song_id  song_length genre_ids  \\\n",
       "0        CXoTN1eb7AI+DntdU1vbcwGRV4SCIDxZu+YD8JP8r4E=       247640       465   \n",
       "1        o0kFgae9QtnYgRkVPqLJwa05zIhRlUjfF7O1tDw0ZDU=       197328       444   \n",
       "2        DwVvVurfpuz+XPuFvucclVQEyPqcpUkHR0ne1RQzPs0=       231781       465   \n",
       "3        dKMBWoZyScdxSkihKG+Vf47nc18N9q4m58+b4e7dSSE=       273554       465   \n",
       "4        W3bqWd3T+VeHFzHAUfARgW9AvVRaF4N5Yzm4Mr6Eo/o=       140329       726   \n",
       "...                                               ...          ...       ...   \n",
       "1048570  2ZRF6vTIjeJOFG0QOvQE+9L2Uhzo7prCVNIa0sBqIbA=       182044       NaN   \n",
       "1048571  k0TIUBzWIi7l7XYyj3YRSvLVuLJ1y1z/v/LYRKpYvVg=       470158  1152|947   \n",
       "1048572  +FyGIHSC23kAAF4UeTku3oquYaFYH21OWHy+eNKpNoQ=       360559       958   \n",
       "1048573  LW/HYg6lUeKFxJh/0DwaivmohvW7Mwh14sWQ4dA1riU=       767652       958   \n",
       "1048574  n6p0LirSgOFGNz+vZ+p0ERCnj3nL8nnYS4KhtLHEmA4=       390188      2122   \n",
       "\n",
       "                                               artist_name  \\\n",
       "0                                   å¼µä¿¡å“² (Jeff Chang)   \n",
       "1                                                BLACKPINK   \n",
       "2                                             SUPER JUNIOR   \n",
       "3                                                    S.H.E   \n",
       "4                                             è²´æ—ç²¾é¸   \n",
       "...                                                    ...   \n",
       "1048570                                          Dragonbay   \n",
       "1048571                                      Massage Tribe   \n",
       "1048572  Antonio Vivaldi| Wolfgang Amadeus Mozart| Ludw...   \n",
       "1048573                                 Sviatoslav Richter   \n",
       "1048574                                           Joe Pass   \n",
       "\n",
       "                                   composer     lyricist  language  \n",
       "0                                    è‘£è²ž    ä½•å•Ÿå¼˜       3.0  \n",
       "1        TEDDY|  FUTURE BOUNCE|  Bekuh BOOM        TEDDY      31.0  \n",
       "2                                       NaN          NaN      31.0  \n",
       "3                                 æ¹¯å°åº·    å¾ä¸–ç       3.0  \n",
       "4                               Traditional  Traditional      52.0  \n",
       "...                                     ...          ...       ...  \n",
       "1048570                                 NaN          NaN      52.0  \n",
       "1048571                                 NaN          NaN      -1.0  \n",
       "1048572                     Antonio Vivaldi          NaN      -1.0  \n",
       "1048573                                 NaN          NaN      -1.0  \n",
       "1048574                            Joe Pass          NaN      52.0  \n",
       "\n",
       "[1048575 rows x 7 columns]"
      ]
     },
     "execution_count": 7,
     "metadata": {},
     "output_type": "execute_result"
    }
   ],
   "source": [
    "df2"
   ]
  },
  {
   "cell_type": "code",
   "execution_count": 8,
   "id": "b0fd6ef0",
   "metadata": {},
   "outputs": [
    {
     "data": {
      "text/html": [
       "<div>\n",
       "<style scoped>\n",
       "    .dataframe tbody tr th:only-of-type {\n",
       "        vertical-align: middle;\n",
       "    }\n",
       "\n",
       "    .dataframe tbody tr th {\n",
       "        vertical-align: top;\n",
       "    }\n",
       "\n",
       "    .dataframe thead th {\n",
       "        text-align: right;\n",
       "    }\n",
       "</style>\n",
       "<table border=\"1\" class=\"dataframe\">\n",
       "  <thead>\n",
       "    <tr style=\"text-align: right;\">\n",
       "      <th></th>\n",
       "      <th>song_id</th>\n",
       "      <th>name</th>\n",
       "      <th>isrc</th>\n",
       "    </tr>\n",
       "  </thead>\n",
       "  <tbody>\n",
       "    <tr>\n",
       "      <th>0</th>\n",
       "      <td>LP7pLJoJFBvyuUwvu+oLzjT+bI+UeBPURCecJsX1jjs=</td>\n",
       "      <td>æˆ‘å€‘</td>\n",
       "      <td>TWUM71200043</td>\n",
       "    </tr>\n",
       "    <tr>\n",
       "      <th>1</th>\n",
       "      <td>ClazTFnk6r0Bnuie44bocdNMM3rdlrq0bCGAsGUWcHE=</td>\n",
       "      <td>Let Me Love You</td>\n",
       "      <td>QMZSY1600015</td>\n",
       "    </tr>\n",
       "    <tr>\n",
       "      <th>2</th>\n",
       "      <td>u2ja/bZE3zhCGxvbbOB3zOoUjx27u40cf5g09UXMoKQ=</td>\n",
       "      <td>åŽŸè«’æˆ‘</td>\n",
       "      <td>TWA530887303</td>\n",
       "    </tr>\n",
       "    <tr>\n",
       "      <th>3</th>\n",
       "      <td>92Fqsy0+p6+RHe2EoLKjHahORHR1Kq1TBJoClW9v+Ts=</td>\n",
       "      <td>Classic</td>\n",
       "      <td>USSM11301446</td>\n",
       "    </tr>\n",
       "    <tr>\n",
       "      <th>4</th>\n",
       "      <td>0QFmz/+rJy1Q56C1DuYqT9hKKqi5TUqx0sN0IwvoHrw=</td>\n",
       "      <td>æ„›æŠ•ç¾…ç¶²</td>\n",
       "      <td>TWA471306001</td>\n",
       "    </tr>\n",
       "    <tr>\n",
       "      <th>...</th>\n",
       "      <td>...</td>\n",
       "      <td>...</td>\n",
       "      <td>...</td>\n",
       "    </tr>\n",
       "    <tr>\n",
       "      <th>1048570</th>\n",
       "      <td>9IWSYOb4iwt4HQwiYZHogHJ8x/D+WfzJ+TqDm6furwc=</td>\n",
       "      <td>Fanfare Royale</td>\n",
       "      <td>GBCRL1100130</td>\n",
       "    </tr>\n",
       "    <tr>\n",
       "      <th>1048571</th>\n",
       "      <td>t1vq3y9JHURWs51aK5iT+PiwS4mERjxj2fQW16/xliY=</td>\n",
       "      <td>Sunset</td>\n",
       "      <td>PLL431688926</td>\n",
       "    </tr>\n",
       "    <tr>\n",
       "      <th>1048572</th>\n",
       "      <td>2MpU7KNxhakVbZ6RgrTdq6Tr3hEtCCskH1dBUMwfRgA=</td>\n",
       "      <td>Super Mario Kart - Ghost Valley</td>\n",
       "      <td>AUXN21415808</td>\n",
       "    </tr>\n",
       "    <tr>\n",
       "      <th>1048573</th>\n",
       "      <td>O/E6/qwfVrHxKDQbQa2q2KphIsPZ3iVX/0UgYxTCrok=</td>\n",
       "      <td>Let It Be</td>\n",
       "      <td>USA371357737</td>\n",
       "    </tr>\n",
       "    <tr>\n",
       "      <th>1048574</th>\n",
       "      <td>sFLj6rLpJ7QCI9o/5BuNk/TnMaGDmiW5DbVn67ySkPI=</td>\n",
       "      <td>Fuck Your Funky</td>\n",
       "      <td>DEW871408117</td>\n",
       "    </tr>\n",
       "  </tbody>\n",
       "</table>\n",
       "<p>1048575 rows × 3 columns</p>\n",
       "</div>"
      ],
      "text/plain": [
       "                                              song_id  \\\n",
       "0        LP7pLJoJFBvyuUwvu+oLzjT+bI+UeBPURCecJsX1jjs=   \n",
       "1        ClazTFnk6r0Bnuie44bocdNMM3rdlrq0bCGAsGUWcHE=   \n",
       "2        u2ja/bZE3zhCGxvbbOB3zOoUjx27u40cf5g09UXMoKQ=   \n",
       "3        92Fqsy0+p6+RHe2EoLKjHahORHR1Kq1TBJoClW9v+Ts=   \n",
       "4        0QFmz/+rJy1Q56C1DuYqT9hKKqi5TUqx0sN0IwvoHrw=   \n",
       "...                                               ...   \n",
       "1048570  9IWSYOb4iwt4HQwiYZHogHJ8x/D+WfzJ+TqDm6furwc=   \n",
       "1048571  t1vq3y9JHURWs51aK5iT+PiwS4mERjxj2fQW16/xliY=   \n",
       "1048572  2MpU7KNxhakVbZ6RgrTdq6Tr3hEtCCskH1dBUMwfRgA=   \n",
       "1048573  O/E6/qwfVrHxKDQbQa2q2KphIsPZ3iVX/0UgYxTCrok=   \n",
       "1048574  sFLj6rLpJ7QCI9o/5BuNk/TnMaGDmiW5DbVn67ySkPI=   \n",
       "\n",
       "                                    name          isrc  \n",
       "0                                 æˆ‘å€‘  TWUM71200043  \n",
       "1                        Let Me Love You  QMZSY1600015  \n",
       "2                              åŽŸè«’æˆ‘  TWA530887303  \n",
       "3                                Classic  USSM11301446  \n",
       "4                           æ„›æŠ•ç¾…ç¶²  TWA471306001  \n",
       "...                                  ...           ...  \n",
       "1048570                   Fanfare Royale  GBCRL1100130  \n",
       "1048571                           Sunset  PLL431688926  \n",
       "1048572  Super Mario Kart - Ghost Valley  AUXN21415808  \n",
       "1048573                        Let It Be  USA371357737  \n",
       "1048574                  Fuck Your Funky  DEW871408117  \n",
       "\n",
       "[1048575 rows x 3 columns]"
      ]
     },
     "execution_count": 8,
     "metadata": {},
     "output_type": "execute_result"
    }
   ],
   "source": [
    "df3"
   ]
  },
  {
   "cell_type": "code",
   "execution_count": 9,
   "id": "323b6306",
   "metadata": {},
   "outputs": [
    {
     "data": {
      "text/html": [
       "<div>\n",
       "<style scoped>\n",
       "    .dataframe tbody tr th:only-of-type {\n",
       "        vertical-align: middle;\n",
       "    }\n",
       "\n",
       "    .dataframe tbody tr th {\n",
       "        vertical-align: top;\n",
       "    }\n",
       "\n",
       "    .dataframe thead th {\n",
       "        text-align: right;\n",
       "    }\n",
       "</style>\n",
       "<table border=\"1\" class=\"dataframe\">\n",
       "  <thead>\n",
       "    <tr style=\"text-align: right;\">\n",
       "      <th></th>\n",
       "      <th>id</th>\n",
       "      <th>msno</th>\n",
       "      <th>song_id</th>\n",
       "      <th>source_system_tab</th>\n",
       "      <th>source_screen_name</th>\n",
       "      <th>source_type</th>\n",
       "    </tr>\n",
       "  </thead>\n",
       "  <tbody>\n",
       "    <tr>\n",
       "      <th>0</th>\n",
       "      <td>0</td>\n",
       "      <td>V8ruy7SGk7tDm3zA51DPpn6qutt+vmKMBKa21dp54uM=</td>\n",
       "      <td>WmHKgKMlp1lQMecNdNvDMkvIycZYHnFwDT72I5sIssc=</td>\n",
       "      <td>my library</td>\n",
       "      <td>Local playlist more</td>\n",
       "      <td>local-library</td>\n",
       "    </tr>\n",
       "    <tr>\n",
       "      <th>1</th>\n",
       "      <td>1</td>\n",
       "      <td>V8ruy7SGk7tDm3zA51DPpn6qutt+vmKMBKa21dp54uM=</td>\n",
       "      <td>y/rsZ9DC7FwK5F2PK2D5mj+aOBUJAjuu3dZ14NgE0vM=</td>\n",
       "      <td>my library</td>\n",
       "      <td>Local playlist more</td>\n",
       "      <td>local-library</td>\n",
       "    </tr>\n",
       "    <tr>\n",
       "      <th>2</th>\n",
       "      <td>2</td>\n",
       "      <td>/uQAlrAkaczV+nWCd2sPF2ekvXPRipV7q0l+gbLuxjw=</td>\n",
       "      <td>8eZLFOdGVdXBSqoAv5nsLigeH2BvKXzTQYtUM53I0k4=</td>\n",
       "      <td>discover</td>\n",
       "      <td>NaN</td>\n",
       "      <td>song-based-playlist</td>\n",
       "    </tr>\n",
       "    <tr>\n",
       "      <th>3</th>\n",
       "      <td>3</td>\n",
       "      <td>1a6oo/iXKatxQx4eS9zTVD+KlSVaAFbTIqVvwLC1Y0k=</td>\n",
       "      <td>ztCf8thYsS4YN3GcIL/bvoxLm/T5mYBVKOO4C9NiVfQ=</td>\n",
       "      <td>radio</td>\n",
       "      <td>Radio</td>\n",
       "      <td>radio</td>\n",
       "    </tr>\n",
       "    <tr>\n",
       "      <th>4</th>\n",
       "      <td>4</td>\n",
       "      <td>1a6oo/iXKatxQx4eS9zTVD+KlSVaAFbTIqVvwLC1Y0k=</td>\n",
       "      <td>MKVMpslKcQhMaFEgcEQhEfi5+RZhMYlU3eRDpySrH8Y=</td>\n",
       "      <td>radio</td>\n",
       "      <td>Radio</td>\n",
       "      <td>radio</td>\n",
       "    </tr>\n",
       "    <tr>\n",
       "      <th>...</th>\n",
       "      <td>...</td>\n",
       "      <td>...</td>\n",
       "      <td>...</td>\n",
       "      <td>...</td>\n",
       "      <td>...</td>\n",
       "      <td>...</td>\n",
       "    </tr>\n",
       "    <tr>\n",
       "      <th>1048570</th>\n",
       "      <td>1048570</td>\n",
       "      <td>J2a1D0MldMzdUZh99b2V5HQCtAl0bWnWSp45HSU/YH0=</td>\n",
       "      <td>WGGGNQ/g+Z+3CvYBSiL5PAXI8MqNApAT+skNJiHm1mE=</td>\n",
       "      <td>discover</td>\n",
       "      <td>Album more</td>\n",
       "      <td>album</td>\n",
       "    </tr>\n",
       "    <tr>\n",
       "      <th>1048571</th>\n",
       "      <td>1048571</td>\n",
       "      <td>J2a1D0MldMzdUZh99b2V5HQCtAl0bWnWSp45HSU/YH0=</td>\n",
       "      <td>Ka7MiMDNrrXKDOF468tyHz2c6aruoe4K4YH9O21kIrM=</td>\n",
       "      <td>discover</td>\n",
       "      <td>Album more</td>\n",
       "      <td>album</td>\n",
       "    </tr>\n",
       "    <tr>\n",
       "      <th>1048572</th>\n",
       "      <td>1048572</td>\n",
       "      <td>J2a1D0MldMzdUZh99b2V5HQCtAl0bWnWSp45HSU/YH0=</td>\n",
       "      <td>WnX1xlQ8vaDlSal2wzPiJYfaJZex76ya7wvlphajEOU=</td>\n",
       "      <td>discover</td>\n",
       "      <td>Album more</td>\n",
       "      <td>album</td>\n",
       "    </tr>\n",
       "    <tr>\n",
       "      <th>1048573</th>\n",
       "      <td>1048573</td>\n",
       "      <td>J2a1D0MldMzdUZh99b2V5HQCtAl0bWnWSp45HSU/YH0=</td>\n",
       "      <td>CSpYNBusxUao3QvX8hb7kse7X9o7d/QDE3NPlydjLqI=</td>\n",
       "      <td>discover</td>\n",
       "      <td>Album more</td>\n",
       "      <td>album</td>\n",
       "    </tr>\n",
       "    <tr>\n",
       "      <th>1048574</th>\n",
       "      <td>1048574</td>\n",
       "      <td>J2a1D0MldMzdUZh99b2V5HQCtAl0bWnWSp45HSU/YH0=</td>\n",
       "      <td>3oktJO/2MngRxpaCJPHL2XXUICv+DqonwhUj270cFSY=</td>\n",
       "      <td>discover</td>\n",
       "      <td>Album more</td>\n",
       "      <td>album</td>\n",
       "    </tr>\n",
       "  </tbody>\n",
       "</table>\n",
       "<p>1048575 rows × 6 columns</p>\n",
       "</div>"
      ],
      "text/plain": [
       "              id                                          msno  \\\n",
       "0              0  V8ruy7SGk7tDm3zA51DPpn6qutt+vmKMBKa21dp54uM=   \n",
       "1              1  V8ruy7SGk7tDm3zA51DPpn6qutt+vmKMBKa21dp54uM=   \n",
       "2              2  /uQAlrAkaczV+nWCd2sPF2ekvXPRipV7q0l+gbLuxjw=   \n",
       "3              3  1a6oo/iXKatxQx4eS9zTVD+KlSVaAFbTIqVvwLC1Y0k=   \n",
       "4              4  1a6oo/iXKatxQx4eS9zTVD+KlSVaAFbTIqVvwLC1Y0k=   \n",
       "...          ...                                           ...   \n",
       "1048570  1048570  J2a1D0MldMzdUZh99b2V5HQCtAl0bWnWSp45HSU/YH0=   \n",
       "1048571  1048571  J2a1D0MldMzdUZh99b2V5HQCtAl0bWnWSp45HSU/YH0=   \n",
       "1048572  1048572  J2a1D0MldMzdUZh99b2V5HQCtAl0bWnWSp45HSU/YH0=   \n",
       "1048573  1048573  J2a1D0MldMzdUZh99b2V5HQCtAl0bWnWSp45HSU/YH0=   \n",
       "1048574  1048574  J2a1D0MldMzdUZh99b2V5HQCtAl0bWnWSp45HSU/YH0=   \n",
       "\n",
       "                                              song_id source_system_tab  \\\n",
       "0        WmHKgKMlp1lQMecNdNvDMkvIycZYHnFwDT72I5sIssc=        my library   \n",
       "1        y/rsZ9DC7FwK5F2PK2D5mj+aOBUJAjuu3dZ14NgE0vM=        my library   \n",
       "2        8eZLFOdGVdXBSqoAv5nsLigeH2BvKXzTQYtUM53I0k4=          discover   \n",
       "3        ztCf8thYsS4YN3GcIL/bvoxLm/T5mYBVKOO4C9NiVfQ=             radio   \n",
       "4        MKVMpslKcQhMaFEgcEQhEfi5+RZhMYlU3eRDpySrH8Y=             radio   \n",
       "...                                               ...               ...   \n",
       "1048570  WGGGNQ/g+Z+3CvYBSiL5PAXI8MqNApAT+skNJiHm1mE=          discover   \n",
       "1048571  Ka7MiMDNrrXKDOF468tyHz2c6aruoe4K4YH9O21kIrM=          discover   \n",
       "1048572  WnX1xlQ8vaDlSal2wzPiJYfaJZex76ya7wvlphajEOU=          discover   \n",
       "1048573  CSpYNBusxUao3QvX8hb7kse7X9o7d/QDE3NPlydjLqI=          discover   \n",
       "1048574  3oktJO/2MngRxpaCJPHL2XXUICv+DqonwhUj270cFSY=          discover   \n",
       "\n",
       "          source_screen_name          source_type  \n",
       "0        Local playlist more        local-library  \n",
       "1        Local playlist more        local-library  \n",
       "2                        NaN  song-based-playlist  \n",
       "3                      Radio                radio  \n",
       "4                      Radio                radio  \n",
       "...                      ...                  ...  \n",
       "1048570           Album more                album  \n",
       "1048571           Album more                album  \n",
       "1048572           Album more                album  \n",
       "1048573           Album more                album  \n",
       "1048574           Album more                album  \n",
       "\n",
       "[1048575 rows x 6 columns]"
      ]
     },
     "execution_count": 9,
     "metadata": {},
     "output_type": "execute_result"
    }
   ],
   "source": [
    "df4"
   ]
  },
  {
   "cell_type": "code",
   "execution_count": 10,
   "id": "1a18bea3",
   "metadata": {},
   "outputs": [
    {
     "data": {
      "text/html": [
       "<div>\n",
       "<style scoped>\n",
       "    .dataframe tbody tr th:only-of-type {\n",
       "        vertical-align: middle;\n",
       "    }\n",
       "\n",
       "    .dataframe tbody tr th {\n",
       "        vertical-align: top;\n",
       "    }\n",
       "\n",
       "    .dataframe thead th {\n",
       "        text-align: right;\n",
       "    }\n",
       "</style>\n",
       "<table border=\"1\" class=\"dataframe\">\n",
       "  <thead>\n",
       "    <tr style=\"text-align: right;\">\n",
       "      <th></th>\n",
       "      <th>msno</th>\n",
       "      <th>song_id</th>\n",
       "      <th>source_system_tab</th>\n",
       "      <th>source_screen_name</th>\n",
       "      <th>source_type</th>\n",
       "      <th>target</th>\n",
       "    </tr>\n",
       "  </thead>\n",
       "  <tbody>\n",
       "    <tr>\n",
       "      <th>0</th>\n",
       "      <td>FGtllVqz18RPiwJj/edr2gV78zirAiY/9SmYvia+kCg=</td>\n",
       "      <td>BBzumQNXUHKdEBOB7mAJuzok+IJA1c2Ryg/yzTF6tik=</td>\n",
       "      <td>explore</td>\n",
       "      <td>Explore</td>\n",
       "      <td>online-playlist</td>\n",
       "      <td>1</td>\n",
       "    </tr>\n",
       "    <tr>\n",
       "      <th>1</th>\n",
       "      <td>Xumu+NIjS6QYVxDS4/t3SawvJ7viT9hPKXmf0RtLNx8=</td>\n",
       "      <td>bhp/MpSNoqoxOIB+/l8WPqu6jldth4DIpCm3ayXnJqM=</td>\n",
       "      <td>my library</td>\n",
       "      <td>Local playlist more</td>\n",
       "      <td>local-playlist</td>\n",
       "      <td>1</td>\n",
       "    </tr>\n",
       "    <tr>\n",
       "      <th>2</th>\n",
       "      <td>Xumu+NIjS6QYVxDS4/t3SawvJ7viT9hPKXmf0RtLNx8=</td>\n",
       "      <td>JNWfrrC7zNN7BdMpsISKa4Mw+xVJYNnxXh3/Epw7QgY=</td>\n",
       "      <td>my library</td>\n",
       "      <td>Local playlist more</td>\n",
       "      <td>local-playlist</td>\n",
       "      <td>1</td>\n",
       "    </tr>\n",
       "    <tr>\n",
       "      <th>3</th>\n",
       "      <td>Xumu+NIjS6QYVxDS4/t3SawvJ7viT9hPKXmf0RtLNx8=</td>\n",
       "      <td>2A87tzfnJTSWqD7gIZHisolhe4DMdzkbd6LzO1KHjNs=</td>\n",
       "      <td>my library</td>\n",
       "      <td>Local playlist more</td>\n",
       "      <td>local-playlist</td>\n",
       "      <td>1</td>\n",
       "    </tr>\n",
       "    <tr>\n",
       "      <th>4</th>\n",
       "      <td>FGtllVqz18RPiwJj/edr2gV78zirAiY/9SmYvia+kCg=</td>\n",
       "      <td>3qm6XTZ6MOCU11x8FIVbAGH5l5uMkT3/ZalWG1oo2Gc=</td>\n",
       "      <td>explore</td>\n",
       "      <td>Explore</td>\n",
       "      <td>online-playlist</td>\n",
       "      <td>1</td>\n",
       "    </tr>\n",
       "    <tr>\n",
       "      <th>...</th>\n",
       "      <td>...</td>\n",
       "      <td>...</td>\n",
       "      <td>...</td>\n",
       "      <td>...</td>\n",
       "      <td>...</td>\n",
       "      <td>...</td>\n",
       "    </tr>\n",
       "    <tr>\n",
       "      <th>1048570</th>\n",
       "      <td>xF+utWsPHfbvt60HOgU/ZYQ0HnboeyRf0UXo5pPyP0Q=</td>\n",
       "      <td>gLwsZgboyA4rhNmspKQpnvdsLFdv4fzQMBkcdvnCfk8=</td>\n",
       "      <td>my library</td>\n",
       "      <td>Local playlist more</td>\n",
       "      <td>local-library</td>\n",
       "      <td>0</td>\n",
       "    </tr>\n",
       "    <tr>\n",
       "      <th>1048571</th>\n",
       "      <td>P3obZgg2TmWGlUbGb7rz/G2CCX7cpYJ691Iyvfv2j4g=</td>\n",
       "      <td>iUYmqmX3CXBXzFIn2RiJLMLnwZ3/TSYhf9NDuZGqCBg=</td>\n",
       "      <td>discover</td>\n",
       "      <td>Discover Chart</td>\n",
       "      <td>online-playlist</td>\n",
       "      <td>1</td>\n",
       "    </tr>\n",
       "    <tr>\n",
       "      <th>1048572</th>\n",
       "      <td>P3obZgg2TmWGlUbGb7rz/G2CCX7cpYJ691Iyvfv2j4g=</td>\n",
       "      <td>IKoZne4v1VzCh7r0lVmOn1hOUdTMkAiniHnKELDq8es=</td>\n",
       "      <td>discover</td>\n",
       "      <td>Discover Chart</td>\n",
       "      <td>online-playlist</td>\n",
       "      <td>1</td>\n",
       "    </tr>\n",
       "    <tr>\n",
       "      <th>1048573</th>\n",
       "      <td>FBn5lX1m8BNAFevy7oiAe8JBxi20akyXBW7zG0MBVbQ=</td>\n",
       "      <td>T86YHdD4C9JSc274b1IlMkLuNdz4BQRB50fWWE7hx9g=</td>\n",
       "      <td>discover</td>\n",
       "      <td>Online playlist more</td>\n",
       "      <td>online-playlist</td>\n",
       "      <td>1</td>\n",
       "    </tr>\n",
       "    <tr>\n",
       "      <th>1048574</th>\n",
       "      <td>kXkMzhyacFrtSI922IBs0BcmNxKedV4+837lljPNTQA=</td>\n",
       "      <td>jHMqK5wu5C0txl0QCxpkSM1xbIev60ii+dc99LXu8EI=</td>\n",
       "      <td>discover</td>\n",
       "      <td>Online playlist more</td>\n",
       "      <td>online-playlist</td>\n",
       "      <td>1</td>\n",
       "    </tr>\n",
       "  </tbody>\n",
       "</table>\n",
       "<p>1048575 rows × 6 columns</p>\n",
       "</div>"
      ],
      "text/plain": [
       "                                                 msno  \\\n",
       "0        FGtllVqz18RPiwJj/edr2gV78zirAiY/9SmYvia+kCg=   \n",
       "1        Xumu+NIjS6QYVxDS4/t3SawvJ7viT9hPKXmf0RtLNx8=   \n",
       "2        Xumu+NIjS6QYVxDS4/t3SawvJ7viT9hPKXmf0RtLNx8=   \n",
       "3        Xumu+NIjS6QYVxDS4/t3SawvJ7viT9hPKXmf0RtLNx8=   \n",
       "4        FGtllVqz18RPiwJj/edr2gV78zirAiY/9SmYvia+kCg=   \n",
       "...                                               ...   \n",
       "1048570  xF+utWsPHfbvt60HOgU/ZYQ0HnboeyRf0UXo5pPyP0Q=   \n",
       "1048571  P3obZgg2TmWGlUbGb7rz/G2CCX7cpYJ691Iyvfv2j4g=   \n",
       "1048572  P3obZgg2TmWGlUbGb7rz/G2CCX7cpYJ691Iyvfv2j4g=   \n",
       "1048573  FBn5lX1m8BNAFevy7oiAe8JBxi20akyXBW7zG0MBVbQ=   \n",
       "1048574  kXkMzhyacFrtSI922IBs0BcmNxKedV4+837lljPNTQA=   \n",
       "\n",
       "                                              song_id source_system_tab  \\\n",
       "0        BBzumQNXUHKdEBOB7mAJuzok+IJA1c2Ryg/yzTF6tik=           explore   \n",
       "1        bhp/MpSNoqoxOIB+/l8WPqu6jldth4DIpCm3ayXnJqM=        my library   \n",
       "2        JNWfrrC7zNN7BdMpsISKa4Mw+xVJYNnxXh3/Epw7QgY=        my library   \n",
       "3        2A87tzfnJTSWqD7gIZHisolhe4DMdzkbd6LzO1KHjNs=        my library   \n",
       "4        3qm6XTZ6MOCU11x8FIVbAGH5l5uMkT3/ZalWG1oo2Gc=           explore   \n",
       "...                                               ...               ...   \n",
       "1048570  gLwsZgboyA4rhNmspKQpnvdsLFdv4fzQMBkcdvnCfk8=        my library   \n",
       "1048571  iUYmqmX3CXBXzFIn2RiJLMLnwZ3/TSYhf9NDuZGqCBg=          discover   \n",
       "1048572  IKoZne4v1VzCh7r0lVmOn1hOUdTMkAiniHnKELDq8es=          discover   \n",
       "1048573  T86YHdD4C9JSc274b1IlMkLuNdz4BQRB50fWWE7hx9g=          discover   \n",
       "1048574  jHMqK5wu5C0txl0QCxpkSM1xbIev60ii+dc99LXu8EI=          discover   \n",
       "\n",
       "           source_screen_name      source_type  target  \n",
       "0                     Explore  online-playlist       1  \n",
       "1         Local playlist more   local-playlist       1  \n",
       "2         Local playlist more   local-playlist       1  \n",
       "3         Local playlist more   local-playlist       1  \n",
       "4                     Explore  online-playlist       1  \n",
       "...                       ...              ...     ...  \n",
       "1048570   Local playlist more    local-library       0  \n",
       "1048571        Discover Chart  online-playlist       1  \n",
       "1048572        Discover Chart  online-playlist       1  \n",
       "1048573  Online playlist more  online-playlist       1  \n",
       "1048574  Online playlist more  online-playlist       1  \n",
       "\n",
       "[1048575 rows x 6 columns]"
      ]
     },
     "execution_count": 10,
     "metadata": {},
     "output_type": "execute_result"
    }
   ],
   "source": [
    "df5"
   ]
  },
  {
   "cell_type": "code",
   "execution_count": 11,
   "id": "d093f3c1",
   "metadata": {},
   "outputs": [
    {
     "data": {
      "text/html": [
       "<div>\n",
       "<style scoped>\n",
       "    .dataframe tbody tr th:only-of-type {\n",
       "        vertical-align: middle;\n",
       "    }\n",
       "\n",
       "    .dataframe tbody tr th {\n",
       "        vertical-align: top;\n",
       "    }\n",
       "\n",
       "    .dataframe thead th {\n",
       "        text-align: right;\n",
       "    }\n",
       "</style>\n",
       "<table border=\"1\" class=\"dataframe\">\n",
       "  <thead>\n",
       "    <tr style=\"text-align: right;\">\n",
       "      <th></th>\n",
       "      <th>msno</th>\n",
       "      <th>city</th>\n",
       "      <th>bd</th>\n",
       "      <th>gender</th>\n",
       "      <th>registered_via</th>\n",
       "      <th>registration_init_time</th>\n",
       "      <th>expiration_date</th>\n",
       "    </tr>\n",
       "  </thead>\n",
       "  <tbody>\n",
       "    <tr>\n",
       "      <th>0</th>\n",
       "      <td>XQxgAYj3klVKjR3oxPPXYYFp4soD4TuBghkhMTD4oTw=</td>\n",
       "      <td>1</td>\n",
       "      <td>0</td>\n",
       "      <td>NaN</td>\n",
       "      <td>7</td>\n",
       "      <td>20110820</td>\n",
       "      <td>20170920</td>\n",
       "    </tr>\n",
       "    <tr>\n",
       "      <th>1</th>\n",
       "      <td>UizsfmJb9mV54qE9hCYyU07Va97c0lCRLEQX3ae+ztM=</td>\n",
       "      <td>1</td>\n",
       "      <td>0</td>\n",
       "      <td>NaN</td>\n",
       "      <td>7</td>\n",
       "      <td>20150628</td>\n",
       "      <td>20170622</td>\n",
       "    </tr>\n",
       "    <tr>\n",
       "      <th>2</th>\n",
       "      <td>D8nEhsIOBSoE6VthTaqDX8U6lqjJ7dLdr72mOyLya2A=</td>\n",
       "      <td>1</td>\n",
       "      <td>0</td>\n",
       "      <td>NaN</td>\n",
       "      <td>4</td>\n",
       "      <td>20160411</td>\n",
       "      <td>20170712</td>\n",
       "    </tr>\n",
       "    <tr>\n",
       "      <th>3</th>\n",
       "      <td>mCuD+tZ1hERA/o5GPqk38e041J8ZsBaLcu7nGoIIvhI=</td>\n",
       "      <td>1</td>\n",
       "      <td>0</td>\n",
       "      <td>NaN</td>\n",
       "      <td>9</td>\n",
       "      <td>20150906</td>\n",
       "      <td>20150907</td>\n",
       "    </tr>\n",
       "    <tr>\n",
       "      <th>4</th>\n",
       "      <td>q4HRBfVSssAFS9iRfxWrohxuk9kCYMKjHOEagUMV6rQ=</td>\n",
       "      <td>1</td>\n",
       "      <td>0</td>\n",
       "      <td>NaN</td>\n",
       "      <td>4</td>\n",
       "      <td>20170126</td>\n",
       "      <td>20170613</td>\n",
       "    </tr>\n",
       "  </tbody>\n",
       "</table>\n",
       "</div>"
      ],
      "text/plain": [
       "                                           msno  city  bd gender  \\\n",
       "0  XQxgAYj3klVKjR3oxPPXYYFp4soD4TuBghkhMTD4oTw=     1   0    NaN   \n",
       "1  UizsfmJb9mV54qE9hCYyU07Va97c0lCRLEQX3ae+ztM=     1   0    NaN   \n",
       "2  D8nEhsIOBSoE6VthTaqDX8U6lqjJ7dLdr72mOyLya2A=     1   0    NaN   \n",
       "3  mCuD+tZ1hERA/o5GPqk38e041J8ZsBaLcu7nGoIIvhI=     1   0    NaN   \n",
       "4  q4HRBfVSssAFS9iRfxWrohxuk9kCYMKjHOEagUMV6rQ=     1   0    NaN   \n",
       "\n",
       "   registered_via  registration_init_time  expiration_date  \n",
       "0               7                20110820         20170920  \n",
       "1               7                20150628         20170622  \n",
       "2               4                20160411         20170712  \n",
       "3               9                20150906         20150907  \n",
       "4               4                20170126         20170613  "
      ]
     },
     "execution_count": 11,
     "metadata": {},
     "output_type": "execute_result"
    }
   ],
   "source": [
    "df.head()"
   ]
  },
  {
   "cell_type": "code",
   "execution_count": 12,
   "id": "e231fa67",
   "metadata": {},
   "outputs": [
    {
     "data": {
      "text/html": [
       "<div>\n",
       "<style scoped>\n",
       "    .dataframe tbody tr th:only-of-type {\n",
       "        vertical-align: middle;\n",
       "    }\n",
       "\n",
       "    .dataframe tbody tr th {\n",
       "        vertical-align: top;\n",
       "    }\n",
       "\n",
       "    .dataframe thead th {\n",
       "        text-align: right;\n",
       "    }\n",
       "</style>\n",
       "<table border=\"1\" class=\"dataframe\">\n",
       "  <thead>\n",
       "    <tr style=\"text-align: right;\">\n",
       "      <th></th>\n",
       "      <th>id</th>\n",
       "      <th>target</th>\n",
       "    </tr>\n",
       "  </thead>\n",
       "  <tbody>\n",
       "    <tr>\n",
       "      <th>0</th>\n",
       "      <td>0</td>\n",
       "      <td>0.5</td>\n",
       "    </tr>\n",
       "    <tr>\n",
       "      <th>1</th>\n",
       "      <td>1</td>\n",
       "      <td>0.5</td>\n",
       "    </tr>\n",
       "    <tr>\n",
       "      <th>2</th>\n",
       "      <td>2</td>\n",
       "      <td>0.5</td>\n",
       "    </tr>\n",
       "    <tr>\n",
       "      <th>3</th>\n",
       "      <td>3</td>\n",
       "      <td>0.5</td>\n",
       "    </tr>\n",
       "    <tr>\n",
       "      <th>4</th>\n",
       "      <td>4</td>\n",
       "      <td>0.5</td>\n",
       "    </tr>\n",
       "  </tbody>\n",
       "</table>\n",
       "</div>"
      ],
      "text/plain": [
       "   id  target\n",
       "0   0     0.5\n",
       "1   1     0.5\n",
       "2   2     0.5\n",
       "3   3     0.5\n",
       "4   4     0.5"
      ]
     },
     "execution_count": 12,
     "metadata": {},
     "output_type": "execute_result"
    }
   ],
   "source": [
    "df1.head()"
   ]
  },
  {
   "cell_type": "code",
   "execution_count": 13,
   "id": "733e057d",
   "metadata": {},
   "outputs": [
    {
     "data": {
      "text/html": [
       "<div>\n",
       "<style scoped>\n",
       "    .dataframe tbody tr th:only-of-type {\n",
       "        vertical-align: middle;\n",
       "    }\n",
       "\n",
       "    .dataframe tbody tr th {\n",
       "        vertical-align: top;\n",
       "    }\n",
       "\n",
       "    .dataframe thead th {\n",
       "        text-align: right;\n",
       "    }\n",
       "</style>\n",
       "<table border=\"1\" class=\"dataframe\">\n",
       "  <thead>\n",
       "    <tr style=\"text-align: right;\">\n",
       "      <th></th>\n",
       "      <th>song_id</th>\n",
       "      <th>song_length</th>\n",
       "      <th>genre_ids</th>\n",
       "      <th>artist_name</th>\n",
       "      <th>composer</th>\n",
       "      <th>lyricist</th>\n",
       "      <th>language</th>\n",
       "    </tr>\n",
       "  </thead>\n",
       "  <tbody>\n",
       "    <tr>\n",
       "      <th>0</th>\n",
       "      <td>CXoTN1eb7AI+DntdU1vbcwGRV4SCIDxZu+YD8JP8r4E=</td>\n",
       "      <td>247640</td>\n",
       "      <td>465</td>\n",
       "      <td>å¼µä¿¡å“² (Jeff Chang)</td>\n",
       "      <td>è‘£è²ž</td>\n",
       "      <td>ä½•å•Ÿå¼˜</td>\n",
       "      <td>3.0</td>\n",
       "    </tr>\n",
       "    <tr>\n",
       "      <th>1</th>\n",
       "      <td>o0kFgae9QtnYgRkVPqLJwa05zIhRlUjfF7O1tDw0ZDU=</td>\n",
       "      <td>197328</td>\n",
       "      <td>444</td>\n",
       "      <td>BLACKPINK</td>\n",
       "      <td>TEDDY|  FUTURE BOUNCE|  Bekuh BOOM</td>\n",
       "      <td>TEDDY</td>\n",
       "      <td>31.0</td>\n",
       "    </tr>\n",
       "    <tr>\n",
       "      <th>2</th>\n",
       "      <td>DwVvVurfpuz+XPuFvucclVQEyPqcpUkHR0ne1RQzPs0=</td>\n",
       "      <td>231781</td>\n",
       "      <td>465</td>\n",
       "      <td>SUPER JUNIOR</td>\n",
       "      <td>NaN</td>\n",
       "      <td>NaN</td>\n",
       "      <td>31.0</td>\n",
       "    </tr>\n",
       "    <tr>\n",
       "      <th>3</th>\n",
       "      <td>dKMBWoZyScdxSkihKG+Vf47nc18N9q4m58+b4e7dSSE=</td>\n",
       "      <td>273554</td>\n",
       "      <td>465</td>\n",
       "      <td>S.H.E</td>\n",
       "      <td>æ¹¯å°åº·</td>\n",
       "      <td>å¾ä¸–ç</td>\n",
       "      <td>3.0</td>\n",
       "    </tr>\n",
       "    <tr>\n",
       "      <th>4</th>\n",
       "      <td>W3bqWd3T+VeHFzHAUfARgW9AvVRaF4N5Yzm4Mr6Eo/o=</td>\n",
       "      <td>140329</td>\n",
       "      <td>726</td>\n",
       "      <td>è²´æ—ç²¾é¸</td>\n",
       "      <td>Traditional</td>\n",
       "      <td>Traditional</td>\n",
       "      <td>52.0</td>\n",
       "    </tr>\n",
       "  </tbody>\n",
       "</table>\n",
       "</div>"
      ],
      "text/plain": [
       "                                        song_id  song_length genre_ids  \\\n",
       "0  CXoTN1eb7AI+DntdU1vbcwGRV4SCIDxZu+YD8JP8r4E=       247640       465   \n",
       "1  o0kFgae9QtnYgRkVPqLJwa05zIhRlUjfF7O1tDw0ZDU=       197328       444   \n",
       "2  DwVvVurfpuz+XPuFvucclVQEyPqcpUkHR0ne1RQzPs0=       231781       465   \n",
       "3  dKMBWoZyScdxSkihKG+Vf47nc18N9q4m58+b4e7dSSE=       273554       465   \n",
       "4  W3bqWd3T+VeHFzHAUfARgW9AvVRaF4N5Yzm4Mr6Eo/o=       140329       726   \n",
       "\n",
       "              artist_name                            composer     lyricist  \\\n",
       "0  å¼µä¿¡å“² (Jeff Chang)                              è‘£è²ž    ä½•å•Ÿå¼˜   \n",
       "1               BLACKPINK  TEDDY|  FUTURE BOUNCE|  Bekuh BOOM        TEDDY   \n",
       "2            SUPER JUNIOR                                 NaN          NaN   \n",
       "3                   S.H.E                           æ¹¯å°åº·    å¾ä¸–ç   \n",
       "4            è²´æ—ç²¾é¸                         Traditional  Traditional   \n",
       "\n",
       "   language  \n",
       "0       3.0  \n",
       "1      31.0  \n",
       "2      31.0  \n",
       "3       3.0  \n",
       "4      52.0  "
      ]
     },
     "execution_count": 13,
     "metadata": {},
     "output_type": "execute_result"
    }
   ],
   "source": [
    "df2.head()"
   ]
  },
  {
   "cell_type": "code",
   "execution_count": 14,
   "id": "12ccc06b",
   "metadata": {},
   "outputs": [
    {
     "data": {
      "text/html": [
       "<div>\n",
       "<style scoped>\n",
       "    .dataframe tbody tr th:only-of-type {\n",
       "        vertical-align: middle;\n",
       "    }\n",
       "\n",
       "    .dataframe tbody tr th {\n",
       "        vertical-align: top;\n",
       "    }\n",
       "\n",
       "    .dataframe thead th {\n",
       "        text-align: right;\n",
       "    }\n",
       "</style>\n",
       "<table border=\"1\" class=\"dataframe\">\n",
       "  <thead>\n",
       "    <tr style=\"text-align: right;\">\n",
       "      <th></th>\n",
       "      <th>song_id</th>\n",
       "      <th>name</th>\n",
       "      <th>isrc</th>\n",
       "    </tr>\n",
       "  </thead>\n",
       "  <tbody>\n",
       "    <tr>\n",
       "      <th>0</th>\n",
       "      <td>LP7pLJoJFBvyuUwvu+oLzjT+bI+UeBPURCecJsX1jjs=</td>\n",
       "      <td>æˆ‘å€‘</td>\n",
       "      <td>TWUM71200043</td>\n",
       "    </tr>\n",
       "    <tr>\n",
       "      <th>1</th>\n",
       "      <td>ClazTFnk6r0Bnuie44bocdNMM3rdlrq0bCGAsGUWcHE=</td>\n",
       "      <td>Let Me Love You</td>\n",
       "      <td>QMZSY1600015</td>\n",
       "    </tr>\n",
       "    <tr>\n",
       "      <th>2</th>\n",
       "      <td>u2ja/bZE3zhCGxvbbOB3zOoUjx27u40cf5g09UXMoKQ=</td>\n",
       "      <td>åŽŸè«’æˆ‘</td>\n",
       "      <td>TWA530887303</td>\n",
       "    </tr>\n",
       "    <tr>\n",
       "      <th>3</th>\n",
       "      <td>92Fqsy0+p6+RHe2EoLKjHahORHR1Kq1TBJoClW9v+Ts=</td>\n",
       "      <td>Classic</td>\n",
       "      <td>USSM11301446</td>\n",
       "    </tr>\n",
       "    <tr>\n",
       "      <th>4</th>\n",
       "      <td>0QFmz/+rJy1Q56C1DuYqT9hKKqi5TUqx0sN0IwvoHrw=</td>\n",
       "      <td>æ„›æŠ•ç¾…ç¶²</td>\n",
       "      <td>TWA471306001</td>\n",
       "    </tr>\n",
       "  </tbody>\n",
       "</table>\n",
       "</div>"
      ],
      "text/plain": [
       "                                        song_id             name          isrc\n",
       "0  LP7pLJoJFBvyuUwvu+oLzjT+bI+UeBPURCecJsX1jjs=           æˆ‘å€‘  TWUM71200043\n",
       "1  ClazTFnk6r0Bnuie44bocdNMM3rdlrq0bCGAsGUWcHE=  Let Me Love You  QMZSY1600015\n",
       "2  u2ja/bZE3zhCGxvbbOB3zOoUjx27u40cf5g09UXMoKQ=        åŽŸè«’æˆ‘  TWA530887303\n",
       "3  92Fqsy0+p6+RHe2EoLKjHahORHR1Kq1TBJoClW9v+Ts=          Classic  USSM11301446\n",
       "4  0QFmz/+rJy1Q56C1DuYqT9hKKqi5TUqx0sN0IwvoHrw=     æ„›æŠ•ç¾…ç¶²  TWA471306001"
      ]
     },
     "execution_count": 14,
     "metadata": {},
     "output_type": "execute_result"
    }
   ],
   "source": [
    "df3.head()"
   ]
  },
  {
   "cell_type": "code",
   "execution_count": 15,
   "id": "be4012e3",
   "metadata": {},
   "outputs": [
    {
     "data": {
      "text/html": [
       "<div>\n",
       "<style scoped>\n",
       "    .dataframe tbody tr th:only-of-type {\n",
       "        vertical-align: middle;\n",
       "    }\n",
       "\n",
       "    .dataframe tbody tr th {\n",
       "        vertical-align: top;\n",
       "    }\n",
       "\n",
       "    .dataframe thead th {\n",
       "        text-align: right;\n",
       "    }\n",
       "</style>\n",
       "<table border=\"1\" class=\"dataframe\">\n",
       "  <thead>\n",
       "    <tr style=\"text-align: right;\">\n",
       "      <th></th>\n",
       "      <th>id</th>\n",
       "      <th>msno</th>\n",
       "      <th>song_id</th>\n",
       "      <th>source_system_tab</th>\n",
       "      <th>source_screen_name</th>\n",
       "      <th>source_type</th>\n",
       "    </tr>\n",
       "  </thead>\n",
       "  <tbody>\n",
       "    <tr>\n",
       "      <th>0</th>\n",
       "      <td>0</td>\n",
       "      <td>V8ruy7SGk7tDm3zA51DPpn6qutt+vmKMBKa21dp54uM=</td>\n",
       "      <td>WmHKgKMlp1lQMecNdNvDMkvIycZYHnFwDT72I5sIssc=</td>\n",
       "      <td>my library</td>\n",
       "      <td>Local playlist more</td>\n",
       "      <td>local-library</td>\n",
       "    </tr>\n",
       "    <tr>\n",
       "      <th>1</th>\n",
       "      <td>1</td>\n",
       "      <td>V8ruy7SGk7tDm3zA51DPpn6qutt+vmKMBKa21dp54uM=</td>\n",
       "      <td>y/rsZ9DC7FwK5F2PK2D5mj+aOBUJAjuu3dZ14NgE0vM=</td>\n",
       "      <td>my library</td>\n",
       "      <td>Local playlist more</td>\n",
       "      <td>local-library</td>\n",
       "    </tr>\n",
       "    <tr>\n",
       "      <th>2</th>\n",
       "      <td>2</td>\n",
       "      <td>/uQAlrAkaczV+nWCd2sPF2ekvXPRipV7q0l+gbLuxjw=</td>\n",
       "      <td>8eZLFOdGVdXBSqoAv5nsLigeH2BvKXzTQYtUM53I0k4=</td>\n",
       "      <td>discover</td>\n",
       "      <td>NaN</td>\n",
       "      <td>song-based-playlist</td>\n",
       "    </tr>\n",
       "    <tr>\n",
       "      <th>3</th>\n",
       "      <td>3</td>\n",
       "      <td>1a6oo/iXKatxQx4eS9zTVD+KlSVaAFbTIqVvwLC1Y0k=</td>\n",
       "      <td>ztCf8thYsS4YN3GcIL/bvoxLm/T5mYBVKOO4C9NiVfQ=</td>\n",
       "      <td>radio</td>\n",
       "      <td>Radio</td>\n",
       "      <td>radio</td>\n",
       "    </tr>\n",
       "    <tr>\n",
       "      <th>4</th>\n",
       "      <td>4</td>\n",
       "      <td>1a6oo/iXKatxQx4eS9zTVD+KlSVaAFbTIqVvwLC1Y0k=</td>\n",
       "      <td>MKVMpslKcQhMaFEgcEQhEfi5+RZhMYlU3eRDpySrH8Y=</td>\n",
       "      <td>radio</td>\n",
       "      <td>Radio</td>\n",
       "      <td>radio</td>\n",
       "    </tr>\n",
       "  </tbody>\n",
       "</table>\n",
       "</div>"
      ],
      "text/plain": [
       "   id                                          msno  \\\n",
       "0   0  V8ruy7SGk7tDm3zA51DPpn6qutt+vmKMBKa21dp54uM=   \n",
       "1   1  V8ruy7SGk7tDm3zA51DPpn6qutt+vmKMBKa21dp54uM=   \n",
       "2   2  /uQAlrAkaczV+nWCd2sPF2ekvXPRipV7q0l+gbLuxjw=   \n",
       "3   3  1a6oo/iXKatxQx4eS9zTVD+KlSVaAFbTIqVvwLC1Y0k=   \n",
       "4   4  1a6oo/iXKatxQx4eS9zTVD+KlSVaAFbTIqVvwLC1Y0k=   \n",
       "\n",
       "                                        song_id source_system_tab  \\\n",
       "0  WmHKgKMlp1lQMecNdNvDMkvIycZYHnFwDT72I5sIssc=        my library   \n",
       "1  y/rsZ9DC7FwK5F2PK2D5mj+aOBUJAjuu3dZ14NgE0vM=        my library   \n",
       "2  8eZLFOdGVdXBSqoAv5nsLigeH2BvKXzTQYtUM53I0k4=          discover   \n",
       "3  ztCf8thYsS4YN3GcIL/bvoxLm/T5mYBVKOO4C9NiVfQ=             radio   \n",
       "4  MKVMpslKcQhMaFEgcEQhEfi5+RZhMYlU3eRDpySrH8Y=             radio   \n",
       "\n",
       "    source_screen_name          source_type  \n",
       "0  Local playlist more        local-library  \n",
       "1  Local playlist more        local-library  \n",
       "2                  NaN  song-based-playlist  \n",
       "3                Radio                radio  \n",
       "4                Radio                radio  "
      ]
     },
     "execution_count": 15,
     "metadata": {},
     "output_type": "execute_result"
    }
   ],
   "source": [
    "df4.head()"
   ]
  },
  {
   "cell_type": "code",
   "execution_count": 16,
   "id": "a9857457",
   "metadata": {},
   "outputs": [
    {
     "data": {
      "text/html": [
       "<div>\n",
       "<style scoped>\n",
       "    .dataframe tbody tr th:only-of-type {\n",
       "        vertical-align: middle;\n",
       "    }\n",
       "\n",
       "    .dataframe tbody tr th {\n",
       "        vertical-align: top;\n",
       "    }\n",
       "\n",
       "    .dataframe thead th {\n",
       "        text-align: right;\n",
       "    }\n",
       "</style>\n",
       "<table border=\"1\" class=\"dataframe\">\n",
       "  <thead>\n",
       "    <tr style=\"text-align: right;\">\n",
       "      <th></th>\n",
       "      <th>msno</th>\n",
       "      <th>song_id</th>\n",
       "      <th>source_system_tab</th>\n",
       "      <th>source_screen_name</th>\n",
       "      <th>source_type</th>\n",
       "      <th>target</th>\n",
       "    </tr>\n",
       "  </thead>\n",
       "  <tbody>\n",
       "    <tr>\n",
       "      <th>0</th>\n",
       "      <td>FGtllVqz18RPiwJj/edr2gV78zirAiY/9SmYvia+kCg=</td>\n",
       "      <td>BBzumQNXUHKdEBOB7mAJuzok+IJA1c2Ryg/yzTF6tik=</td>\n",
       "      <td>explore</td>\n",
       "      <td>Explore</td>\n",
       "      <td>online-playlist</td>\n",
       "      <td>1</td>\n",
       "    </tr>\n",
       "    <tr>\n",
       "      <th>1</th>\n",
       "      <td>Xumu+NIjS6QYVxDS4/t3SawvJ7viT9hPKXmf0RtLNx8=</td>\n",
       "      <td>bhp/MpSNoqoxOIB+/l8WPqu6jldth4DIpCm3ayXnJqM=</td>\n",
       "      <td>my library</td>\n",
       "      <td>Local playlist more</td>\n",
       "      <td>local-playlist</td>\n",
       "      <td>1</td>\n",
       "    </tr>\n",
       "    <tr>\n",
       "      <th>2</th>\n",
       "      <td>Xumu+NIjS6QYVxDS4/t3SawvJ7viT9hPKXmf0RtLNx8=</td>\n",
       "      <td>JNWfrrC7zNN7BdMpsISKa4Mw+xVJYNnxXh3/Epw7QgY=</td>\n",
       "      <td>my library</td>\n",
       "      <td>Local playlist more</td>\n",
       "      <td>local-playlist</td>\n",
       "      <td>1</td>\n",
       "    </tr>\n",
       "    <tr>\n",
       "      <th>3</th>\n",
       "      <td>Xumu+NIjS6QYVxDS4/t3SawvJ7viT9hPKXmf0RtLNx8=</td>\n",
       "      <td>2A87tzfnJTSWqD7gIZHisolhe4DMdzkbd6LzO1KHjNs=</td>\n",
       "      <td>my library</td>\n",
       "      <td>Local playlist more</td>\n",
       "      <td>local-playlist</td>\n",
       "      <td>1</td>\n",
       "    </tr>\n",
       "    <tr>\n",
       "      <th>4</th>\n",
       "      <td>FGtllVqz18RPiwJj/edr2gV78zirAiY/9SmYvia+kCg=</td>\n",
       "      <td>3qm6XTZ6MOCU11x8FIVbAGH5l5uMkT3/ZalWG1oo2Gc=</td>\n",
       "      <td>explore</td>\n",
       "      <td>Explore</td>\n",
       "      <td>online-playlist</td>\n",
       "      <td>1</td>\n",
       "    </tr>\n",
       "  </tbody>\n",
       "</table>\n",
       "</div>"
      ],
      "text/plain": [
       "                                           msno  \\\n",
       "0  FGtllVqz18RPiwJj/edr2gV78zirAiY/9SmYvia+kCg=   \n",
       "1  Xumu+NIjS6QYVxDS4/t3SawvJ7viT9hPKXmf0RtLNx8=   \n",
       "2  Xumu+NIjS6QYVxDS4/t3SawvJ7viT9hPKXmf0RtLNx8=   \n",
       "3  Xumu+NIjS6QYVxDS4/t3SawvJ7viT9hPKXmf0RtLNx8=   \n",
       "4  FGtllVqz18RPiwJj/edr2gV78zirAiY/9SmYvia+kCg=   \n",
       "\n",
       "                                        song_id source_system_tab  \\\n",
       "0  BBzumQNXUHKdEBOB7mAJuzok+IJA1c2Ryg/yzTF6tik=           explore   \n",
       "1  bhp/MpSNoqoxOIB+/l8WPqu6jldth4DIpCm3ayXnJqM=        my library   \n",
       "2  JNWfrrC7zNN7BdMpsISKa4Mw+xVJYNnxXh3/Epw7QgY=        my library   \n",
       "3  2A87tzfnJTSWqD7gIZHisolhe4DMdzkbd6LzO1KHjNs=        my library   \n",
       "4  3qm6XTZ6MOCU11x8FIVbAGH5l5uMkT3/ZalWG1oo2Gc=           explore   \n",
       "\n",
       "    source_screen_name      source_type  target  \n",
       "0              Explore  online-playlist       1  \n",
       "1  Local playlist more   local-playlist       1  \n",
       "2  Local playlist more   local-playlist       1  \n",
       "3  Local playlist more   local-playlist       1  \n",
       "4              Explore  online-playlist       1  "
      ]
     },
     "execution_count": 16,
     "metadata": {},
     "output_type": "execute_result"
    }
   ],
   "source": [
    "df5.head()"
   ]
  },
  {
   "cell_type": "code",
   "execution_count": 17,
   "id": "e6f5430d",
   "metadata": {},
   "outputs": [
    {
     "data": {
      "text/html": [
       "<div>\n",
       "<style scoped>\n",
       "    .dataframe tbody tr th:only-of-type {\n",
       "        vertical-align: middle;\n",
       "    }\n",
       "\n",
       "    .dataframe tbody tr th {\n",
       "        vertical-align: top;\n",
       "    }\n",
       "\n",
       "    .dataframe thead th {\n",
       "        text-align: right;\n",
       "    }\n",
       "</style>\n",
       "<table border=\"1\" class=\"dataframe\">\n",
       "  <thead>\n",
       "    <tr style=\"text-align: right;\">\n",
       "      <th></th>\n",
       "      <th>msno</th>\n",
       "      <th>city</th>\n",
       "      <th>bd</th>\n",
       "      <th>gender</th>\n",
       "      <th>registered_via</th>\n",
       "      <th>registration_init_time</th>\n",
       "      <th>expiration_date</th>\n",
       "    </tr>\n",
       "  </thead>\n",
       "  <tbody>\n",
       "    <tr>\n",
       "      <th>34398</th>\n",
       "      <td>Wwd/cudKVuLJ3txRVxlg2Zaeliu+LRUfiBmfrnxhRCY=</td>\n",
       "      <td>1</td>\n",
       "      <td>0</td>\n",
       "      <td>NaN</td>\n",
       "      <td>7</td>\n",
       "      <td>20131111</td>\n",
       "      <td>20170910</td>\n",
       "    </tr>\n",
       "    <tr>\n",
       "      <th>34399</th>\n",
       "      <td>g3JGnJX6Hg50lFbrNWfsHwCUmApIkiv2M8sXOaeXoIQ=</td>\n",
       "      <td>4</td>\n",
       "      <td>18</td>\n",
       "      <td>male</td>\n",
       "      <td>3</td>\n",
       "      <td>20141024</td>\n",
       "      <td>20170518</td>\n",
       "    </tr>\n",
       "    <tr>\n",
       "      <th>34400</th>\n",
       "      <td>IMaPMJuyN+ip9Vqi+z2XuXbFAP2kbHr+EvvCNkFfj+o=</td>\n",
       "      <td>1</td>\n",
       "      <td>0</td>\n",
       "      <td>NaN</td>\n",
       "      <td>7</td>\n",
       "      <td>20130802</td>\n",
       "      <td>20170908</td>\n",
       "    </tr>\n",
       "    <tr>\n",
       "      <th>34401</th>\n",
       "      <td>WAnCAJjUty9Stv8yKtV7ZC7PN+ilOy5FX3aIJgGPANM=</td>\n",
       "      <td>1</td>\n",
       "      <td>0</td>\n",
       "      <td>NaN</td>\n",
       "      <td>7</td>\n",
       "      <td>20151020</td>\n",
       "      <td>20170920</td>\n",
       "    </tr>\n",
       "    <tr>\n",
       "      <th>34402</th>\n",
       "      <td>xH8KpzKGeNNq6dOvy51c/8VzqOiGG+m6vabhsPSDHX4=</td>\n",
       "      <td>1</td>\n",
       "      <td>0</td>\n",
       "      <td>NaN</td>\n",
       "      <td>4</td>\n",
       "      <td>20160815</td>\n",
       "      <td>20160818</td>\n",
       "    </tr>\n",
       "  </tbody>\n",
       "</table>\n",
       "</div>"
      ],
      "text/plain": [
       "                                               msno  city  bd gender  \\\n",
       "34398  Wwd/cudKVuLJ3txRVxlg2Zaeliu+LRUfiBmfrnxhRCY=     1   0    NaN   \n",
       "34399  g3JGnJX6Hg50lFbrNWfsHwCUmApIkiv2M8sXOaeXoIQ=     4  18   male   \n",
       "34400  IMaPMJuyN+ip9Vqi+z2XuXbFAP2kbHr+EvvCNkFfj+o=     1   0    NaN   \n",
       "34401  WAnCAJjUty9Stv8yKtV7ZC7PN+ilOy5FX3aIJgGPANM=     1   0    NaN   \n",
       "34402  xH8KpzKGeNNq6dOvy51c/8VzqOiGG+m6vabhsPSDHX4=     1   0    NaN   \n",
       "\n",
       "       registered_via  registration_init_time  expiration_date  \n",
       "34398               7                20131111         20170910  \n",
       "34399               3                20141024         20170518  \n",
       "34400               7                20130802         20170908  \n",
       "34401               7                20151020         20170920  \n",
       "34402               4                20160815         20160818  "
      ]
     },
     "execution_count": 17,
     "metadata": {},
     "output_type": "execute_result"
    }
   ],
   "source": [
    "df.tail()"
   ]
  },
  {
   "cell_type": "code",
   "execution_count": 18,
   "id": "995b8dd5",
   "metadata": {},
   "outputs": [
    {
     "data": {
      "text/html": [
       "<div>\n",
       "<style scoped>\n",
       "    .dataframe tbody tr th:only-of-type {\n",
       "        vertical-align: middle;\n",
       "    }\n",
       "\n",
       "    .dataframe tbody tr th {\n",
       "        vertical-align: top;\n",
       "    }\n",
       "\n",
       "    .dataframe thead th {\n",
       "        text-align: right;\n",
       "    }\n",
       "</style>\n",
       "<table border=\"1\" class=\"dataframe\">\n",
       "  <thead>\n",
       "    <tr style=\"text-align: right;\">\n",
       "      <th></th>\n",
       "      <th>id</th>\n",
       "      <th>target</th>\n",
       "    </tr>\n",
       "  </thead>\n",
       "  <tbody>\n",
       "    <tr>\n",
       "      <th>1048570</th>\n",
       "      <td>1048570</td>\n",
       "      <td>0.5</td>\n",
       "    </tr>\n",
       "    <tr>\n",
       "      <th>1048571</th>\n",
       "      <td>1048571</td>\n",
       "      <td>0.5</td>\n",
       "    </tr>\n",
       "    <tr>\n",
       "      <th>1048572</th>\n",
       "      <td>1048572</td>\n",
       "      <td>0.5</td>\n",
       "    </tr>\n",
       "    <tr>\n",
       "      <th>1048573</th>\n",
       "      <td>1048573</td>\n",
       "      <td>0.5</td>\n",
       "    </tr>\n",
       "    <tr>\n",
       "      <th>1048574</th>\n",
       "      <td>1048574</td>\n",
       "      <td>0.5</td>\n",
       "    </tr>\n",
       "  </tbody>\n",
       "</table>\n",
       "</div>"
      ],
      "text/plain": [
       "              id  target\n",
       "1048570  1048570     0.5\n",
       "1048571  1048571     0.5\n",
       "1048572  1048572     0.5\n",
       "1048573  1048573     0.5\n",
       "1048574  1048574     0.5"
      ]
     },
     "execution_count": 18,
     "metadata": {},
     "output_type": "execute_result"
    }
   ],
   "source": [
    "df1.tail()"
   ]
  },
  {
   "cell_type": "code",
   "execution_count": 19,
   "id": "3de78309",
   "metadata": {},
   "outputs": [
    {
     "data": {
      "text/html": [
       "<div>\n",
       "<style scoped>\n",
       "    .dataframe tbody tr th:only-of-type {\n",
       "        vertical-align: middle;\n",
       "    }\n",
       "\n",
       "    .dataframe tbody tr th {\n",
       "        vertical-align: top;\n",
       "    }\n",
       "\n",
       "    .dataframe thead th {\n",
       "        text-align: right;\n",
       "    }\n",
       "</style>\n",
       "<table border=\"1\" class=\"dataframe\">\n",
       "  <thead>\n",
       "    <tr style=\"text-align: right;\">\n",
       "      <th></th>\n",
       "      <th>song_id</th>\n",
       "      <th>song_length</th>\n",
       "      <th>genre_ids</th>\n",
       "      <th>artist_name</th>\n",
       "      <th>composer</th>\n",
       "      <th>lyricist</th>\n",
       "      <th>language</th>\n",
       "    </tr>\n",
       "  </thead>\n",
       "  <tbody>\n",
       "    <tr>\n",
       "      <th>1048570</th>\n",
       "      <td>2ZRF6vTIjeJOFG0QOvQE+9L2Uhzo7prCVNIa0sBqIbA=</td>\n",
       "      <td>182044</td>\n",
       "      <td>NaN</td>\n",
       "      <td>Dragonbay</td>\n",
       "      <td>NaN</td>\n",
       "      <td>NaN</td>\n",
       "      <td>52.0</td>\n",
       "    </tr>\n",
       "    <tr>\n",
       "      <th>1048571</th>\n",
       "      <td>k0TIUBzWIi7l7XYyj3YRSvLVuLJ1y1z/v/LYRKpYvVg=</td>\n",
       "      <td>470158</td>\n",
       "      <td>1152|947</td>\n",
       "      <td>Massage Tribe</td>\n",
       "      <td>NaN</td>\n",
       "      <td>NaN</td>\n",
       "      <td>-1.0</td>\n",
       "    </tr>\n",
       "    <tr>\n",
       "      <th>1048572</th>\n",
       "      <td>+FyGIHSC23kAAF4UeTku3oquYaFYH21OWHy+eNKpNoQ=</td>\n",
       "      <td>360559</td>\n",
       "      <td>958</td>\n",
       "      <td>Antonio Vivaldi| Wolfgang Amadeus Mozart| Ludw...</td>\n",
       "      <td>Antonio Vivaldi</td>\n",
       "      <td>NaN</td>\n",
       "      <td>-1.0</td>\n",
       "    </tr>\n",
       "    <tr>\n",
       "      <th>1048573</th>\n",
       "      <td>LW/HYg6lUeKFxJh/0DwaivmohvW7Mwh14sWQ4dA1riU=</td>\n",
       "      <td>767652</td>\n",
       "      <td>958</td>\n",
       "      <td>Sviatoslav Richter</td>\n",
       "      <td>NaN</td>\n",
       "      <td>NaN</td>\n",
       "      <td>-1.0</td>\n",
       "    </tr>\n",
       "    <tr>\n",
       "      <th>1048574</th>\n",
       "      <td>n6p0LirSgOFGNz+vZ+p0ERCnj3nL8nnYS4KhtLHEmA4=</td>\n",
       "      <td>390188</td>\n",
       "      <td>2122</td>\n",
       "      <td>Joe Pass</td>\n",
       "      <td>Joe Pass</td>\n",
       "      <td>NaN</td>\n",
       "      <td>52.0</td>\n",
       "    </tr>\n",
       "  </tbody>\n",
       "</table>\n",
       "</div>"
      ],
      "text/plain": [
       "                                              song_id  song_length genre_ids  \\\n",
       "1048570  2ZRF6vTIjeJOFG0QOvQE+9L2Uhzo7prCVNIa0sBqIbA=       182044       NaN   \n",
       "1048571  k0TIUBzWIi7l7XYyj3YRSvLVuLJ1y1z/v/LYRKpYvVg=       470158  1152|947   \n",
       "1048572  +FyGIHSC23kAAF4UeTku3oquYaFYH21OWHy+eNKpNoQ=       360559       958   \n",
       "1048573  LW/HYg6lUeKFxJh/0DwaivmohvW7Mwh14sWQ4dA1riU=       767652       958   \n",
       "1048574  n6p0LirSgOFGNz+vZ+p0ERCnj3nL8nnYS4KhtLHEmA4=       390188      2122   \n",
       "\n",
       "                                               artist_name         composer  \\\n",
       "1048570                                          Dragonbay              NaN   \n",
       "1048571                                      Massage Tribe              NaN   \n",
       "1048572  Antonio Vivaldi| Wolfgang Amadeus Mozart| Ludw...  Antonio Vivaldi   \n",
       "1048573                                 Sviatoslav Richter              NaN   \n",
       "1048574                                           Joe Pass         Joe Pass   \n",
       "\n",
       "        lyricist  language  \n",
       "1048570      NaN      52.0  \n",
       "1048571      NaN      -1.0  \n",
       "1048572      NaN      -1.0  \n",
       "1048573      NaN      -1.0  \n",
       "1048574      NaN      52.0  "
      ]
     },
     "execution_count": 19,
     "metadata": {},
     "output_type": "execute_result"
    }
   ],
   "source": [
    "df2.tail()"
   ]
  },
  {
   "cell_type": "code",
   "execution_count": 20,
   "id": "4dd0d949",
   "metadata": {},
   "outputs": [
    {
     "data": {
      "text/html": [
       "<div>\n",
       "<style scoped>\n",
       "    .dataframe tbody tr th:only-of-type {\n",
       "        vertical-align: middle;\n",
       "    }\n",
       "\n",
       "    .dataframe tbody tr th {\n",
       "        vertical-align: top;\n",
       "    }\n",
       "\n",
       "    .dataframe thead th {\n",
       "        text-align: right;\n",
       "    }\n",
       "</style>\n",
       "<table border=\"1\" class=\"dataframe\">\n",
       "  <thead>\n",
       "    <tr style=\"text-align: right;\">\n",
       "      <th></th>\n",
       "      <th>song_id</th>\n",
       "      <th>name</th>\n",
       "      <th>isrc</th>\n",
       "    </tr>\n",
       "  </thead>\n",
       "  <tbody>\n",
       "    <tr>\n",
       "      <th>1048570</th>\n",
       "      <td>9IWSYOb4iwt4HQwiYZHogHJ8x/D+WfzJ+TqDm6furwc=</td>\n",
       "      <td>Fanfare Royale</td>\n",
       "      <td>GBCRL1100130</td>\n",
       "    </tr>\n",
       "    <tr>\n",
       "      <th>1048571</th>\n",
       "      <td>t1vq3y9JHURWs51aK5iT+PiwS4mERjxj2fQW16/xliY=</td>\n",
       "      <td>Sunset</td>\n",
       "      <td>PLL431688926</td>\n",
       "    </tr>\n",
       "    <tr>\n",
       "      <th>1048572</th>\n",
       "      <td>2MpU7KNxhakVbZ6RgrTdq6Tr3hEtCCskH1dBUMwfRgA=</td>\n",
       "      <td>Super Mario Kart - Ghost Valley</td>\n",
       "      <td>AUXN21415808</td>\n",
       "    </tr>\n",
       "    <tr>\n",
       "      <th>1048573</th>\n",
       "      <td>O/E6/qwfVrHxKDQbQa2q2KphIsPZ3iVX/0UgYxTCrok=</td>\n",
       "      <td>Let It Be</td>\n",
       "      <td>USA371357737</td>\n",
       "    </tr>\n",
       "    <tr>\n",
       "      <th>1048574</th>\n",
       "      <td>sFLj6rLpJ7QCI9o/5BuNk/TnMaGDmiW5DbVn67ySkPI=</td>\n",
       "      <td>Fuck Your Funky</td>\n",
       "      <td>DEW871408117</td>\n",
       "    </tr>\n",
       "  </tbody>\n",
       "</table>\n",
       "</div>"
      ],
      "text/plain": [
       "                                              song_id  \\\n",
       "1048570  9IWSYOb4iwt4HQwiYZHogHJ8x/D+WfzJ+TqDm6furwc=   \n",
       "1048571  t1vq3y9JHURWs51aK5iT+PiwS4mERjxj2fQW16/xliY=   \n",
       "1048572  2MpU7KNxhakVbZ6RgrTdq6Tr3hEtCCskH1dBUMwfRgA=   \n",
       "1048573  O/E6/qwfVrHxKDQbQa2q2KphIsPZ3iVX/0UgYxTCrok=   \n",
       "1048574  sFLj6rLpJ7QCI9o/5BuNk/TnMaGDmiW5DbVn67ySkPI=   \n",
       "\n",
       "                                    name          isrc  \n",
       "1048570                   Fanfare Royale  GBCRL1100130  \n",
       "1048571                           Sunset  PLL431688926  \n",
       "1048572  Super Mario Kart - Ghost Valley  AUXN21415808  \n",
       "1048573                        Let It Be  USA371357737  \n",
       "1048574                  Fuck Your Funky  DEW871408117  "
      ]
     },
     "execution_count": 20,
     "metadata": {},
     "output_type": "execute_result"
    }
   ],
   "source": [
    "df3.tail()"
   ]
  },
  {
   "cell_type": "code",
   "execution_count": 21,
   "id": "d5978167",
   "metadata": {},
   "outputs": [
    {
     "data": {
      "text/html": [
       "<div>\n",
       "<style scoped>\n",
       "    .dataframe tbody tr th:only-of-type {\n",
       "        vertical-align: middle;\n",
       "    }\n",
       "\n",
       "    .dataframe tbody tr th {\n",
       "        vertical-align: top;\n",
       "    }\n",
       "\n",
       "    .dataframe thead th {\n",
       "        text-align: right;\n",
       "    }\n",
       "</style>\n",
       "<table border=\"1\" class=\"dataframe\">\n",
       "  <thead>\n",
       "    <tr style=\"text-align: right;\">\n",
       "      <th></th>\n",
       "      <th>id</th>\n",
       "      <th>msno</th>\n",
       "      <th>song_id</th>\n",
       "      <th>source_system_tab</th>\n",
       "      <th>source_screen_name</th>\n",
       "      <th>source_type</th>\n",
       "    </tr>\n",
       "  </thead>\n",
       "  <tbody>\n",
       "    <tr>\n",
       "      <th>1048570</th>\n",
       "      <td>1048570</td>\n",
       "      <td>J2a1D0MldMzdUZh99b2V5HQCtAl0bWnWSp45HSU/YH0=</td>\n",
       "      <td>WGGGNQ/g+Z+3CvYBSiL5PAXI8MqNApAT+skNJiHm1mE=</td>\n",
       "      <td>discover</td>\n",
       "      <td>Album more</td>\n",
       "      <td>album</td>\n",
       "    </tr>\n",
       "    <tr>\n",
       "      <th>1048571</th>\n",
       "      <td>1048571</td>\n",
       "      <td>J2a1D0MldMzdUZh99b2V5HQCtAl0bWnWSp45HSU/YH0=</td>\n",
       "      <td>Ka7MiMDNrrXKDOF468tyHz2c6aruoe4K4YH9O21kIrM=</td>\n",
       "      <td>discover</td>\n",
       "      <td>Album more</td>\n",
       "      <td>album</td>\n",
       "    </tr>\n",
       "    <tr>\n",
       "      <th>1048572</th>\n",
       "      <td>1048572</td>\n",
       "      <td>J2a1D0MldMzdUZh99b2V5HQCtAl0bWnWSp45HSU/YH0=</td>\n",
       "      <td>WnX1xlQ8vaDlSal2wzPiJYfaJZex76ya7wvlphajEOU=</td>\n",
       "      <td>discover</td>\n",
       "      <td>Album more</td>\n",
       "      <td>album</td>\n",
       "    </tr>\n",
       "    <tr>\n",
       "      <th>1048573</th>\n",
       "      <td>1048573</td>\n",
       "      <td>J2a1D0MldMzdUZh99b2V5HQCtAl0bWnWSp45HSU/YH0=</td>\n",
       "      <td>CSpYNBusxUao3QvX8hb7kse7X9o7d/QDE3NPlydjLqI=</td>\n",
       "      <td>discover</td>\n",
       "      <td>Album more</td>\n",
       "      <td>album</td>\n",
       "    </tr>\n",
       "    <tr>\n",
       "      <th>1048574</th>\n",
       "      <td>1048574</td>\n",
       "      <td>J2a1D0MldMzdUZh99b2V5HQCtAl0bWnWSp45HSU/YH0=</td>\n",
       "      <td>3oktJO/2MngRxpaCJPHL2XXUICv+DqonwhUj270cFSY=</td>\n",
       "      <td>discover</td>\n",
       "      <td>Album more</td>\n",
       "      <td>album</td>\n",
       "    </tr>\n",
       "  </tbody>\n",
       "</table>\n",
       "</div>"
      ],
      "text/plain": [
       "              id                                          msno  \\\n",
       "1048570  1048570  J2a1D0MldMzdUZh99b2V5HQCtAl0bWnWSp45HSU/YH0=   \n",
       "1048571  1048571  J2a1D0MldMzdUZh99b2V5HQCtAl0bWnWSp45HSU/YH0=   \n",
       "1048572  1048572  J2a1D0MldMzdUZh99b2V5HQCtAl0bWnWSp45HSU/YH0=   \n",
       "1048573  1048573  J2a1D0MldMzdUZh99b2V5HQCtAl0bWnWSp45HSU/YH0=   \n",
       "1048574  1048574  J2a1D0MldMzdUZh99b2V5HQCtAl0bWnWSp45HSU/YH0=   \n",
       "\n",
       "                                              song_id source_system_tab  \\\n",
       "1048570  WGGGNQ/g+Z+3CvYBSiL5PAXI8MqNApAT+skNJiHm1mE=          discover   \n",
       "1048571  Ka7MiMDNrrXKDOF468tyHz2c6aruoe4K4YH9O21kIrM=          discover   \n",
       "1048572  WnX1xlQ8vaDlSal2wzPiJYfaJZex76ya7wvlphajEOU=          discover   \n",
       "1048573  CSpYNBusxUao3QvX8hb7kse7X9o7d/QDE3NPlydjLqI=          discover   \n",
       "1048574  3oktJO/2MngRxpaCJPHL2XXUICv+DqonwhUj270cFSY=          discover   \n",
       "\n",
       "        source_screen_name source_type  \n",
       "1048570         Album more       album  \n",
       "1048571         Album more       album  \n",
       "1048572         Album more       album  \n",
       "1048573         Album more       album  \n",
       "1048574         Album more       album  "
      ]
     },
     "execution_count": 21,
     "metadata": {},
     "output_type": "execute_result"
    }
   ],
   "source": [
    "df4.tail()"
   ]
  },
  {
   "cell_type": "code",
   "execution_count": 22,
   "id": "e54da6fb",
   "metadata": {},
   "outputs": [
    {
     "data": {
      "text/html": [
       "<div>\n",
       "<style scoped>\n",
       "    .dataframe tbody tr th:only-of-type {\n",
       "        vertical-align: middle;\n",
       "    }\n",
       "\n",
       "    .dataframe tbody tr th {\n",
       "        vertical-align: top;\n",
       "    }\n",
       "\n",
       "    .dataframe thead th {\n",
       "        text-align: right;\n",
       "    }\n",
       "</style>\n",
       "<table border=\"1\" class=\"dataframe\">\n",
       "  <thead>\n",
       "    <tr style=\"text-align: right;\">\n",
       "      <th></th>\n",
       "      <th>msno</th>\n",
       "      <th>song_id</th>\n",
       "      <th>source_system_tab</th>\n",
       "      <th>source_screen_name</th>\n",
       "      <th>source_type</th>\n",
       "      <th>target</th>\n",
       "    </tr>\n",
       "  </thead>\n",
       "  <tbody>\n",
       "    <tr>\n",
       "      <th>1048570</th>\n",
       "      <td>xF+utWsPHfbvt60HOgU/ZYQ0HnboeyRf0UXo5pPyP0Q=</td>\n",
       "      <td>gLwsZgboyA4rhNmspKQpnvdsLFdv4fzQMBkcdvnCfk8=</td>\n",
       "      <td>my library</td>\n",
       "      <td>Local playlist more</td>\n",
       "      <td>local-library</td>\n",
       "      <td>0</td>\n",
       "    </tr>\n",
       "    <tr>\n",
       "      <th>1048571</th>\n",
       "      <td>P3obZgg2TmWGlUbGb7rz/G2CCX7cpYJ691Iyvfv2j4g=</td>\n",
       "      <td>iUYmqmX3CXBXzFIn2RiJLMLnwZ3/TSYhf9NDuZGqCBg=</td>\n",
       "      <td>discover</td>\n",
       "      <td>Discover Chart</td>\n",
       "      <td>online-playlist</td>\n",
       "      <td>1</td>\n",
       "    </tr>\n",
       "    <tr>\n",
       "      <th>1048572</th>\n",
       "      <td>P3obZgg2TmWGlUbGb7rz/G2CCX7cpYJ691Iyvfv2j4g=</td>\n",
       "      <td>IKoZne4v1VzCh7r0lVmOn1hOUdTMkAiniHnKELDq8es=</td>\n",
       "      <td>discover</td>\n",
       "      <td>Discover Chart</td>\n",
       "      <td>online-playlist</td>\n",
       "      <td>1</td>\n",
       "    </tr>\n",
       "    <tr>\n",
       "      <th>1048573</th>\n",
       "      <td>FBn5lX1m8BNAFevy7oiAe8JBxi20akyXBW7zG0MBVbQ=</td>\n",
       "      <td>T86YHdD4C9JSc274b1IlMkLuNdz4BQRB50fWWE7hx9g=</td>\n",
       "      <td>discover</td>\n",
       "      <td>Online playlist more</td>\n",
       "      <td>online-playlist</td>\n",
       "      <td>1</td>\n",
       "    </tr>\n",
       "    <tr>\n",
       "      <th>1048574</th>\n",
       "      <td>kXkMzhyacFrtSI922IBs0BcmNxKedV4+837lljPNTQA=</td>\n",
       "      <td>jHMqK5wu5C0txl0QCxpkSM1xbIev60ii+dc99LXu8EI=</td>\n",
       "      <td>discover</td>\n",
       "      <td>Online playlist more</td>\n",
       "      <td>online-playlist</td>\n",
       "      <td>1</td>\n",
       "    </tr>\n",
       "  </tbody>\n",
       "</table>\n",
       "</div>"
      ],
      "text/plain": [
       "                                                 msno  \\\n",
       "1048570  xF+utWsPHfbvt60HOgU/ZYQ0HnboeyRf0UXo5pPyP0Q=   \n",
       "1048571  P3obZgg2TmWGlUbGb7rz/G2CCX7cpYJ691Iyvfv2j4g=   \n",
       "1048572  P3obZgg2TmWGlUbGb7rz/G2CCX7cpYJ691Iyvfv2j4g=   \n",
       "1048573  FBn5lX1m8BNAFevy7oiAe8JBxi20akyXBW7zG0MBVbQ=   \n",
       "1048574  kXkMzhyacFrtSI922IBs0BcmNxKedV4+837lljPNTQA=   \n",
       "\n",
       "                                              song_id source_system_tab  \\\n",
       "1048570  gLwsZgboyA4rhNmspKQpnvdsLFdv4fzQMBkcdvnCfk8=        my library   \n",
       "1048571  iUYmqmX3CXBXzFIn2RiJLMLnwZ3/TSYhf9NDuZGqCBg=          discover   \n",
       "1048572  IKoZne4v1VzCh7r0lVmOn1hOUdTMkAiniHnKELDq8es=          discover   \n",
       "1048573  T86YHdD4C9JSc274b1IlMkLuNdz4BQRB50fWWE7hx9g=          discover   \n",
       "1048574  jHMqK5wu5C0txl0QCxpkSM1xbIev60ii+dc99LXu8EI=          discover   \n",
       "\n",
       "           source_screen_name      source_type  target  \n",
       "1048570   Local playlist more    local-library       0  \n",
       "1048571        Discover Chart  online-playlist       1  \n",
       "1048572        Discover Chart  online-playlist       1  \n",
       "1048573  Online playlist more  online-playlist       1  \n",
       "1048574  Online playlist more  online-playlist       1  "
      ]
     },
     "execution_count": 22,
     "metadata": {},
     "output_type": "execute_result"
    }
   ],
   "source": [
    "df5.tail()"
   ]
  },
  {
   "cell_type": "code",
   "execution_count": 23,
   "id": "63a11018",
   "metadata": {},
   "outputs": [
    {
     "data": {
      "text/plain": [
       "(34403, 7)"
      ]
     },
     "execution_count": 23,
     "metadata": {},
     "output_type": "execute_result"
    }
   ],
   "source": [
    "df.shape"
   ]
  },
  {
   "cell_type": "code",
   "execution_count": 24,
   "id": "14c3bd71",
   "metadata": {},
   "outputs": [
    {
     "data": {
      "text/plain": [
       "(1048575, 2)"
      ]
     },
     "execution_count": 24,
     "metadata": {},
     "output_type": "execute_result"
    }
   ],
   "source": [
    "df1.shape"
   ]
  },
  {
   "cell_type": "code",
   "execution_count": 25,
   "id": "8bc71f25",
   "metadata": {},
   "outputs": [
    {
     "data": {
      "text/plain": [
       "(1048575, 7)"
      ]
     },
     "execution_count": 25,
     "metadata": {},
     "output_type": "execute_result"
    }
   ],
   "source": [
    "df2.shape"
   ]
  },
  {
   "cell_type": "code",
   "execution_count": 26,
   "id": "10de8a10",
   "metadata": {},
   "outputs": [
    {
     "data": {
      "text/plain": [
       "(1048575, 3)"
      ]
     },
     "execution_count": 26,
     "metadata": {},
     "output_type": "execute_result"
    }
   ],
   "source": [
    "df3.shape"
   ]
  },
  {
   "cell_type": "code",
   "execution_count": 27,
   "id": "59d515b9",
   "metadata": {},
   "outputs": [
    {
     "data": {
      "text/plain": [
       "(1048575, 6)"
      ]
     },
     "execution_count": 27,
     "metadata": {},
     "output_type": "execute_result"
    }
   ],
   "source": [
    "df4.shape"
   ]
  },
  {
   "cell_type": "code",
   "execution_count": 28,
   "id": "3c93092f",
   "metadata": {},
   "outputs": [
    {
     "data": {
      "text/plain": [
       "(1048575, 6)"
      ]
     },
     "execution_count": 28,
     "metadata": {},
     "output_type": "execute_result"
    }
   ],
   "source": [
    "df5.shape"
   ]
  },
  {
   "cell_type": "code",
   "execution_count": 29,
   "id": "09663c74",
   "metadata": {},
   "outputs": [
    {
     "data": {
      "text/plain": [
       "240821"
      ]
     },
     "execution_count": 29,
     "metadata": {},
     "output_type": "execute_result"
    }
   ],
   "source": [
    "df.size"
   ]
  },
  {
   "cell_type": "code",
   "execution_count": 30,
   "id": "c02bac34",
   "metadata": {},
   "outputs": [
    {
     "data": {
      "text/plain": [
       "2097150"
      ]
     },
     "execution_count": 30,
     "metadata": {},
     "output_type": "execute_result"
    }
   ],
   "source": [
    "df1.size"
   ]
  },
  {
   "cell_type": "code",
   "execution_count": 31,
   "id": "511e62c4",
   "metadata": {},
   "outputs": [
    {
     "data": {
      "text/plain": [
       "7340025"
      ]
     },
     "execution_count": 31,
     "metadata": {},
     "output_type": "execute_result"
    }
   ],
   "source": [
    "df2.size"
   ]
  },
  {
   "cell_type": "code",
   "execution_count": 32,
   "id": "c03fc24d",
   "metadata": {},
   "outputs": [
    {
     "data": {
      "text/plain": [
       "3145725"
      ]
     },
     "execution_count": 32,
     "metadata": {},
     "output_type": "execute_result"
    }
   ],
   "source": [
    "df3.size"
   ]
  },
  {
   "cell_type": "code",
   "execution_count": 33,
   "id": "99367ea6",
   "metadata": {},
   "outputs": [
    {
     "data": {
      "text/plain": [
       "6291450"
      ]
     },
     "execution_count": 33,
     "metadata": {},
     "output_type": "execute_result"
    }
   ],
   "source": [
    "df4.size"
   ]
  },
  {
   "cell_type": "code",
   "execution_count": 34,
   "id": "527c0f3a",
   "metadata": {},
   "outputs": [
    {
     "data": {
      "text/plain": [
       "6291450"
      ]
     },
     "execution_count": 34,
     "metadata": {},
     "output_type": "execute_result"
    }
   ],
   "source": [
    "df5.size"
   ]
  },
  {
   "cell_type": "code",
   "execution_count": 35,
   "id": "011d061c",
   "metadata": {},
   "outputs": [
    {
     "data": {
      "text/plain": [
       "<bound method DataFrame.info of                                                msno  city  bd gender  \\\n",
       "0      XQxgAYj3klVKjR3oxPPXYYFp4soD4TuBghkhMTD4oTw=     1   0    NaN   \n",
       "1      UizsfmJb9mV54qE9hCYyU07Va97c0lCRLEQX3ae+ztM=     1   0    NaN   \n",
       "2      D8nEhsIOBSoE6VthTaqDX8U6lqjJ7dLdr72mOyLya2A=     1   0    NaN   \n",
       "3      mCuD+tZ1hERA/o5GPqk38e041J8ZsBaLcu7nGoIIvhI=     1   0    NaN   \n",
       "4      q4HRBfVSssAFS9iRfxWrohxuk9kCYMKjHOEagUMV6rQ=     1   0    NaN   \n",
       "...                                             ...   ...  ..    ...   \n",
       "34398  Wwd/cudKVuLJ3txRVxlg2Zaeliu+LRUfiBmfrnxhRCY=     1   0    NaN   \n",
       "34399  g3JGnJX6Hg50lFbrNWfsHwCUmApIkiv2M8sXOaeXoIQ=     4  18   male   \n",
       "34400  IMaPMJuyN+ip9Vqi+z2XuXbFAP2kbHr+EvvCNkFfj+o=     1   0    NaN   \n",
       "34401  WAnCAJjUty9Stv8yKtV7ZC7PN+ilOy5FX3aIJgGPANM=     1   0    NaN   \n",
       "34402  xH8KpzKGeNNq6dOvy51c/8VzqOiGG+m6vabhsPSDHX4=     1   0    NaN   \n",
       "\n",
       "       registered_via  registration_init_time  expiration_date  \n",
       "0                   7                20110820         20170920  \n",
       "1                   7                20150628         20170622  \n",
       "2                   4                20160411         20170712  \n",
       "3                   9                20150906         20150907  \n",
       "4                   4                20170126         20170613  \n",
       "...               ...                     ...              ...  \n",
       "34398               7                20131111         20170910  \n",
       "34399               3                20141024         20170518  \n",
       "34400               7                20130802         20170908  \n",
       "34401               7                20151020         20170920  \n",
       "34402               4                20160815         20160818  \n",
       "\n",
       "[34403 rows x 7 columns]>"
      ]
     },
     "execution_count": 35,
     "metadata": {},
     "output_type": "execute_result"
    }
   ],
   "source": [
    "df.info"
   ]
  },
  {
   "cell_type": "code",
   "execution_count": 36,
   "id": "dd0a1608",
   "metadata": {},
   "outputs": [
    {
     "data": {
      "text/plain": [
       "<bound method DataFrame.info of               id  target\n",
       "0              0     0.5\n",
       "1              1     0.5\n",
       "2              2     0.5\n",
       "3              3     0.5\n",
       "4              4     0.5\n",
       "...          ...     ...\n",
       "1048570  1048570     0.5\n",
       "1048571  1048571     0.5\n",
       "1048572  1048572     0.5\n",
       "1048573  1048573     0.5\n",
       "1048574  1048574     0.5\n",
       "\n",
       "[1048575 rows x 2 columns]>"
      ]
     },
     "execution_count": 36,
     "metadata": {},
     "output_type": "execute_result"
    }
   ],
   "source": [
    "df1.info"
   ]
  },
  {
   "cell_type": "code",
   "execution_count": 37,
   "id": "13c36380",
   "metadata": {},
   "outputs": [
    {
     "data": {
      "text/plain": [
       "<bound method DataFrame.info of                                               song_id  song_length genre_ids  \\\n",
       "0        CXoTN1eb7AI+DntdU1vbcwGRV4SCIDxZu+YD8JP8r4E=       247640       465   \n",
       "1        o0kFgae9QtnYgRkVPqLJwa05zIhRlUjfF7O1tDw0ZDU=       197328       444   \n",
       "2        DwVvVurfpuz+XPuFvucclVQEyPqcpUkHR0ne1RQzPs0=       231781       465   \n",
       "3        dKMBWoZyScdxSkihKG+Vf47nc18N9q4m58+b4e7dSSE=       273554       465   \n",
       "4        W3bqWd3T+VeHFzHAUfARgW9AvVRaF4N5Yzm4Mr6Eo/o=       140329       726   \n",
       "...                                               ...          ...       ...   \n",
       "1048570  2ZRF6vTIjeJOFG0QOvQE+9L2Uhzo7prCVNIa0sBqIbA=       182044       NaN   \n",
       "1048571  k0TIUBzWIi7l7XYyj3YRSvLVuLJ1y1z/v/LYRKpYvVg=       470158  1152|947   \n",
       "1048572  +FyGIHSC23kAAF4UeTku3oquYaFYH21OWHy+eNKpNoQ=       360559       958   \n",
       "1048573  LW/HYg6lUeKFxJh/0DwaivmohvW7Mwh14sWQ4dA1riU=       767652       958   \n",
       "1048574  n6p0LirSgOFGNz+vZ+p0ERCnj3nL8nnYS4KhtLHEmA4=       390188      2122   \n",
       "\n",
       "                                               artist_name  \\\n",
       "0                                   å¼µä¿¡å“² (Jeff Chang)   \n",
       "1                                                BLACKPINK   \n",
       "2                                             SUPER JUNIOR   \n",
       "3                                                    S.H.E   \n",
       "4                                             è²´æ—ç²¾é¸   \n",
       "...                                                    ...   \n",
       "1048570                                          Dragonbay   \n",
       "1048571                                      Massage Tribe   \n",
       "1048572  Antonio Vivaldi| Wolfgang Amadeus Mozart| Ludw...   \n",
       "1048573                                 Sviatoslav Richter   \n",
       "1048574                                           Joe Pass   \n",
       "\n",
       "                                   composer     lyricist  language  \n",
       "0                                    è‘£è²ž    ä½•å•Ÿå¼˜       3.0  \n",
       "1        TEDDY|  FUTURE BOUNCE|  Bekuh BOOM        TEDDY      31.0  \n",
       "2                                       NaN          NaN      31.0  \n",
       "3                                 æ¹¯å°åº·    å¾ä¸–ç       3.0  \n",
       "4                               Traditional  Traditional      52.0  \n",
       "...                                     ...          ...       ...  \n",
       "1048570                                 NaN          NaN      52.0  \n",
       "1048571                                 NaN          NaN      -1.0  \n",
       "1048572                     Antonio Vivaldi          NaN      -1.0  \n",
       "1048573                                 NaN          NaN      -1.0  \n",
       "1048574                            Joe Pass          NaN      52.0  \n",
       "\n",
       "[1048575 rows x 7 columns]>"
      ]
     },
     "execution_count": 37,
     "metadata": {},
     "output_type": "execute_result"
    }
   ],
   "source": [
    "df2.info"
   ]
  },
  {
   "cell_type": "code",
   "execution_count": 38,
   "id": "e7e37589",
   "metadata": {},
   "outputs": [
    {
     "data": {
      "text/plain": [
       "<bound method DataFrame.info of                                               song_id  \\\n",
       "0        LP7pLJoJFBvyuUwvu+oLzjT+bI+UeBPURCecJsX1jjs=   \n",
       "1        ClazTFnk6r0Bnuie44bocdNMM3rdlrq0bCGAsGUWcHE=   \n",
       "2        u2ja/bZE3zhCGxvbbOB3zOoUjx27u40cf5g09UXMoKQ=   \n",
       "3        92Fqsy0+p6+RHe2EoLKjHahORHR1Kq1TBJoClW9v+Ts=   \n",
       "4        0QFmz/+rJy1Q56C1DuYqT9hKKqi5TUqx0sN0IwvoHrw=   \n",
       "...                                               ...   \n",
       "1048570  9IWSYOb4iwt4HQwiYZHogHJ8x/D+WfzJ+TqDm6furwc=   \n",
       "1048571  t1vq3y9JHURWs51aK5iT+PiwS4mERjxj2fQW16/xliY=   \n",
       "1048572  2MpU7KNxhakVbZ6RgrTdq6Tr3hEtCCskH1dBUMwfRgA=   \n",
       "1048573  O/E6/qwfVrHxKDQbQa2q2KphIsPZ3iVX/0UgYxTCrok=   \n",
       "1048574  sFLj6rLpJ7QCI9o/5BuNk/TnMaGDmiW5DbVn67ySkPI=   \n",
       "\n",
       "                                    name          isrc  \n",
       "0                                 æˆ‘å€‘  TWUM71200043  \n",
       "1                        Let Me Love You  QMZSY1600015  \n",
       "2                              åŽŸè«’æˆ‘  TWA530887303  \n",
       "3                                Classic  USSM11301446  \n",
       "4                           æ„›æŠ•ç¾…ç¶²  TWA471306001  \n",
       "...                                  ...           ...  \n",
       "1048570                   Fanfare Royale  GBCRL1100130  \n",
       "1048571                           Sunset  PLL431688926  \n",
       "1048572  Super Mario Kart - Ghost Valley  AUXN21415808  \n",
       "1048573                        Let It Be  USA371357737  \n",
       "1048574                  Fuck Your Funky  DEW871408117  \n",
       "\n",
       "[1048575 rows x 3 columns]>"
      ]
     },
     "execution_count": 38,
     "metadata": {},
     "output_type": "execute_result"
    }
   ],
   "source": [
    "df3.info"
   ]
  },
  {
   "cell_type": "code",
   "execution_count": 39,
   "id": "36a4e4bd",
   "metadata": {},
   "outputs": [
    {
     "data": {
      "text/plain": [
       "<bound method DataFrame.info of               id                                          msno  \\\n",
       "0              0  V8ruy7SGk7tDm3zA51DPpn6qutt+vmKMBKa21dp54uM=   \n",
       "1              1  V8ruy7SGk7tDm3zA51DPpn6qutt+vmKMBKa21dp54uM=   \n",
       "2              2  /uQAlrAkaczV+nWCd2sPF2ekvXPRipV7q0l+gbLuxjw=   \n",
       "3              3  1a6oo/iXKatxQx4eS9zTVD+KlSVaAFbTIqVvwLC1Y0k=   \n",
       "4              4  1a6oo/iXKatxQx4eS9zTVD+KlSVaAFbTIqVvwLC1Y0k=   \n",
       "...          ...                                           ...   \n",
       "1048570  1048570  J2a1D0MldMzdUZh99b2V5HQCtAl0bWnWSp45HSU/YH0=   \n",
       "1048571  1048571  J2a1D0MldMzdUZh99b2V5HQCtAl0bWnWSp45HSU/YH0=   \n",
       "1048572  1048572  J2a1D0MldMzdUZh99b2V5HQCtAl0bWnWSp45HSU/YH0=   \n",
       "1048573  1048573  J2a1D0MldMzdUZh99b2V5HQCtAl0bWnWSp45HSU/YH0=   \n",
       "1048574  1048574  J2a1D0MldMzdUZh99b2V5HQCtAl0bWnWSp45HSU/YH0=   \n",
       "\n",
       "                                              song_id source_system_tab  \\\n",
       "0        WmHKgKMlp1lQMecNdNvDMkvIycZYHnFwDT72I5sIssc=        my library   \n",
       "1        y/rsZ9DC7FwK5F2PK2D5mj+aOBUJAjuu3dZ14NgE0vM=        my library   \n",
       "2        8eZLFOdGVdXBSqoAv5nsLigeH2BvKXzTQYtUM53I0k4=          discover   \n",
       "3        ztCf8thYsS4YN3GcIL/bvoxLm/T5mYBVKOO4C9NiVfQ=             radio   \n",
       "4        MKVMpslKcQhMaFEgcEQhEfi5+RZhMYlU3eRDpySrH8Y=             radio   \n",
       "...                                               ...               ...   \n",
       "1048570  WGGGNQ/g+Z+3CvYBSiL5PAXI8MqNApAT+skNJiHm1mE=          discover   \n",
       "1048571  Ka7MiMDNrrXKDOF468tyHz2c6aruoe4K4YH9O21kIrM=          discover   \n",
       "1048572  WnX1xlQ8vaDlSal2wzPiJYfaJZex76ya7wvlphajEOU=          discover   \n",
       "1048573  CSpYNBusxUao3QvX8hb7kse7X9o7d/QDE3NPlydjLqI=          discover   \n",
       "1048574  3oktJO/2MngRxpaCJPHL2XXUICv+DqonwhUj270cFSY=          discover   \n",
       "\n",
       "          source_screen_name          source_type  \n",
       "0        Local playlist more        local-library  \n",
       "1        Local playlist more        local-library  \n",
       "2                        NaN  song-based-playlist  \n",
       "3                      Radio                radio  \n",
       "4                      Radio                radio  \n",
       "...                      ...                  ...  \n",
       "1048570           Album more                album  \n",
       "1048571           Album more                album  \n",
       "1048572           Album more                album  \n",
       "1048573           Album more                album  \n",
       "1048574           Album more                album  \n",
       "\n",
       "[1048575 rows x 6 columns]>"
      ]
     },
     "execution_count": 39,
     "metadata": {},
     "output_type": "execute_result"
    }
   ],
   "source": [
    "df4.info"
   ]
  },
  {
   "cell_type": "code",
   "execution_count": 40,
   "id": "027f5db5",
   "metadata": {},
   "outputs": [
    {
     "data": {
      "text/plain": [
       "<bound method DataFrame.info of                                                  msno  \\\n",
       "0        FGtllVqz18RPiwJj/edr2gV78zirAiY/9SmYvia+kCg=   \n",
       "1        Xumu+NIjS6QYVxDS4/t3SawvJ7viT9hPKXmf0RtLNx8=   \n",
       "2        Xumu+NIjS6QYVxDS4/t3SawvJ7viT9hPKXmf0RtLNx8=   \n",
       "3        Xumu+NIjS6QYVxDS4/t3SawvJ7viT9hPKXmf0RtLNx8=   \n",
       "4        FGtllVqz18RPiwJj/edr2gV78zirAiY/9SmYvia+kCg=   \n",
       "...                                               ...   \n",
       "1048570  xF+utWsPHfbvt60HOgU/ZYQ0HnboeyRf0UXo5pPyP0Q=   \n",
       "1048571  P3obZgg2TmWGlUbGb7rz/G2CCX7cpYJ691Iyvfv2j4g=   \n",
       "1048572  P3obZgg2TmWGlUbGb7rz/G2CCX7cpYJ691Iyvfv2j4g=   \n",
       "1048573  FBn5lX1m8BNAFevy7oiAe8JBxi20akyXBW7zG0MBVbQ=   \n",
       "1048574  kXkMzhyacFrtSI922IBs0BcmNxKedV4+837lljPNTQA=   \n",
       "\n",
       "                                              song_id source_system_tab  \\\n",
       "0        BBzumQNXUHKdEBOB7mAJuzok+IJA1c2Ryg/yzTF6tik=           explore   \n",
       "1        bhp/MpSNoqoxOIB+/l8WPqu6jldth4DIpCm3ayXnJqM=        my library   \n",
       "2        JNWfrrC7zNN7BdMpsISKa4Mw+xVJYNnxXh3/Epw7QgY=        my library   \n",
       "3        2A87tzfnJTSWqD7gIZHisolhe4DMdzkbd6LzO1KHjNs=        my library   \n",
       "4        3qm6XTZ6MOCU11x8FIVbAGH5l5uMkT3/ZalWG1oo2Gc=           explore   \n",
       "...                                               ...               ...   \n",
       "1048570  gLwsZgboyA4rhNmspKQpnvdsLFdv4fzQMBkcdvnCfk8=        my library   \n",
       "1048571  iUYmqmX3CXBXzFIn2RiJLMLnwZ3/TSYhf9NDuZGqCBg=          discover   \n",
       "1048572  IKoZne4v1VzCh7r0lVmOn1hOUdTMkAiniHnKELDq8es=          discover   \n",
       "1048573  T86YHdD4C9JSc274b1IlMkLuNdz4BQRB50fWWE7hx9g=          discover   \n",
       "1048574  jHMqK5wu5C0txl0QCxpkSM1xbIev60ii+dc99LXu8EI=          discover   \n",
       "\n",
       "           source_screen_name      source_type  target  \n",
       "0                     Explore  online-playlist       1  \n",
       "1         Local playlist more   local-playlist       1  \n",
       "2         Local playlist more   local-playlist       1  \n",
       "3         Local playlist more   local-playlist       1  \n",
       "4                     Explore  online-playlist       1  \n",
       "...                       ...              ...     ...  \n",
       "1048570   Local playlist more    local-library       0  \n",
       "1048571        Discover Chart  online-playlist       1  \n",
       "1048572        Discover Chart  online-playlist       1  \n",
       "1048573  Online playlist more  online-playlist       1  \n",
       "1048574  Online playlist more  online-playlist       1  \n",
       "\n",
       "[1048575 rows x 6 columns]>"
      ]
     },
     "execution_count": 40,
     "metadata": {},
     "output_type": "execute_result"
    }
   ],
   "source": [
    "df5.info"
   ]
  },
  {
   "cell_type": "code",
   "execution_count": 41,
   "id": "7a87e4d3",
   "metadata": {},
   "outputs": [
    {
     "name": "stdout",
     "output_type": "stream",
     "text": [
      "<class 'pandas.core.frame.DataFrame'>\n",
      "RangeIndex: 34403 entries, 0 to 34402\n",
      "Data columns (total 7 columns):\n",
      " #   Column                  Non-Null Count  Dtype \n",
      "---  ------                  --------------  ----- \n",
      " 0   msno                    34403 non-null  object\n",
      " 1   city                    34403 non-null  int64 \n",
      " 2   bd                      34403 non-null  int64 \n",
      " 3   gender                  14501 non-null  object\n",
      " 4   registered_via          34403 non-null  int64 \n",
      " 5   registration_init_time  34403 non-null  int64 \n",
      " 6   expiration_date         34403 non-null  int64 \n",
      "dtypes: int64(5), object(2)\n",
      "memory usage: 1.8+ MB\n"
     ]
    }
   ],
   "source": [
    "df.info()"
   ]
  },
  {
   "cell_type": "code",
   "execution_count": 42,
   "id": "7267946f",
   "metadata": {},
   "outputs": [
    {
     "name": "stdout",
     "output_type": "stream",
     "text": [
      "<class 'pandas.core.frame.DataFrame'>\n",
      "RangeIndex: 1048575 entries, 0 to 1048574\n",
      "Data columns (total 2 columns):\n",
      " #   Column  Non-Null Count    Dtype  \n",
      "---  ------  --------------    -----  \n",
      " 0   id      1048575 non-null  int64  \n",
      " 1   target  1048575 non-null  float64\n",
      "dtypes: float64(1), int64(1)\n",
      "memory usage: 16.0 MB\n"
     ]
    }
   ],
   "source": [
    "df1.info()"
   ]
  },
  {
   "cell_type": "code",
   "execution_count": 43,
   "id": "563ea9e4",
   "metadata": {},
   "outputs": [
    {
     "name": "stdout",
     "output_type": "stream",
     "text": [
      "<class 'pandas.core.frame.DataFrame'>\n",
      "RangeIndex: 1048575 entries, 0 to 1048574\n",
      "Data columns (total 7 columns):\n",
      " #   Column       Non-Null Count    Dtype  \n",
      "---  ------       --------------    -----  \n",
      " 0   song_id      1048575 non-null  object \n",
      " 1   song_length  1048575 non-null  int64  \n",
      " 2   genre_ids    1011299 non-null  object \n",
      " 3   artist_name  1048575 non-null  object \n",
      " 4   composer     570554 non-null   object \n",
      " 5   lyricist     188366 non-null   object \n",
      " 6   language     1048574 non-null  float64\n",
      "dtypes: float64(1), int64(1), object(5)\n",
      "memory usage: 56.0+ MB\n"
     ]
    }
   ],
   "source": [
    "df2.info()"
   ]
  },
  {
   "cell_type": "code",
   "execution_count": 44,
   "id": "68279ae7",
   "metadata": {},
   "outputs": [
    {
     "name": "stdout",
     "output_type": "stream",
     "text": [
      "<class 'pandas.core.frame.DataFrame'>\n",
      "RangeIndex: 1048575 entries, 0 to 1048574\n",
      "Data columns (total 3 columns):\n",
      " #   Column   Non-Null Count    Dtype \n",
      "---  ------   --------------    ----- \n",
      " 0   song_id  1048575 non-null  object\n",
      " 1   name     1048573 non-null  object\n",
      " 2   isrc     967252 non-null   object\n",
      "dtypes: object(3)\n",
      "memory usage: 24.0+ MB\n"
     ]
    }
   ],
   "source": [
    "df3.info()"
   ]
  },
  {
   "cell_type": "code",
   "execution_count": 45,
   "id": "209c6dbc",
   "metadata": {},
   "outputs": [
    {
     "name": "stdout",
     "output_type": "stream",
     "text": [
      "<class 'pandas.core.frame.DataFrame'>\n",
      "RangeIndex: 1048575 entries, 0 to 1048574\n",
      "Data columns (total 6 columns):\n",
      " #   Column              Non-Null Count    Dtype \n",
      "---  ------              --------------    ----- \n",
      " 0   id                  1048575 non-null  int64 \n",
      " 1   msno                1048575 non-null  object\n",
      " 2   song_id             1048575 non-null  object\n",
      " 3   source_system_tab   1045122 non-null  object\n",
      " 4   source_screen_name  985099 non-null   object\n",
      " 5   source_type         1045571 non-null  object\n",
      "dtypes: int64(1), object(5)\n",
      "memory usage: 48.0+ MB\n"
     ]
    }
   ],
   "source": [
    "df4.info()"
   ]
  },
  {
   "cell_type": "code",
   "execution_count": 46,
   "id": "cee1e042",
   "metadata": {},
   "outputs": [
    {
     "name": "stdout",
     "output_type": "stream",
     "text": [
      "<class 'pandas.core.frame.DataFrame'>\n",
      "RangeIndex: 1048575 entries, 0 to 1048574\n",
      "Data columns (total 6 columns):\n",
      " #   Column              Non-Null Count    Dtype \n",
      "---  ------              --------------    ----- \n",
      " 0   msno                1048575 non-null  object\n",
      " 1   song_id             1048575 non-null  object\n",
      " 2   source_system_tab   1045469 non-null  object\n",
      " 3   source_screen_name  1000397 non-null  object\n",
      " 4   source_type         1045873 non-null  object\n",
      " 5   target              1048575 non-null  int64 \n",
      "dtypes: int64(1), object(5)\n",
      "memory usage: 48.0+ MB\n"
     ]
    }
   ],
   "source": [
    "df5.info()"
   ]
  },
  {
   "cell_type": "code",
   "execution_count": 47,
   "id": "5b8a433f",
   "metadata": {},
   "outputs": [
    {
     "data": {
      "text/html": [
       "<div>\n",
       "<style scoped>\n",
       "    .dataframe tbody tr th:only-of-type {\n",
       "        vertical-align: middle;\n",
       "    }\n",
       "\n",
       "    .dataframe tbody tr th {\n",
       "        vertical-align: top;\n",
       "    }\n",
       "\n",
       "    .dataframe thead th {\n",
       "        text-align: right;\n",
       "    }\n",
       "</style>\n",
       "<table border=\"1\" class=\"dataframe\">\n",
       "  <thead>\n",
       "    <tr style=\"text-align: right;\">\n",
       "      <th></th>\n",
       "      <th>city</th>\n",
       "      <th>bd</th>\n",
       "      <th>registered_via</th>\n",
       "      <th>registration_init_time</th>\n",
       "      <th>expiration_date</th>\n",
       "    </tr>\n",
       "  </thead>\n",
       "  <tbody>\n",
       "    <tr>\n",
       "      <th>count</th>\n",
       "      <td>34403.000000</td>\n",
       "      <td>34403.000000</td>\n",
       "      <td>34403.000000</td>\n",
       "      <td>3.440300e+04</td>\n",
       "      <td>3.440300e+04</td>\n",
       "    </tr>\n",
       "    <tr>\n",
       "      <th>mean</th>\n",
       "      <td>5.371276</td>\n",
       "      <td>12.280935</td>\n",
       "      <td>5.953376</td>\n",
       "      <td>2.013994e+07</td>\n",
       "      <td>2.016901e+07</td>\n",
       "    </tr>\n",
       "    <tr>\n",
       "      <th>std</th>\n",
       "      <td>6.243929</td>\n",
       "      <td>18.170251</td>\n",
       "      <td>2.287534</td>\n",
       "      <td>2.954015e+04</td>\n",
       "      <td>7.320925e+03</td>\n",
       "    </tr>\n",
       "    <tr>\n",
       "      <th>min</th>\n",
       "      <td>1.000000</td>\n",
       "      <td>-43.000000</td>\n",
       "      <td>3.000000</td>\n",
       "      <td>2.004033e+07</td>\n",
       "      <td>1.970010e+07</td>\n",
       "    </tr>\n",
       "    <tr>\n",
       "      <th>25%</th>\n",
       "      <td>1.000000</td>\n",
       "      <td>0.000000</td>\n",
       "      <td>4.000000</td>\n",
       "      <td>2.012103e+07</td>\n",
       "      <td>2.017020e+07</td>\n",
       "    </tr>\n",
       "    <tr>\n",
       "      <th>50%</th>\n",
       "      <td>1.000000</td>\n",
       "      <td>0.000000</td>\n",
       "      <td>7.000000</td>\n",
       "      <td>2.015090e+07</td>\n",
       "      <td>2.017091e+07</td>\n",
       "    </tr>\n",
       "    <tr>\n",
       "      <th>75%</th>\n",
       "      <td>10.000000</td>\n",
       "      <td>25.000000</td>\n",
       "      <td>9.000000</td>\n",
       "      <td>2.016110e+07</td>\n",
       "      <td>2.017093e+07</td>\n",
       "    </tr>\n",
       "    <tr>\n",
       "      <th>max</th>\n",
       "      <td>22.000000</td>\n",
       "      <td>1051.000000</td>\n",
       "      <td>16.000000</td>\n",
       "      <td>2.017023e+07</td>\n",
       "      <td>2.020102e+07</td>\n",
       "    </tr>\n",
       "  </tbody>\n",
       "</table>\n",
       "</div>"
      ],
      "text/plain": [
       "               city            bd  registered_via  registration_init_time  \\\n",
       "count  34403.000000  34403.000000    34403.000000            3.440300e+04   \n",
       "mean       5.371276     12.280935        5.953376            2.013994e+07   \n",
       "std        6.243929     18.170251        2.287534            2.954015e+04   \n",
       "min        1.000000    -43.000000        3.000000            2.004033e+07   \n",
       "25%        1.000000      0.000000        4.000000            2.012103e+07   \n",
       "50%        1.000000      0.000000        7.000000            2.015090e+07   \n",
       "75%       10.000000     25.000000        9.000000            2.016110e+07   \n",
       "max       22.000000   1051.000000       16.000000            2.017023e+07   \n",
       "\n",
       "       expiration_date  \n",
       "count     3.440300e+04  \n",
       "mean      2.016901e+07  \n",
       "std       7.320925e+03  \n",
       "min       1.970010e+07  \n",
       "25%       2.017020e+07  \n",
       "50%       2.017091e+07  \n",
       "75%       2.017093e+07  \n",
       "max       2.020102e+07  "
      ]
     },
     "execution_count": 47,
     "metadata": {},
     "output_type": "execute_result"
    }
   ],
   "source": [
    "df.describe()"
   ]
  },
  {
   "cell_type": "code",
   "execution_count": 48,
   "id": "7896857d",
   "metadata": {},
   "outputs": [
    {
     "data": {
      "text/html": [
       "<div>\n",
       "<style scoped>\n",
       "    .dataframe tbody tr th:only-of-type {\n",
       "        vertical-align: middle;\n",
       "    }\n",
       "\n",
       "    .dataframe tbody tr th {\n",
       "        vertical-align: top;\n",
       "    }\n",
       "\n",
       "    .dataframe thead th {\n",
       "        text-align: right;\n",
       "    }\n",
       "</style>\n",
       "<table border=\"1\" class=\"dataframe\">\n",
       "  <thead>\n",
       "    <tr style=\"text-align: right;\">\n",
       "      <th></th>\n",
       "      <th>id</th>\n",
       "      <th>target</th>\n",
       "    </tr>\n",
       "  </thead>\n",
       "  <tbody>\n",
       "    <tr>\n",
       "      <th>count</th>\n",
       "      <td>1.048575e+06</td>\n",
       "      <td>1048575.0</td>\n",
       "    </tr>\n",
       "    <tr>\n",
       "      <th>mean</th>\n",
       "      <td>5.242870e+05</td>\n",
       "      <td>0.5</td>\n",
       "    </tr>\n",
       "    <tr>\n",
       "      <th>std</th>\n",
       "      <td>3.026977e+05</td>\n",
       "      <td>0.0</td>\n",
       "    </tr>\n",
       "    <tr>\n",
       "      <th>min</th>\n",
       "      <td>0.000000e+00</td>\n",
       "      <td>0.5</td>\n",
       "    </tr>\n",
       "    <tr>\n",
       "      <th>25%</th>\n",
       "      <td>2.621435e+05</td>\n",
       "      <td>0.5</td>\n",
       "    </tr>\n",
       "    <tr>\n",
       "      <th>50%</th>\n",
       "      <td>5.242870e+05</td>\n",
       "      <td>0.5</td>\n",
       "    </tr>\n",
       "    <tr>\n",
       "      <th>75%</th>\n",
       "      <td>7.864305e+05</td>\n",
       "      <td>0.5</td>\n",
       "    </tr>\n",
       "    <tr>\n",
       "      <th>max</th>\n",
       "      <td>1.048574e+06</td>\n",
       "      <td>0.5</td>\n",
       "    </tr>\n",
       "  </tbody>\n",
       "</table>\n",
       "</div>"
      ],
      "text/plain": [
       "                 id     target\n",
       "count  1.048575e+06  1048575.0\n",
       "mean   5.242870e+05        0.5\n",
       "std    3.026977e+05        0.0\n",
       "min    0.000000e+00        0.5\n",
       "25%    2.621435e+05        0.5\n",
       "50%    5.242870e+05        0.5\n",
       "75%    7.864305e+05        0.5\n",
       "max    1.048574e+06        0.5"
      ]
     },
     "execution_count": 48,
     "metadata": {},
     "output_type": "execute_result"
    }
   ],
   "source": [
    "df1.describe()"
   ]
  },
  {
   "cell_type": "code",
   "execution_count": 49,
   "id": "5ffd8329",
   "metadata": {},
   "outputs": [
    {
     "data": {
      "text/html": [
       "<div>\n",
       "<style scoped>\n",
       "    .dataframe tbody tr th:only-of-type {\n",
       "        vertical-align: middle;\n",
       "    }\n",
       "\n",
       "    .dataframe tbody tr th {\n",
       "        vertical-align: top;\n",
       "    }\n",
       "\n",
       "    .dataframe thead th {\n",
       "        text-align: right;\n",
       "    }\n",
       "</style>\n",
       "<table border=\"1\" class=\"dataframe\">\n",
       "  <thead>\n",
       "    <tr style=\"text-align: right;\">\n",
       "      <th></th>\n",
       "      <th>song_length</th>\n",
       "      <th>language</th>\n",
       "    </tr>\n",
       "  </thead>\n",
       "  <tbody>\n",
       "    <tr>\n",
       "      <th>count</th>\n",
       "      <td>1.048575e+06</td>\n",
       "      <td>1.048574e+06</td>\n",
       "    </tr>\n",
       "    <tr>\n",
       "      <th>mean</th>\n",
       "      <td>2.476199e+05</td>\n",
       "      <td>3.117676e+01</td>\n",
       "    </tr>\n",
       "    <tr>\n",
       "      <th>std</th>\n",
       "      <td>1.555091e+05</td>\n",
       "      <td>2.417372e+01</td>\n",
       "    </tr>\n",
       "    <tr>\n",
       "      <th>min</th>\n",
       "      <td>1.850000e+02</td>\n",
       "      <td>-1.000000e+00</td>\n",
       "    </tr>\n",
       "    <tr>\n",
       "      <th>25%</th>\n",
       "      <td>1.884530e+05</td>\n",
       "      <td>-1.000000e+00</td>\n",
       "    </tr>\n",
       "    <tr>\n",
       "      <th>50%</th>\n",
       "      <td>2.289370e+05</td>\n",
       "      <td>5.200000e+01</td>\n",
       "    </tr>\n",
       "    <tr>\n",
       "      <th>75%</th>\n",
       "      <td>2.763170e+05</td>\n",
       "      <td>5.200000e+01</td>\n",
       "    </tr>\n",
       "    <tr>\n",
       "      <th>max</th>\n",
       "      <td>1.217385e+07</td>\n",
       "      <td>5.900000e+01</td>\n",
       "    </tr>\n",
       "  </tbody>\n",
       "</table>\n",
       "</div>"
      ],
      "text/plain": [
       "        song_length      language\n",
       "count  1.048575e+06  1.048574e+06\n",
       "mean   2.476199e+05  3.117676e+01\n",
       "std    1.555091e+05  2.417372e+01\n",
       "min    1.850000e+02 -1.000000e+00\n",
       "25%    1.884530e+05 -1.000000e+00\n",
       "50%    2.289370e+05  5.200000e+01\n",
       "75%    2.763170e+05  5.200000e+01\n",
       "max    1.217385e+07  5.900000e+01"
      ]
     },
     "execution_count": 49,
     "metadata": {},
     "output_type": "execute_result"
    }
   ],
   "source": [
    "df2.describe()"
   ]
  },
  {
   "cell_type": "code",
   "execution_count": 50,
   "id": "5bccbe17",
   "metadata": {},
   "outputs": [
    {
     "data": {
      "text/html": [
       "<div>\n",
       "<style scoped>\n",
       "    .dataframe tbody tr th:only-of-type {\n",
       "        vertical-align: middle;\n",
       "    }\n",
       "\n",
       "    .dataframe tbody tr th {\n",
       "        vertical-align: top;\n",
       "    }\n",
       "\n",
       "    .dataframe thead th {\n",
       "        text-align: right;\n",
       "    }\n",
       "</style>\n",
       "<table border=\"1\" class=\"dataframe\">\n",
       "  <thead>\n",
       "    <tr style=\"text-align: right;\">\n",
       "      <th></th>\n",
       "      <th>song_id</th>\n",
       "      <th>name</th>\n",
       "      <th>isrc</th>\n",
       "    </tr>\n",
       "  </thead>\n",
       "  <tbody>\n",
       "    <tr>\n",
       "      <th>count</th>\n",
       "      <td>1048575</td>\n",
       "      <td>1048573</td>\n",
       "      <td>967252</td>\n",
       "    </tr>\n",
       "    <tr>\n",
       "      <th>unique</th>\n",
       "      <td>1048575</td>\n",
       "      <td>614947</td>\n",
       "      <td>845834</td>\n",
       "    </tr>\n",
       "    <tr>\n",
       "      <th>top</th>\n",
       "      <td>LP7pLJoJFBvyuUwvu+oLzjT+bI+UeBPURCecJsX1jjs=</td>\n",
       "      <td>Intro</td>\n",
       "      <td>GBPS81518952</td>\n",
       "    </tr>\n",
       "    <tr>\n",
       "      <th>freq</th>\n",
       "      <td>1</td>\n",
       "      <td>759</td>\n",
       "      <td>89</td>\n",
       "    </tr>\n",
       "  </tbody>\n",
       "</table>\n",
       "</div>"
      ],
      "text/plain": [
       "                                             song_id     name          isrc\n",
       "count                                        1048575  1048573        967252\n",
       "unique                                       1048575   614947        845834\n",
       "top     LP7pLJoJFBvyuUwvu+oLzjT+bI+UeBPURCecJsX1jjs=    Intro  GBPS81518952\n",
       "freq                                               1      759            89"
      ]
     },
     "execution_count": 50,
     "metadata": {},
     "output_type": "execute_result"
    }
   ],
   "source": [
    "df3.describe()"
   ]
  },
  {
   "cell_type": "code",
   "execution_count": 51,
   "id": "bd999193",
   "metadata": {},
   "outputs": [
    {
     "data": {
      "text/html": [
       "<div>\n",
       "<style scoped>\n",
       "    .dataframe tbody tr th:only-of-type {\n",
       "        vertical-align: middle;\n",
       "    }\n",
       "\n",
       "    .dataframe tbody tr th {\n",
       "        vertical-align: top;\n",
       "    }\n",
       "\n",
       "    .dataframe thead th {\n",
       "        text-align: right;\n",
       "    }\n",
       "</style>\n",
       "<table border=\"1\" class=\"dataframe\">\n",
       "  <thead>\n",
       "    <tr style=\"text-align: right;\">\n",
       "      <th></th>\n",
       "      <th>id</th>\n",
       "    </tr>\n",
       "  </thead>\n",
       "  <tbody>\n",
       "    <tr>\n",
       "      <th>count</th>\n",
       "      <td>1.048575e+06</td>\n",
       "    </tr>\n",
       "    <tr>\n",
       "      <th>mean</th>\n",
       "      <td>5.242870e+05</td>\n",
       "    </tr>\n",
       "    <tr>\n",
       "      <th>std</th>\n",
       "      <td>3.026977e+05</td>\n",
       "    </tr>\n",
       "    <tr>\n",
       "      <th>min</th>\n",
       "      <td>0.000000e+00</td>\n",
       "    </tr>\n",
       "    <tr>\n",
       "      <th>25%</th>\n",
       "      <td>2.621435e+05</td>\n",
       "    </tr>\n",
       "    <tr>\n",
       "      <th>50%</th>\n",
       "      <td>5.242870e+05</td>\n",
       "    </tr>\n",
       "    <tr>\n",
       "      <th>75%</th>\n",
       "      <td>7.864305e+05</td>\n",
       "    </tr>\n",
       "    <tr>\n",
       "      <th>max</th>\n",
       "      <td>1.048574e+06</td>\n",
       "    </tr>\n",
       "  </tbody>\n",
       "</table>\n",
       "</div>"
      ],
      "text/plain": [
       "                 id\n",
       "count  1.048575e+06\n",
       "mean   5.242870e+05\n",
       "std    3.026977e+05\n",
       "min    0.000000e+00\n",
       "25%    2.621435e+05\n",
       "50%    5.242870e+05\n",
       "75%    7.864305e+05\n",
       "max    1.048574e+06"
      ]
     },
     "execution_count": 51,
     "metadata": {},
     "output_type": "execute_result"
    }
   ],
   "source": [
    "df4.describe()"
   ]
  },
  {
   "cell_type": "code",
   "execution_count": 52,
   "id": "9a4a71b0",
   "metadata": {},
   "outputs": [
    {
     "data": {
      "text/html": [
       "<div>\n",
       "<style scoped>\n",
       "    .dataframe tbody tr th:only-of-type {\n",
       "        vertical-align: middle;\n",
       "    }\n",
       "\n",
       "    .dataframe tbody tr th {\n",
       "        vertical-align: top;\n",
       "    }\n",
       "\n",
       "    .dataframe thead th {\n",
       "        text-align: right;\n",
       "    }\n",
       "</style>\n",
       "<table border=\"1\" class=\"dataframe\">\n",
       "  <thead>\n",
       "    <tr style=\"text-align: right;\">\n",
       "      <th></th>\n",
       "      <th>target</th>\n",
       "    </tr>\n",
       "  </thead>\n",
       "  <tbody>\n",
       "    <tr>\n",
       "      <th>count</th>\n",
       "      <td>1.048575e+06</td>\n",
       "    </tr>\n",
       "    <tr>\n",
       "      <th>mean</th>\n",
       "      <td>6.894318e-01</td>\n",
       "    </tr>\n",
       "    <tr>\n",
       "      <th>std</th>\n",
       "      <td>4.627265e-01</td>\n",
       "    </tr>\n",
       "    <tr>\n",
       "      <th>min</th>\n",
       "      <td>0.000000e+00</td>\n",
       "    </tr>\n",
       "    <tr>\n",
       "      <th>25%</th>\n",
       "      <td>0.000000e+00</td>\n",
       "    </tr>\n",
       "    <tr>\n",
       "      <th>50%</th>\n",
       "      <td>1.000000e+00</td>\n",
       "    </tr>\n",
       "    <tr>\n",
       "      <th>75%</th>\n",
       "      <td>1.000000e+00</td>\n",
       "    </tr>\n",
       "    <tr>\n",
       "      <th>max</th>\n",
       "      <td>1.000000e+00</td>\n",
       "    </tr>\n",
       "  </tbody>\n",
       "</table>\n",
       "</div>"
      ],
      "text/plain": [
       "             target\n",
       "count  1.048575e+06\n",
       "mean   6.894318e-01\n",
       "std    4.627265e-01\n",
       "min    0.000000e+00\n",
       "25%    0.000000e+00\n",
       "50%    1.000000e+00\n",
       "75%    1.000000e+00\n",
       "max    1.000000e+00"
      ]
     },
     "execution_count": 52,
     "metadata": {},
     "output_type": "execute_result"
    }
   ],
   "source": [
    "df5.describe()"
   ]
  },
  {
   "cell_type": "code",
   "execution_count": 53,
   "id": "40fe9da3",
   "metadata": {},
   "outputs": [
    {
     "data": {
      "text/html": [
       "<div>\n",
       "<style scoped>\n",
       "    .dataframe tbody tr th:only-of-type {\n",
       "        vertical-align: middle;\n",
       "    }\n",
       "\n",
       "    .dataframe tbody tr th {\n",
       "        vertical-align: top;\n",
       "    }\n",
       "\n",
       "    .dataframe thead th {\n",
       "        text-align: right;\n",
       "    }\n",
       "</style>\n",
       "<table border=\"1\" class=\"dataframe\">\n",
       "  <thead>\n",
       "    <tr style=\"text-align: right;\">\n",
       "      <th></th>\n",
       "      <th>msno</th>\n",
       "      <th>city</th>\n",
       "      <th>bd</th>\n",
       "      <th>gender</th>\n",
       "      <th>registered_via</th>\n",
       "      <th>registration_init_time</th>\n",
       "      <th>expiration_date</th>\n",
       "    </tr>\n",
       "  </thead>\n",
       "  <tbody>\n",
       "    <tr>\n",
       "      <th>0</th>\n",
       "      <td>False</td>\n",
       "      <td>False</td>\n",
       "      <td>False</td>\n",
       "      <td>True</td>\n",
       "      <td>False</td>\n",
       "      <td>False</td>\n",
       "      <td>False</td>\n",
       "    </tr>\n",
       "    <tr>\n",
       "      <th>1</th>\n",
       "      <td>False</td>\n",
       "      <td>False</td>\n",
       "      <td>False</td>\n",
       "      <td>True</td>\n",
       "      <td>False</td>\n",
       "      <td>False</td>\n",
       "      <td>False</td>\n",
       "    </tr>\n",
       "    <tr>\n",
       "      <th>2</th>\n",
       "      <td>False</td>\n",
       "      <td>False</td>\n",
       "      <td>False</td>\n",
       "      <td>True</td>\n",
       "      <td>False</td>\n",
       "      <td>False</td>\n",
       "      <td>False</td>\n",
       "    </tr>\n",
       "    <tr>\n",
       "      <th>3</th>\n",
       "      <td>False</td>\n",
       "      <td>False</td>\n",
       "      <td>False</td>\n",
       "      <td>True</td>\n",
       "      <td>False</td>\n",
       "      <td>False</td>\n",
       "      <td>False</td>\n",
       "    </tr>\n",
       "    <tr>\n",
       "      <th>4</th>\n",
       "      <td>False</td>\n",
       "      <td>False</td>\n",
       "      <td>False</td>\n",
       "      <td>True</td>\n",
       "      <td>False</td>\n",
       "      <td>False</td>\n",
       "      <td>False</td>\n",
       "    </tr>\n",
       "    <tr>\n",
       "      <th>...</th>\n",
       "      <td>...</td>\n",
       "      <td>...</td>\n",
       "      <td>...</td>\n",
       "      <td>...</td>\n",
       "      <td>...</td>\n",
       "      <td>...</td>\n",
       "      <td>...</td>\n",
       "    </tr>\n",
       "    <tr>\n",
       "      <th>34398</th>\n",
       "      <td>False</td>\n",
       "      <td>False</td>\n",
       "      <td>False</td>\n",
       "      <td>True</td>\n",
       "      <td>False</td>\n",
       "      <td>False</td>\n",
       "      <td>False</td>\n",
       "    </tr>\n",
       "    <tr>\n",
       "      <th>34399</th>\n",
       "      <td>False</td>\n",
       "      <td>False</td>\n",
       "      <td>False</td>\n",
       "      <td>False</td>\n",
       "      <td>False</td>\n",
       "      <td>False</td>\n",
       "      <td>False</td>\n",
       "    </tr>\n",
       "    <tr>\n",
       "      <th>34400</th>\n",
       "      <td>False</td>\n",
       "      <td>False</td>\n",
       "      <td>False</td>\n",
       "      <td>True</td>\n",
       "      <td>False</td>\n",
       "      <td>False</td>\n",
       "      <td>False</td>\n",
       "    </tr>\n",
       "    <tr>\n",
       "      <th>34401</th>\n",
       "      <td>False</td>\n",
       "      <td>False</td>\n",
       "      <td>False</td>\n",
       "      <td>True</td>\n",
       "      <td>False</td>\n",
       "      <td>False</td>\n",
       "      <td>False</td>\n",
       "    </tr>\n",
       "    <tr>\n",
       "      <th>34402</th>\n",
       "      <td>False</td>\n",
       "      <td>False</td>\n",
       "      <td>False</td>\n",
       "      <td>True</td>\n",
       "      <td>False</td>\n",
       "      <td>False</td>\n",
       "      <td>False</td>\n",
       "    </tr>\n",
       "  </tbody>\n",
       "</table>\n",
       "<p>34403 rows × 7 columns</p>\n",
       "</div>"
      ],
      "text/plain": [
       "        msno   city     bd  gender  registered_via  registration_init_time  \\\n",
       "0      False  False  False    True           False                   False   \n",
       "1      False  False  False    True           False                   False   \n",
       "2      False  False  False    True           False                   False   \n",
       "3      False  False  False    True           False                   False   \n",
       "4      False  False  False    True           False                   False   \n",
       "...      ...    ...    ...     ...             ...                     ...   \n",
       "34398  False  False  False    True           False                   False   \n",
       "34399  False  False  False   False           False                   False   \n",
       "34400  False  False  False    True           False                   False   \n",
       "34401  False  False  False    True           False                   False   \n",
       "34402  False  False  False    True           False                   False   \n",
       "\n",
       "       expiration_date  \n",
       "0                False  \n",
       "1                False  \n",
       "2                False  \n",
       "3                False  \n",
       "4                False  \n",
       "...                ...  \n",
       "34398            False  \n",
       "34399            False  \n",
       "34400            False  \n",
       "34401            False  \n",
       "34402            False  \n",
       "\n",
       "[34403 rows x 7 columns]"
      ]
     },
     "execution_count": 53,
     "metadata": {},
     "output_type": "execute_result"
    }
   ],
   "source": [
    "df.isnull()"
   ]
  },
  {
   "cell_type": "code",
   "execution_count": 54,
   "id": "b299bc3a",
   "metadata": {},
   "outputs": [
    {
     "data": {
      "text/html": [
       "<div>\n",
       "<style scoped>\n",
       "    .dataframe tbody tr th:only-of-type {\n",
       "        vertical-align: middle;\n",
       "    }\n",
       "\n",
       "    .dataframe tbody tr th {\n",
       "        vertical-align: top;\n",
       "    }\n",
       "\n",
       "    .dataframe thead th {\n",
       "        text-align: right;\n",
       "    }\n",
       "</style>\n",
       "<table border=\"1\" class=\"dataframe\">\n",
       "  <thead>\n",
       "    <tr style=\"text-align: right;\">\n",
       "      <th></th>\n",
       "      <th>id</th>\n",
       "      <th>target</th>\n",
       "    </tr>\n",
       "  </thead>\n",
       "  <tbody>\n",
       "    <tr>\n",
       "      <th>0</th>\n",
       "      <td>False</td>\n",
       "      <td>False</td>\n",
       "    </tr>\n",
       "    <tr>\n",
       "      <th>1</th>\n",
       "      <td>False</td>\n",
       "      <td>False</td>\n",
       "    </tr>\n",
       "    <tr>\n",
       "      <th>2</th>\n",
       "      <td>False</td>\n",
       "      <td>False</td>\n",
       "    </tr>\n",
       "    <tr>\n",
       "      <th>3</th>\n",
       "      <td>False</td>\n",
       "      <td>False</td>\n",
       "    </tr>\n",
       "    <tr>\n",
       "      <th>4</th>\n",
       "      <td>False</td>\n",
       "      <td>False</td>\n",
       "    </tr>\n",
       "    <tr>\n",
       "      <th>...</th>\n",
       "      <td>...</td>\n",
       "      <td>...</td>\n",
       "    </tr>\n",
       "    <tr>\n",
       "      <th>1048570</th>\n",
       "      <td>False</td>\n",
       "      <td>False</td>\n",
       "    </tr>\n",
       "    <tr>\n",
       "      <th>1048571</th>\n",
       "      <td>False</td>\n",
       "      <td>False</td>\n",
       "    </tr>\n",
       "    <tr>\n",
       "      <th>1048572</th>\n",
       "      <td>False</td>\n",
       "      <td>False</td>\n",
       "    </tr>\n",
       "    <tr>\n",
       "      <th>1048573</th>\n",
       "      <td>False</td>\n",
       "      <td>False</td>\n",
       "    </tr>\n",
       "    <tr>\n",
       "      <th>1048574</th>\n",
       "      <td>False</td>\n",
       "      <td>False</td>\n",
       "    </tr>\n",
       "  </tbody>\n",
       "</table>\n",
       "<p>1048575 rows × 2 columns</p>\n",
       "</div>"
      ],
      "text/plain": [
       "            id  target\n",
       "0        False   False\n",
       "1        False   False\n",
       "2        False   False\n",
       "3        False   False\n",
       "4        False   False\n",
       "...        ...     ...\n",
       "1048570  False   False\n",
       "1048571  False   False\n",
       "1048572  False   False\n",
       "1048573  False   False\n",
       "1048574  False   False\n",
       "\n",
       "[1048575 rows x 2 columns]"
      ]
     },
     "execution_count": 54,
     "metadata": {},
     "output_type": "execute_result"
    }
   ],
   "source": [
    "df1.isnull()"
   ]
  },
  {
   "cell_type": "code",
   "execution_count": 55,
   "id": "aef6e50b",
   "metadata": {},
   "outputs": [
    {
     "data": {
      "text/html": [
       "<div>\n",
       "<style scoped>\n",
       "    .dataframe tbody tr th:only-of-type {\n",
       "        vertical-align: middle;\n",
       "    }\n",
       "\n",
       "    .dataframe tbody tr th {\n",
       "        vertical-align: top;\n",
       "    }\n",
       "\n",
       "    .dataframe thead th {\n",
       "        text-align: right;\n",
       "    }\n",
       "</style>\n",
       "<table border=\"1\" class=\"dataframe\">\n",
       "  <thead>\n",
       "    <tr style=\"text-align: right;\">\n",
       "      <th></th>\n",
       "      <th>song_id</th>\n",
       "      <th>song_length</th>\n",
       "      <th>genre_ids</th>\n",
       "      <th>artist_name</th>\n",
       "      <th>composer</th>\n",
       "      <th>lyricist</th>\n",
       "      <th>language</th>\n",
       "    </tr>\n",
       "  </thead>\n",
       "  <tbody>\n",
       "    <tr>\n",
       "      <th>0</th>\n",
       "      <td>False</td>\n",
       "      <td>False</td>\n",
       "      <td>False</td>\n",
       "      <td>False</td>\n",
       "      <td>False</td>\n",
       "      <td>False</td>\n",
       "      <td>False</td>\n",
       "    </tr>\n",
       "    <tr>\n",
       "      <th>1</th>\n",
       "      <td>False</td>\n",
       "      <td>False</td>\n",
       "      <td>False</td>\n",
       "      <td>False</td>\n",
       "      <td>False</td>\n",
       "      <td>False</td>\n",
       "      <td>False</td>\n",
       "    </tr>\n",
       "    <tr>\n",
       "      <th>2</th>\n",
       "      <td>False</td>\n",
       "      <td>False</td>\n",
       "      <td>False</td>\n",
       "      <td>False</td>\n",
       "      <td>True</td>\n",
       "      <td>True</td>\n",
       "      <td>False</td>\n",
       "    </tr>\n",
       "    <tr>\n",
       "      <th>3</th>\n",
       "      <td>False</td>\n",
       "      <td>False</td>\n",
       "      <td>False</td>\n",
       "      <td>False</td>\n",
       "      <td>False</td>\n",
       "      <td>False</td>\n",
       "      <td>False</td>\n",
       "    </tr>\n",
       "    <tr>\n",
       "      <th>4</th>\n",
       "      <td>False</td>\n",
       "      <td>False</td>\n",
       "      <td>False</td>\n",
       "      <td>False</td>\n",
       "      <td>False</td>\n",
       "      <td>False</td>\n",
       "      <td>False</td>\n",
       "    </tr>\n",
       "    <tr>\n",
       "      <th>...</th>\n",
       "      <td>...</td>\n",
       "      <td>...</td>\n",
       "      <td>...</td>\n",
       "      <td>...</td>\n",
       "      <td>...</td>\n",
       "      <td>...</td>\n",
       "      <td>...</td>\n",
       "    </tr>\n",
       "    <tr>\n",
       "      <th>1048570</th>\n",
       "      <td>False</td>\n",
       "      <td>False</td>\n",
       "      <td>True</td>\n",
       "      <td>False</td>\n",
       "      <td>True</td>\n",
       "      <td>True</td>\n",
       "      <td>False</td>\n",
       "    </tr>\n",
       "    <tr>\n",
       "      <th>1048571</th>\n",
       "      <td>False</td>\n",
       "      <td>False</td>\n",
       "      <td>False</td>\n",
       "      <td>False</td>\n",
       "      <td>True</td>\n",
       "      <td>True</td>\n",
       "      <td>False</td>\n",
       "    </tr>\n",
       "    <tr>\n",
       "      <th>1048572</th>\n",
       "      <td>False</td>\n",
       "      <td>False</td>\n",
       "      <td>False</td>\n",
       "      <td>False</td>\n",
       "      <td>False</td>\n",
       "      <td>True</td>\n",
       "      <td>False</td>\n",
       "    </tr>\n",
       "    <tr>\n",
       "      <th>1048573</th>\n",
       "      <td>False</td>\n",
       "      <td>False</td>\n",
       "      <td>False</td>\n",
       "      <td>False</td>\n",
       "      <td>True</td>\n",
       "      <td>True</td>\n",
       "      <td>False</td>\n",
       "    </tr>\n",
       "    <tr>\n",
       "      <th>1048574</th>\n",
       "      <td>False</td>\n",
       "      <td>False</td>\n",
       "      <td>False</td>\n",
       "      <td>False</td>\n",
       "      <td>False</td>\n",
       "      <td>True</td>\n",
       "      <td>False</td>\n",
       "    </tr>\n",
       "  </tbody>\n",
       "</table>\n",
       "<p>1048575 rows × 7 columns</p>\n",
       "</div>"
      ],
      "text/plain": [
       "         song_id  song_length  genre_ids  artist_name  composer  lyricist  \\\n",
       "0          False        False      False        False     False     False   \n",
       "1          False        False      False        False     False     False   \n",
       "2          False        False      False        False      True      True   \n",
       "3          False        False      False        False     False     False   \n",
       "4          False        False      False        False     False     False   \n",
       "...          ...          ...        ...          ...       ...       ...   \n",
       "1048570    False        False       True        False      True      True   \n",
       "1048571    False        False      False        False      True      True   \n",
       "1048572    False        False      False        False     False      True   \n",
       "1048573    False        False      False        False      True      True   \n",
       "1048574    False        False      False        False     False      True   \n",
       "\n",
       "         language  \n",
       "0           False  \n",
       "1           False  \n",
       "2           False  \n",
       "3           False  \n",
       "4           False  \n",
       "...           ...  \n",
       "1048570     False  \n",
       "1048571     False  \n",
       "1048572     False  \n",
       "1048573     False  \n",
       "1048574     False  \n",
       "\n",
       "[1048575 rows x 7 columns]"
      ]
     },
     "execution_count": 55,
     "metadata": {},
     "output_type": "execute_result"
    }
   ],
   "source": [
    "df2.isnull()"
   ]
  },
  {
   "cell_type": "code",
   "execution_count": 56,
   "id": "c58a57ce",
   "metadata": {},
   "outputs": [
    {
     "data": {
      "text/html": [
       "<div>\n",
       "<style scoped>\n",
       "    .dataframe tbody tr th:only-of-type {\n",
       "        vertical-align: middle;\n",
       "    }\n",
       "\n",
       "    .dataframe tbody tr th {\n",
       "        vertical-align: top;\n",
       "    }\n",
       "\n",
       "    .dataframe thead th {\n",
       "        text-align: right;\n",
       "    }\n",
       "</style>\n",
       "<table border=\"1\" class=\"dataframe\">\n",
       "  <thead>\n",
       "    <tr style=\"text-align: right;\">\n",
       "      <th></th>\n",
       "      <th>song_id</th>\n",
       "      <th>name</th>\n",
       "      <th>isrc</th>\n",
       "    </tr>\n",
       "  </thead>\n",
       "  <tbody>\n",
       "    <tr>\n",
       "      <th>0</th>\n",
       "      <td>False</td>\n",
       "      <td>False</td>\n",
       "      <td>False</td>\n",
       "    </tr>\n",
       "    <tr>\n",
       "      <th>1</th>\n",
       "      <td>False</td>\n",
       "      <td>False</td>\n",
       "      <td>False</td>\n",
       "    </tr>\n",
       "    <tr>\n",
       "      <th>2</th>\n",
       "      <td>False</td>\n",
       "      <td>False</td>\n",
       "      <td>False</td>\n",
       "    </tr>\n",
       "    <tr>\n",
       "      <th>3</th>\n",
       "      <td>False</td>\n",
       "      <td>False</td>\n",
       "      <td>False</td>\n",
       "    </tr>\n",
       "    <tr>\n",
       "      <th>4</th>\n",
       "      <td>False</td>\n",
       "      <td>False</td>\n",
       "      <td>False</td>\n",
       "    </tr>\n",
       "    <tr>\n",
       "      <th>...</th>\n",
       "      <td>...</td>\n",
       "      <td>...</td>\n",
       "      <td>...</td>\n",
       "    </tr>\n",
       "    <tr>\n",
       "      <th>1048570</th>\n",
       "      <td>False</td>\n",
       "      <td>False</td>\n",
       "      <td>False</td>\n",
       "    </tr>\n",
       "    <tr>\n",
       "      <th>1048571</th>\n",
       "      <td>False</td>\n",
       "      <td>False</td>\n",
       "      <td>False</td>\n",
       "    </tr>\n",
       "    <tr>\n",
       "      <th>1048572</th>\n",
       "      <td>False</td>\n",
       "      <td>False</td>\n",
       "      <td>False</td>\n",
       "    </tr>\n",
       "    <tr>\n",
       "      <th>1048573</th>\n",
       "      <td>False</td>\n",
       "      <td>False</td>\n",
       "      <td>False</td>\n",
       "    </tr>\n",
       "    <tr>\n",
       "      <th>1048574</th>\n",
       "      <td>False</td>\n",
       "      <td>False</td>\n",
       "      <td>False</td>\n",
       "    </tr>\n",
       "  </tbody>\n",
       "</table>\n",
       "<p>1048575 rows × 3 columns</p>\n",
       "</div>"
      ],
      "text/plain": [
       "         song_id   name   isrc\n",
       "0          False  False  False\n",
       "1          False  False  False\n",
       "2          False  False  False\n",
       "3          False  False  False\n",
       "4          False  False  False\n",
       "...          ...    ...    ...\n",
       "1048570    False  False  False\n",
       "1048571    False  False  False\n",
       "1048572    False  False  False\n",
       "1048573    False  False  False\n",
       "1048574    False  False  False\n",
       "\n",
       "[1048575 rows x 3 columns]"
      ]
     },
     "execution_count": 56,
     "metadata": {},
     "output_type": "execute_result"
    }
   ],
   "source": [
    "df3.isnull()"
   ]
  },
  {
   "cell_type": "code",
   "execution_count": 57,
   "id": "272b611f",
   "metadata": {},
   "outputs": [
    {
     "data": {
      "text/html": [
       "<div>\n",
       "<style scoped>\n",
       "    .dataframe tbody tr th:only-of-type {\n",
       "        vertical-align: middle;\n",
       "    }\n",
       "\n",
       "    .dataframe tbody tr th {\n",
       "        vertical-align: top;\n",
       "    }\n",
       "\n",
       "    .dataframe thead th {\n",
       "        text-align: right;\n",
       "    }\n",
       "</style>\n",
       "<table border=\"1\" class=\"dataframe\">\n",
       "  <thead>\n",
       "    <tr style=\"text-align: right;\">\n",
       "      <th></th>\n",
       "      <th>id</th>\n",
       "      <th>msno</th>\n",
       "      <th>song_id</th>\n",
       "      <th>source_system_tab</th>\n",
       "      <th>source_screen_name</th>\n",
       "      <th>source_type</th>\n",
       "    </tr>\n",
       "  </thead>\n",
       "  <tbody>\n",
       "    <tr>\n",
       "      <th>0</th>\n",
       "      <td>False</td>\n",
       "      <td>False</td>\n",
       "      <td>False</td>\n",
       "      <td>False</td>\n",
       "      <td>False</td>\n",
       "      <td>False</td>\n",
       "    </tr>\n",
       "    <tr>\n",
       "      <th>1</th>\n",
       "      <td>False</td>\n",
       "      <td>False</td>\n",
       "      <td>False</td>\n",
       "      <td>False</td>\n",
       "      <td>False</td>\n",
       "      <td>False</td>\n",
       "    </tr>\n",
       "    <tr>\n",
       "      <th>2</th>\n",
       "      <td>False</td>\n",
       "      <td>False</td>\n",
       "      <td>False</td>\n",
       "      <td>False</td>\n",
       "      <td>True</td>\n",
       "      <td>False</td>\n",
       "    </tr>\n",
       "    <tr>\n",
       "      <th>3</th>\n",
       "      <td>False</td>\n",
       "      <td>False</td>\n",
       "      <td>False</td>\n",
       "      <td>False</td>\n",
       "      <td>False</td>\n",
       "      <td>False</td>\n",
       "    </tr>\n",
       "    <tr>\n",
       "      <th>4</th>\n",
       "      <td>False</td>\n",
       "      <td>False</td>\n",
       "      <td>False</td>\n",
       "      <td>False</td>\n",
       "      <td>False</td>\n",
       "      <td>False</td>\n",
       "    </tr>\n",
       "    <tr>\n",
       "      <th>...</th>\n",
       "      <td>...</td>\n",
       "      <td>...</td>\n",
       "      <td>...</td>\n",
       "      <td>...</td>\n",
       "      <td>...</td>\n",
       "      <td>...</td>\n",
       "    </tr>\n",
       "    <tr>\n",
       "      <th>1048570</th>\n",
       "      <td>False</td>\n",
       "      <td>False</td>\n",
       "      <td>False</td>\n",
       "      <td>False</td>\n",
       "      <td>False</td>\n",
       "      <td>False</td>\n",
       "    </tr>\n",
       "    <tr>\n",
       "      <th>1048571</th>\n",
       "      <td>False</td>\n",
       "      <td>False</td>\n",
       "      <td>False</td>\n",
       "      <td>False</td>\n",
       "      <td>False</td>\n",
       "      <td>False</td>\n",
       "    </tr>\n",
       "    <tr>\n",
       "      <th>1048572</th>\n",
       "      <td>False</td>\n",
       "      <td>False</td>\n",
       "      <td>False</td>\n",
       "      <td>False</td>\n",
       "      <td>False</td>\n",
       "      <td>False</td>\n",
       "    </tr>\n",
       "    <tr>\n",
       "      <th>1048573</th>\n",
       "      <td>False</td>\n",
       "      <td>False</td>\n",
       "      <td>False</td>\n",
       "      <td>False</td>\n",
       "      <td>False</td>\n",
       "      <td>False</td>\n",
       "    </tr>\n",
       "    <tr>\n",
       "      <th>1048574</th>\n",
       "      <td>False</td>\n",
       "      <td>False</td>\n",
       "      <td>False</td>\n",
       "      <td>False</td>\n",
       "      <td>False</td>\n",
       "      <td>False</td>\n",
       "    </tr>\n",
       "  </tbody>\n",
       "</table>\n",
       "<p>1048575 rows × 6 columns</p>\n",
       "</div>"
      ],
      "text/plain": [
       "            id   msno  song_id  source_system_tab  source_screen_name  \\\n",
       "0        False  False    False              False               False   \n",
       "1        False  False    False              False               False   \n",
       "2        False  False    False              False                True   \n",
       "3        False  False    False              False               False   \n",
       "4        False  False    False              False               False   \n",
       "...        ...    ...      ...                ...                 ...   \n",
       "1048570  False  False    False              False               False   \n",
       "1048571  False  False    False              False               False   \n",
       "1048572  False  False    False              False               False   \n",
       "1048573  False  False    False              False               False   \n",
       "1048574  False  False    False              False               False   \n",
       "\n",
       "         source_type  \n",
       "0              False  \n",
       "1              False  \n",
       "2              False  \n",
       "3              False  \n",
       "4              False  \n",
       "...              ...  \n",
       "1048570        False  \n",
       "1048571        False  \n",
       "1048572        False  \n",
       "1048573        False  \n",
       "1048574        False  \n",
       "\n",
       "[1048575 rows x 6 columns]"
      ]
     },
     "execution_count": 57,
     "metadata": {},
     "output_type": "execute_result"
    }
   ],
   "source": [
    "df4.isnull()"
   ]
  },
  {
   "cell_type": "code",
   "execution_count": 58,
   "id": "92c2049e",
   "metadata": {},
   "outputs": [
    {
     "data": {
      "text/html": [
       "<div>\n",
       "<style scoped>\n",
       "    .dataframe tbody tr th:only-of-type {\n",
       "        vertical-align: middle;\n",
       "    }\n",
       "\n",
       "    .dataframe tbody tr th {\n",
       "        vertical-align: top;\n",
       "    }\n",
       "\n",
       "    .dataframe thead th {\n",
       "        text-align: right;\n",
       "    }\n",
       "</style>\n",
       "<table border=\"1\" class=\"dataframe\">\n",
       "  <thead>\n",
       "    <tr style=\"text-align: right;\">\n",
       "      <th></th>\n",
       "      <th>msno</th>\n",
       "      <th>song_id</th>\n",
       "      <th>source_system_tab</th>\n",
       "      <th>source_screen_name</th>\n",
       "      <th>source_type</th>\n",
       "      <th>target</th>\n",
       "    </tr>\n",
       "  </thead>\n",
       "  <tbody>\n",
       "    <tr>\n",
       "      <th>0</th>\n",
       "      <td>False</td>\n",
       "      <td>False</td>\n",
       "      <td>False</td>\n",
       "      <td>False</td>\n",
       "      <td>False</td>\n",
       "      <td>False</td>\n",
       "    </tr>\n",
       "    <tr>\n",
       "      <th>1</th>\n",
       "      <td>False</td>\n",
       "      <td>False</td>\n",
       "      <td>False</td>\n",
       "      <td>False</td>\n",
       "      <td>False</td>\n",
       "      <td>False</td>\n",
       "    </tr>\n",
       "    <tr>\n",
       "      <th>2</th>\n",
       "      <td>False</td>\n",
       "      <td>False</td>\n",
       "      <td>False</td>\n",
       "      <td>False</td>\n",
       "      <td>False</td>\n",
       "      <td>False</td>\n",
       "    </tr>\n",
       "    <tr>\n",
       "      <th>3</th>\n",
       "      <td>False</td>\n",
       "      <td>False</td>\n",
       "      <td>False</td>\n",
       "      <td>False</td>\n",
       "      <td>False</td>\n",
       "      <td>False</td>\n",
       "    </tr>\n",
       "    <tr>\n",
       "      <th>4</th>\n",
       "      <td>False</td>\n",
       "      <td>False</td>\n",
       "      <td>False</td>\n",
       "      <td>False</td>\n",
       "      <td>False</td>\n",
       "      <td>False</td>\n",
       "    </tr>\n",
       "    <tr>\n",
       "      <th>...</th>\n",
       "      <td>...</td>\n",
       "      <td>...</td>\n",
       "      <td>...</td>\n",
       "      <td>...</td>\n",
       "      <td>...</td>\n",
       "      <td>...</td>\n",
       "    </tr>\n",
       "    <tr>\n",
       "      <th>1048570</th>\n",
       "      <td>False</td>\n",
       "      <td>False</td>\n",
       "      <td>False</td>\n",
       "      <td>False</td>\n",
       "      <td>False</td>\n",
       "      <td>False</td>\n",
       "    </tr>\n",
       "    <tr>\n",
       "      <th>1048571</th>\n",
       "      <td>False</td>\n",
       "      <td>False</td>\n",
       "      <td>False</td>\n",
       "      <td>False</td>\n",
       "      <td>False</td>\n",
       "      <td>False</td>\n",
       "    </tr>\n",
       "    <tr>\n",
       "      <th>1048572</th>\n",
       "      <td>False</td>\n",
       "      <td>False</td>\n",
       "      <td>False</td>\n",
       "      <td>False</td>\n",
       "      <td>False</td>\n",
       "      <td>False</td>\n",
       "    </tr>\n",
       "    <tr>\n",
       "      <th>1048573</th>\n",
       "      <td>False</td>\n",
       "      <td>False</td>\n",
       "      <td>False</td>\n",
       "      <td>False</td>\n",
       "      <td>False</td>\n",
       "      <td>False</td>\n",
       "    </tr>\n",
       "    <tr>\n",
       "      <th>1048574</th>\n",
       "      <td>False</td>\n",
       "      <td>False</td>\n",
       "      <td>False</td>\n",
       "      <td>False</td>\n",
       "      <td>False</td>\n",
       "      <td>False</td>\n",
       "    </tr>\n",
       "  </tbody>\n",
       "</table>\n",
       "<p>1048575 rows × 6 columns</p>\n",
       "</div>"
      ],
      "text/plain": [
       "          msno  song_id  source_system_tab  source_screen_name  source_type  \\\n",
       "0        False    False              False               False        False   \n",
       "1        False    False              False               False        False   \n",
       "2        False    False              False               False        False   \n",
       "3        False    False              False               False        False   \n",
       "4        False    False              False               False        False   \n",
       "...        ...      ...                ...                 ...          ...   \n",
       "1048570  False    False              False               False        False   \n",
       "1048571  False    False              False               False        False   \n",
       "1048572  False    False              False               False        False   \n",
       "1048573  False    False              False               False        False   \n",
       "1048574  False    False              False               False        False   \n",
       "\n",
       "         target  \n",
       "0         False  \n",
       "1         False  \n",
       "2         False  \n",
       "3         False  \n",
       "4         False  \n",
       "...         ...  \n",
       "1048570   False  \n",
       "1048571   False  \n",
       "1048572   False  \n",
       "1048573   False  \n",
       "1048574   False  \n",
       "\n",
       "[1048575 rows x 6 columns]"
      ]
     },
     "execution_count": 58,
     "metadata": {},
     "output_type": "execute_result"
    }
   ],
   "source": [
    "df5.isnull()"
   ]
  },
  {
   "cell_type": "code",
   "execution_count": 59,
   "id": "18fc6a9c",
   "metadata": {},
   "outputs": [
    {
     "data": {
      "text/plain": [
       "msno                          0\n",
       "city                          0\n",
       "bd                            0\n",
       "gender                    19902\n",
       "registered_via                0\n",
       "registration_init_time        0\n",
       "expiration_date               0\n",
       "dtype: int64"
      ]
     },
     "execution_count": 59,
     "metadata": {},
     "output_type": "execute_result"
    }
   ],
   "source": [
    "df.isnull().sum()"
   ]
  },
  {
   "cell_type": "code",
   "execution_count": 60,
   "id": "6e4120e9",
   "metadata": {},
   "outputs": [
    {
     "data": {
      "text/plain": [
       "id        0\n",
       "target    0\n",
       "dtype: int64"
      ]
     },
     "execution_count": 60,
     "metadata": {},
     "output_type": "execute_result"
    }
   ],
   "source": [
    "df1.isnull().sum()"
   ]
  },
  {
   "cell_type": "code",
   "execution_count": 61,
   "id": "7ad44bcf",
   "metadata": {},
   "outputs": [
    {
     "data": {
      "text/plain": [
       "song_id             0\n",
       "song_length         0\n",
       "genre_ids       37276\n",
       "artist_name         0\n",
       "composer       478021\n",
       "lyricist       860209\n",
       "language            1\n",
       "dtype: int64"
      ]
     },
     "execution_count": 61,
     "metadata": {},
     "output_type": "execute_result"
    }
   ],
   "source": [
    "df2.isnull().sum()"
   ]
  },
  {
   "cell_type": "code",
   "execution_count": 62,
   "id": "0d213fba",
   "metadata": {},
   "outputs": [
    {
     "data": {
      "text/plain": [
       "song_id        0\n",
       "name           2\n",
       "isrc       81323\n",
       "dtype: int64"
      ]
     },
     "execution_count": 62,
     "metadata": {},
     "output_type": "execute_result"
    }
   ],
   "source": [
    "df3.isnull().sum()"
   ]
  },
  {
   "cell_type": "code",
   "execution_count": 63,
   "id": "44a90264",
   "metadata": {},
   "outputs": [
    {
     "data": {
      "text/plain": [
       "id                        0\n",
       "msno                      0\n",
       "song_id                   0\n",
       "source_system_tab      3453\n",
       "source_screen_name    63476\n",
       "source_type            3004\n",
       "dtype: int64"
      ]
     },
     "execution_count": 63,
     "metadata": {},
     "output_type": "execute_result"
    }
   ],
   "source": [
    "df4.isnull().sum()"
   ]
  },
  {
   "cell_type": "code",
   "execution_count": 64,
   "id": "2ab6335c",
   "metadata": {},
   "outputs": [
    {
     "data": {
      "text/plain": [
       "msno                      0\n",
       "song_id                   0\n",
       "source_system_tab      3106\n",
       "source_screen_name    48178\n",
       "source_type            2702\n",
       "target                    0\n",
       "dtype: int64"
      ]
     },
     "execution_count": 64,
     "metadata": {},
     "output_type": "execute_result"
    }
   ],
   "source": [
    "df5.isnull().sum()"
   ]
  },
  {
   "cell_type": "code",
   "execution_count": 65,
   "id": "4d003f19",
   "metadata": {},
   "outputs": [
    {
     "data": {
      "text/plain": [
       "0        False\n",
       "1        False\n",
       "2        False\n",
       "3        False\n",
       "4        False\n",
       "         ...  \n",
       "34398    False\n",
       "34399    False\n",
       "34400    False\n",
       "34401    False\n",
       "34402    False\n",
       "Length: 34403, dtype: bool"
      ]
     },
     "execution_count": 65,
     "metadata": {},
     "output_type": "execute_result"
    }
   ],
   "source": [
    "df.duplicated()"
   ]
  },
  {
   "cell_type": "code",
   "execution_count": 66,
   "id": "5908be17",
   "metadata": {},
   "outputs": [
    {
     "data": {
      "text/plain": [
       "0          False\n",
       "1          False\n",
       "2          False\n",
       "3          False\n",
       "4          False\n",
       "           ...  \n",
       "1048570    False\n",
       "1048571    False\n",
       "1048572    False\n",
       "1048573    False\n",
       "1048574    False\n",
       "Length: 1048575, dtype: bool"
      ]
     },
     "execution_count": 66,
     "metadata": {},
     "output_type": "execute_result"
    }
   ],
   "source": [
    "df1.duplicated()"
   ]
  },
  {
   "cell_type": "code",
   "execution_count": 67,
   "id": "056e1fac",
   "metadata": {},
   "outputs": [
    {
     "data": {
      "text/plain": [
       "0          False\n",
       "1          False\n",
       "2          False\n",
       "3          False\n",
       "4          False\n",
       "           ...  \n",
       "1048570    False\n",
       "1048571    False\n",
       "1048572    False\n",
       "1048573    False\n",
       "1048574    False\n",
       "Length: 1048575, dtype: bool"
      ]
     },
     "execution_count": 67,
     "metadata": {},
     "output_type": "execute_result"
    }
   ],
   "source": [
    "df2.duplicated()"
   ]
  },
  {
   "cell_type": "code",
   "execution_count": 68,
   "id": "0bf3da55",
   "metadata": {},
   "outputs": [
    {
     "data": {
      "text/plain": [
       "0          False\n",
       "1          False\n",
       "2          False\n",
       "3          False\n",
       "4          False\n",
       "           ...  \n",
       "1048570    False\n",
       "1048571    False\n",
       "1048572    False\n",
       "1048573    False\n",
       "1048574    False\n",
       "Length: 1048575, dtype: bool"
      ]
     },
     "execution_count": 68,
     "metadata": {},
     "output_type": "execute_result"
    }
   ],
   "source": [
    "df3.duplicated()"
   ]
  },
  {
   "cell_type": "code",
   "execution_count": 69,
   "id": "7f74e70a",
   "metadata": {},
   "outputs": [
    {
     "data": {
      "text/plain": [
       "0          False\n",
       "1          False\n",
       "2          False\n",
       "3          False\n",
       "4          False\n",
       "           ...  \n",
       "1048570    False\n",
       "1048571    False\n",
       "1048572    False\n",
       "1048573    False\n",
       "1048574    False\n",
       "Length: 1048575, dtype: bool"
      ]
     },
     "execution_count": 69,
     "metadata": {},
     "output_type": "execute_result"
    }
   ],
   "source": [
    "df4.duplicated()"
   ]
  },
  {
   "cell_type": "code",
   "execution_count": 70,
   "id": "8cfda93d",
   "metadata": {},
   "outputs": [
    {
     "data": {
      "text/plain": [
       "0          False\n",
       "1          False\n",
       "2          False\n",
       "3          False\n",
       "4          False\n",
       "           ...  \n",
       "1048570    False\n",
       "1048571    False\n",
       "1048572    False\n",
       "1048573    False\n",
       "1048574    False\n",
       "Length: 1048575, dtype: bool"
      ]
     },
     "execution_count": 70,
     "metadata": {},
     "output_type": "execute_result"
    }
   ],
   "source": [
    "df5.duplicated()"
   ]
  },
  {
   "cell_type": "code",
   "execution_count": 71,
   "id": "94657c13",
   "metadata": {},
   "outputs": [
    {
     "data": {
      "text/plain": [
       "False    34403\n",
       "dtype: int64"
      ]
     },
     "execution_count": 71,
     "metadata": {},
     "output_type": "execute_result"
    }
   ],
   "source": [
    "df.duplicated().value_counts()"
   ]
  },
  {
   "cell_type": "code",
   "execution_count": 72,
   "id": "3b18b019",
   "metadata": {},
   "outputs": [
    {
     "data": {
      "text/plain": [
       "False    1048575\n",
       "dtype: int64"
      ]
     },
     "execution_count": 72,
     "metadata": {},
     "output_type": "execute_result"
    }
   ],
   "source": [
    "df1.duplicated().value_counts()"
   ]
  },
  {
   "cell_type": "code",
   "execution_count": 73,
   "id": "1d6f12e1",
   "metadata": {},
   "outputs": [
    {
     "data": {
      "text/plain": [
       "False    1048575\n",
       "dtype: int64"
      ]
     },
     "execution_count": 73,
     "metadata": {},
     "output_type": "execute_result"
    }
   ],
   "source": [
    "df2.duplicated().value_counts()"
   ]
  },
  {
   "cell_type": "code",
   "execution_count": 74,
   "id": "21769e62",
   "metadata": {},
   "outputs": [
    {
     "data": {
      "text/plain": [
       "False    1048575\n",
       "dtype: int64"
      ]
     },
     "execution_count": 74,
     "metadata": {},
     "output_type": "execute_result"
    }
   ],
   "source": [
    "df3.duplicated().value_counts()"
   ]
  },
  {
   "cell_type": "code",
   "execution_count": 75,
   "id": "847f5e24",
   "metadata": {},
   "outputs": [
    {
     "data": {
      "text/plain": [
       "False    1048575\n",
       "dtype: int64"
      ]
     },
     "execution_count": 75,
     "metadata": {},
     "output_type": "execute_result"
    }
   ],
   "source": [
    "df4.duplicated().value_counts()"
   ]
  },
  {
   "cell_type": "code",
   "execution_count": 76,
   "id": "8322929b",
   "metadata": {},
   "outputs": [
    {
     "data": {
      "text/plain": [
       "False    1048575\n",
       "dtype: int64"
      ]
     },
     "execution_count": 76,
     "metadata": {},
     "output_type": "execute_result"
    }
   ],
   "source": [
    "df5.duplicated().value_counts()"
   ]
  },
  {
   "cell_type": "code",
   "execution_count": 77,
   "id": "6b6ce681",
   "metadata": {},
   "outputs": [
    {
     "data": {
      "text/plain": [
       "Index(['msno', 'city', 'bd', 'gender', 'registered_via',\n",
       "       'registration_init_time', 'expiration_date'],\n",
       "      dtype='object')"
      ]
     },
     "execution_count": 77,
     "metadata": {},
     "output_type": "execute_result"
    }
   ],
   "source": [
    "df.columns"
   ]
  },
  {
   "cell_type": "code",
   "execution_count": 78,
   "id": "85e62879",
   "metadata": {},
   "outputs": [
    {
     "data": {
      "text/plain": [
       "Index(['id', 'target'], dtype='object')"
      ]
     },
     "execution_count": 78,
     "metadata": {},
     "output_type": "execute_result"
    }
   ],
   "source": [
    "df1.columns"
   ]
  },
  {
   "cell_type": "code",
   "execution_count": 79,
   "id": "7ce74ab6",
   "metadata": {},
   "outputs": [
    {
     "data": {
      "text/plain": [
       "Index(['song_id', 'song_length', 'genre_ids', 'artist_name', 'composer',\n",
       "       'lyricist', 'language'],\n",
       "      dtype='object')"
      ]
     },
     "execution_count": 79,
     "metadata": {},
     "output_type": "execute_result"
    }
   ],
   "source": [
    "df2.columns"
   ]
  },
  {
   "cell_type": "code",
   "execution_count": 80,
   "id": "964bfd24",
   "metadata": {},
   "outputs": [
    {
     "data": {
      "text/plain": [
       "Index(['song_id', 'name', 'isrc'], dtype='object')"
      ]
     },
     "execution_count": 80,
     "metadata": {},
     "output_type": "execute_result"
    }
   ],
   "source": [
    "df3.columns"
   ]
  },
  {
   "cell_type": "code",
   "execution_count": 81,
   "id": "e1151143",
   "metadata": {},
   "outputs": [
    {
     "data": {
      "text/plain": [
       "Index(['id', 'msno', 'song_id', 'source_system_tab', 'source_screen_name',\n",
       "       'source_type'],\n",
       "      dtype='object')"
      ]
     },
     "execution_count": 81,
     "metadata": {},
     "output_type": "execute_result"
    }
   ],
   "source": [
    "df4.columns"
   ]
  },
  {
   "cell_type": "code",
   "execution_count": 82,
   "id": "c77f2f1c",
   "metadata": {},
   "outputs": [
    {
     "data": {
      "text/plain": [
       "Index(['msno', 'song_id', 'source_system_tab', 'source_screen_name',\n",
       "       'source_type', 'target'],\n",
       "      dtype='object')"
      ]
     },
     "execution_count": 82,
     "metadata": {},
     "output_type": "execute_result"
    }
   ],
   "source": [
    "df5.columns"
   ]
  },
  {
   "cell_type": "code",
   "execution_count": 83,
   "id": "76715b67",
   "metadata": {},
   "outputs": [
    {
     "data": {
      "text/plain": [
       "0    male\n",
       "Name: gender, dtype: object"
      ]
     },
     "execution_count": 83,
     "metadata": {},
     "output_type": "execute_result"
    }
   ],
   "source": [
    "# dealing with null values of df\n",
    "df['gender'].mode()"
   ]
  },
  {
   "cell_type": "code",
   "execution_count": 84,
   "id": "b278096a",
   "metadata": {},
   "outputs": [],
   "source": [
    "df['gender'].fillna('male', inplace=True)"
   ]
  },
  {
   "cell_type": "code",
   "execution_count": 85,
   "id": "473d3c05",
   "metadata": {},
   "outputs": [
    {
     "data": {
      "text/plain": [
       "0"
      ]
     },
     "execution_count": 85,
     "metadata": {},
     "output_type": "execute_result"
    }
   ],
   "source": [
    "df['gender'].isnull().sum()"
   ]
  },
  {
   "cell_type": "code",
   "execution_count": 86,
   "id": "f05416fc",
   "metadata": {},
   "outputs": [],
   "source": [
    "# dealing with null values of df2\n",
    "df2['genre_ids'].fillna(' ', inplace = True)\n",
    "df2['composer'].fillna(' ', inplace = True)\n",
    "df2['lyricist'].fillna(' ', inplace = True)"
   ]
  },
  {
   "cell_type": "code",
   "execution_count": 87,
   "id": "bf483671",
   "metadata": {},
   "outputs": [
    {
     "data": {
      "text/plain": [
       "song_id        0\n",
       "song_length    0\n",
       "genre_ids      0\n",
       "artist_name    0\n",
       "composer       0\n",
       "lyricist       0\n",
       "language       1\n",
       "dtype: int64"
      ]
     },
     "execution_count": 87,
     "metadata": {},
     "output_type": "execute_result"
    }
   ],
   "source": [
    "df2.isnull().sum()"
   ]
  },
  {
   "cell_type": "code",
   "execution_count": 88,
   "id": "68c44a08",
   "metadata": {},
   "outputs": [
    {
     "data": {
      "text/plain": [
       "31.176760056991686"
      ]
     },
     "execution_count": 88,
     "metadata": {},
     "output_type": "execute_result"
    }
   ],
   "source": [
    "df2['language'].mean()"
   ]
  },
  {
   "cell_type": "code",
   "execution_count": 89,
   "id": "196fd550",
   "metadata": {},
   "outputs": [
    {
     "data": {
      "text/plain": [
       "52.0"
      ]
     },
     "execution_count": 89,
     "metadata": {},
     "output_type": "execute_result"
    }
   ],
   "source": [
    "df2['language'].median()"
   ]
  },
  {
   "cell_type": "code",
   "execution_count": 90,
   "id": "e3e59c48",
   "metadata": {},
   "outputs": [
    {
     "data": {
      "text/plain": [
       "0    52.0\n",
       "Name: language, dtype: float64"
      ]
     },
     "execution_count": 90,
     "metadata": {},
     "output_type": "execute_result"
    }
   ],
   "source": [
    "df2['language'].mode()"
   ]
  },
  {
   "cell_type": "code",
   "execution_count": 91,
   "id": "aa8642e5",
   "metadata": {},
   "outputs": [],
   "source": [
    "# median and mode are same so I am replacing lang with either\n",
    "df2['language'].fillna('52.0', inplace = True)"
   ]
  },
  {
   "cell_type": "code",
   "execution_count": 92,
   "id": "ee4fd012",
   "metadata": {},
   "outputs": [
    {
     "data": {
      "text/plain": [
       "song_id        0\n",
       "song_length    0\n",
       "genre_ids      0\n",
       "artist_name    0\n",
       "composer       0\n",
       "lyricist       0\n",
       "language       0\n",
       "dtype: int64"
      ]
     },
     "execution_count": 92,
     "metadata": {},
     "output_type": "execute_result"
    }
   ],
   "source": [
    "df2.isnull().sum()"
   ]
  },
  {
   "cell_type": "code",
   "execution_count": 93,
   "id": "94973f4b",
   "metadata": {},
   "outputs": [
    {
     "data": {
      "text/plain": [
       "0    Intro\n",
       "Name: name, dtype: object"
      ]
     },
     "execution_count": 93,
     "metadata": {},
     "output_type": "execute_result"
    }
   ],
   "source": [
    "# dealing with null values of df3\n",
    "df3['name'].mode()"
   ]
  },
  {
   "cell_type": "code",
   "execution_count": 94,
   "id": "e168d2ff",
   "metadata": {},
   "outputs": [],
   "source": [
    "df3['name'].fillna('Intro', inplace=True)"
   ]
  },
  {
   "cell_type": "code",
   "execution_count": 95,
   "id": "7c6c416c",
   "metadata": {},
   "outputs": [],
   "source": [
    "df3.dropna(axis=1, inplace=True)"
   ]
  },
  {
   "cell_type": "code",
   "execution_count": 96,
   "id": "50ef2f25",
   "metadata": {},
   "outputs": [
    {
     "data": {
      "text/plain": [
       "song_id    0\n",
       "name       0\n",
       "dtype: int64"
      ]
     },
     "execution_count": 96,
     "metadata": {},
     "output_type": "execute_result"
    }
   ],
   "source": [
    "df3.isnull().sum()"
   ]
  },
  {
   "cell_type": "code",
   "execution_count": 97,
   "id": "c351f4af",
   "metadata": {},
   "outputs": [],
   "source": [
    "# dealing with null values of df4\n",
    "df4.drop(['source_system_tab', 'source_screen_name', 'source_type'], axis=1, inplace=True)"
   ]
  },
  {
   "cell_type": "code",
   "execution_count": 98,
   "id": "0868a6da",
   "metadata": {},
   "outputs": [
    {
     "data": {
      "text/plain": [
       "id         0\n",
       "msno       0\n",
       "song_id    0\n",
       "dtype: int64"
      ]
     },
     "execution_count": 98,
     "metadata": {},
     "output_type": "execute_result"
    }
   ],
   "source": [
    "df4.isnull().sum()"
   ]
  },
  {
   "cell_type": "code",
   "execution_count": 99,
   "id": "8e24f5e1",
   "metadata": {},
   "outputs": [],
   "source": [
    "# dealing with null values of df5\n",
    "df5.drop(['source_system_tab', 'source_screen_name', 'source_type'], axis=1, inplace=True)"
   ]
  },
  {
   "cell_type": "code",
   "execution_count": 100,
   "id": "ee1af6d4",
   "metadata": {},
   "outputs": [
    {
     "data": {
      "text/plain": [
       "msno       0\n",
       "song_id    0\n",
       "target     0\n",
       "dtype: int64"
      ]
     },
     "execution_count": 100,
     "metadata": {},
     "output_type": "execute_result"
    }
   ],
   "source": [
    "df5.isnull().sum()"
   ]
  },
  {
   "cell_type": "code",
   "execution_count": 101,
   "id": "0e50d743",
   "metadata": {},
   "outputs": [],
   "source": [
    "df4.rename(columns={'msno':'user_id'}, inplace=True)"
   ]
  },
  {
   "cell_type": "code",
   "execution_count": 102,
   "id": "6e5d268b",
   "metadata": {},
   "outputs": [],
   "source": [
    "df5.rename(columns={'msno':'user_id'}, inplace=True)"
   ]
  },
  {
   "cell_type": "code",
   "execution_count": 103,
   "id": "e5d300ba",
   "metadata": {},
   "outputs": [
    {
     "data": {
      "text/plain": [
       "<seaborn.axisgrid.PairGrid at 0x14883cdb610>"
      ]
     },
     "execution_count": 103,
     "metadata": {},
     "output_type": "execute_result"
    },
    {
     "data": {
      "image/png": "[encoded data removed]",
      "text/plain": [
       "<Figure size 1250x1250 with 30 Axes>"
      ]
     },
     "metadata": {},
     "output_type": "display_data"
    }
   ],
   "source": [
    "sns.pairplot(df)"
   ]
  },
  {
   "cell_type": "code",
   "execution_count": 104,
   "id": "0dd69da8",
   "metadata": {},
   "outputs": [
    {
     "data": {
      "image/png": "[encoded data removed]",
      "text/plain": [
       "<Figure size 500x500 with 6 Axes>"
      ]
     },
     "metadata": {},
     "output_type": "display_data"
    }
   ],
   "source": [
    "sns.pairplot(df1)\n",
    "plt.show()"
   ]
  },
  {
   "cell_type": "code",
   "execution_count": 105,
   "id": "6e2eb0a1",
   "metadata": {},
   "outputs": [
    {
     "data": {
      "image/png": "[encoded data removed]",
      "text/plain": [
       "<Figure size 250x250 with 2 Axes>"
      ]
     },
     "metadata": {},
     "output_type": "display_data"
    }
   ],
   "source": [
    "sns.pairplot(df2)\n",
    "plt.show()"
   ]
  },
  {
   "cell_type": "code",
   "execution_count": 106,
   "id": "64fea5d4",
   "metadata": {},
   "outputs": [
    {
     "data": {
      "image/png": "[encoded data removed]",
      "text/plain": [
       "<Figure size 250x250 with 2 Axes>"
      ]
     },
     "metadata": {},
     "output_type": "display_data"
    }
   ],
   "source": [
    "sns.pairplot(df4)\n",
    "plt.show()"
   ]
  },
  {
   "cell_type": "code",
   "execution_count": 107,
   "id": "5a04e2a9",
   "metadata": {},
   "outputs": [
    {
     "data": {
      "image/png": "[encoded data removed]",
      "text/plain": [
       "<Figure size 250x250 with 2 Axes>"
      ]
     },
     "metadata": {},
     "output_type": "display_data"
    }
   ],
   "source": [
    "sns.pairplot(df5)\n",
    "plt.show()"
   ]
  },
  {
   "cell_type": "code",
   "execution_count": 108,
   "id": "c30122ac",
   "metadata": {},
   "outputs": [
    {
     "data": {
      "image/png": "[encoded data removed]",
      "text/plain": [
       "<Figure size 640x480 with 2 Axes>"
      ]
     },
     "metadata": {},
     "output_type": "display_data"
    }
   ],
   "source": [
    "sns.heatmap(df1)\n",
    "plt.show()"
   ]
  },
  {
   "cell_type": "code",
   "execution_count": 109,
   "id": "43c9be3d",
   "metadata": {},
   "outputs": [
    {
     "data": {
      "text/html": [
       "<div>\n",
       "<style scoped>\n",
       "    .dataframe tbody tr th:only-of-type {\n",
       "        vertical-align: middle;\n",
       "    }\n",
       "\n",
       "    .dataframe tbody tr th {\n",
       "        vertical-align: top;\n",
       "    }\n",
       "\n",
       "    .dataframe thead th {\n",
       "        text-align: right;\n",
       "    }\n",
       "</style>\n",
       "<table border=\"1\" class=\"dataframe\">\n",
       "  <thead>\n",
       "    <tr style=\"text-align: right;\">\n",
       "      <th></th>\n",
       "      <th>user_id</th>\n",
       "      <th>song_id</th>\n",
       "      <th>target</th>\n",
       "      <th>song_length</th>\n",
       "      <th>genre_ids</th>\n",
       "      <th>artist_name</th>\n",
       "      <th>composer</th>\n",
       "      <th>lyricist</th>\n",
       "      <th>language</th>\n",
       "    </tr>\n",
       "  </thead>\n",
       "  <tbody>\n",
       "    <tr>\n",
       "      <th>0</th>\n",
       "      <td>Xumu+NIjS6QYVxDS4/t3SawvJ7viT9hPKXmf0RtLNx8=</td>\n",
       "      <td>JNWfrrC7zNN7BdMpsISKa4Mw+xVJYNnxXh3/Epw7QgY=</td>\n",
       "      <td>1</td>\n",
       "      <td>225396</td>\n",
       "      <td>1259</td>\n",
       "      <td>Nas</td>\n",
       "      <td>N. Jonesã€W. Adamsã€J. Lordanã€D. Ingle</td>\n",
       "      <td></td>\n",
       "      <td>52.0</td>\n",
       "    </tr>\n",
       "    <tr>\n",
       "      <th>1</th>\n",
       "      <td>FGtllVqz18RPiwJj/edr2gV78zirAiY/9SmYvia+kCg=</td>\n",
       "      <td>3qm6XTZ6MOCU11x8FIVbAGH5l5uMkT3/ZalWG1oo2Gc=</td>\n",
       "      <td>1</td>\n",
       "      <td>187802</td>\n",
       "      <td>1011</td>\n",
       "      <td>Brett Young</td>\n",
       "      <td>Brett Young| Kelly Archer| Justin Ebach</td>\n",
       "      <td></td>\n",
       "      <td>52.0</td>\n",
       "    </tr>\n",
       "    <tr>\n",
       "      <th>2</th>\n",
       "      <td>wIO+B1ZSvdIOBD/uwCL/plYMnDebWbJIRPAJJGqE0tU=</td>\n",
       "      <td>3qm6XTZ6MOCU11x8FIVbAGH5l5uMkT3/ZalWG1oo2Gc=</td>\n",
       "      <td>1</td>\n",
       "      <td>187802</td>\n",
       "      <td>1011</td>\n",
       "      <td>Brett Young</td>\n",
       "      <td>Brett Young| Kelly Archer| Justin Ebach</td>\n",
       "      <td></td>\n",
       "      <td>52.0</td>\n",
       "    </tr>\n",
       "    <tr>\n",
       "      <th>3</th>\n",
       "      <td>SK6Z0OK1LCuTaEhFc4E24h7Hohl6RM0EpZcnWXNsrs4=</td>\n",
       "      <td>3qm6XTZ6MOCU11x8FIVbAGH5l5uMkT3/ZalWG1oo2Gc=</td>\n",
       "      <td>0</td>\n",
       "      <td>187802</td>\n",
       "      <td>1011</td>\n",
       "      <td>Brett Young</td>\n",
       "      <td>Brett Young| Kelly Archer| Justin Ebach</td>\n",
       "      <td></td>\n",
       "      <td>52.0</td>\n",
       "    </tr>\n",
       "    <tr>\n",
       "      <th>4</th>\n",
       "      <td>2a3A+ajDeDgM3C3ET3ejIZ6moZbOLab9e7+cj9qFyI4=</td>\n",
       "      <td>3qm6XTZ6MOCU11x8FIVbAGH5l5uMkT3/ZalWG1oo2Gc=</td>\n",
       "      <td>1</td>\n",
       "      <td>187802</td>\n",
       "      <td>1011</td>\n",
       "      <td>Brett Young</td>\n",
       "      <td>Brett Young| Kelly Archer| Justin Ebach</td>\n",
       "      <td></td>\n",
       "      <td>52.0</td>\n",
       "    </tr>\n",
       "    <tr>\n",
       "      <th>...</th>\n",
       "      <td>...</td>\n",
       "      <td>...</td>\n",
       "      <td>...</td>\n",
       "      <td>...</td>\n",
       "      <td>...</td>\n",
       "      <td>...</td>\n",
       "      <td>...</td>\n",
       "      <td>...</td>\n",
       "      <td>...</td>\n",
       "    </tr>\n",
       "    <tr>\n",
       "      <th>869632</th>\n",
       "      <td>DWAqD2RMqGgmYxpBF+ZKvmElt//jll7PZwsW7PVEqt4=</td>\n",
       "      <td>+IFegiShArZcA1W0K8VhybvN293+NGgBNIZtt98hrB8=</td>\n",
       "      <td>1</td>\n",
       "      <td>280636</td>\n",
       "      <td>465|921</td>\n",
       "      <td>æœ€ä½³å»£å‘Šä¸»é¡Œæ›²å¹´é‘‘</td>\n",
       "      <td>é™³ç†™</td>\n",
       "      <td>æ•–å›æ€¡</td>\n",
       "      <td>3.0</td>\n",
       "    </tr>\n",
       "    <tr>\n",
       "      <th>869633</th>\n",
       "      <td>7S2934Uaqc4Zkwajj5GEYUvXpofCFlJ5wEk0pG5lA+Q=</td>\n",
       "      <td>OLpxrcK86VVwTw7D1/NAoGLpUxJLaxvMLl85mHa1jQQ=</td>\n",
       "      <td>0</td>\n",
       "      <td>239046</td>\n",
       "      <td>921</td>\n",
       "      <td>Takagi Masakatsu (é«˜æœ¨æ­£å‹)</td>\n",
       "      <td>Masakatsu Takagi</td>\n",
       "      <td></td>\n",
       "      <td>17.0</td>\n",
       "    </tr>\n",
       "    <tr>\n",
       "      <th>869634</th>\n",
       "      <td>0r1791/q5rOcdzcYvC1842t8wWvMEQfTdG94Pesdhr4=</td>\n",
       "      <td>Wel5+sBOxgF+LbWuL3linBgYe/5RY/nC4i3GtmX4cXM=</td>\n",
       "      <td>0</td>\n",
       "      <td>240256</td>\n",
       "      <td>2022</td>\n",
       "      <td>the GazettE</td>\n",
       "      <td>The Gazette</td>\n",
       "      <td>Ruki</td>\n",
       "      <td>17.0</td>\n",
       "    </tr>\n",
       "    <tr>\n",
       "      <th>869635</th>\n",
       "      <td>0r1791/q5rOcdzcYvC1842t8wWvMEQfTdG94Pesdhr4=</td>\n",
       "      <td>o6PfjDVYof2wQlRlYM86k9AKiYxS2jIljt88qbjm+BY=</td>\n",
       "      <td>0</td>\n",
       "      <td>209711</td>\n",
       "      <td>2022</td>\n",
       "      <td>the GazettE</td>\n",
       "      <td></td>\n",
       "      <td></td>\n",
       "      <td>17.0</td>\n",
       "    </tr>\n",
       "    <tr>\n",
       "      <th>869636</th>\n",
       "      <td>Id3zIzqrROi2MmuRM427dbPIonBGIcNLhcRtugJQOPU=</td>\n",
       "      <td>/m2PSPzOLjEjXo6ZStvXTAsNP433xQ93C6xcNNyL4Yg=</td>\n",
       "      <td>1</td>\n",
       "      <td>339801</td>\n",
       "      <td>465</td>\n",
       "      <td>é™³æ˜‡ (Bobby Chen)</td>\n",
       "      <td></td>\n",
       "      <td></td>\n",
       "      <td>3.0</td>\n",
       "    </tr>\n",
       "  </tbody>\n",
       "</table>\n",
       "<p>869637 rows × 9 columns</p>\n",
       "</div>"
      ],
      "text/plain": [
       "                                             user_id  \\\n",
       "0       Xumu+NIjS6QYVxDS4/t3SawvJ7viT9hPKXmf0RtLNx8=   \n",
       "1       FGtllVqz18RPiwJj/edr2gV78zirAiY/9SmYvia+kCg=   \n",
       "2       wIO+B1ZSvdIOBD/uwCL/plYMnDebWbJIRPAJJGqE0tU=   \n",
       "3       SK6Z0OK1LCuTaEhFc4E24h7Hohl6RM0EpZcnWXNsrs4=   \n",
       "4       2a3A+ajDeDgM3C3ET3ejIZ6moZbOLab9e7+cj9qFyI4=   \n",
       "...                                              ...   \n",
       "869632  DWAqD2RMqGgmYxpBF+ZKvmElt//jll7PZwsW7PVEqt4=   \n",
       "869633  7S2934Uaqc4Zkwajj5GEYUvXpofCFlJ5wEk0pG5lA+Q=   \n",
       "869634  0r1791/q5rOcdzcYvC1842t8wWvMEQfTdG94Pesdhr4=   \n",
       "869635  0r1791/q5rOcdzcYvC1842t8wWvMEQfTdG94Pesdhr4=   \n",
       "869636  Id3zIzqrROi2MmuRM427dbPIonBGIcNLhcRtugJQOPU=   \n",
       "\n",
       "                                             song_id  target  song_length  \\\n",
       "0       JNWfrrC7zNN7BdMpsISKa4Mw+xVJYNnxXh3/Epw7QgY=       1       225396   \n",
       "1       3qm6XTZ6MOCU11x8FIVbAGH5l5uMkT3/ZalWG1oo2Gc=       1       187802   \n",
       "2       3qm6XTZ6MOCU11x8FIVbAGH5l5uMkT3/ZalWG1oo2Gc=       1       187802   \n",
       "3       3qm6XTZ6MOCU11x8FIVbAGH5l5uMkT3/ZalWG1oo2Gc=       0       187802   \n",
       "4       3qm6XTZ6MOCU11x8FIVbAGH5l5uMkT3/ZalWG1oo2Gc=       1       187802   \n",
       "...                                              ...     ...          ...   \n",
       "869632  +IFegiShArZcA1W0K8VhybvN293+NGgBNIZtt98hrB8=       1       280636   \n",
       "869633  OLpxrcK86VVwTw7D1/NAoGLpUxJLaxvMLl85mHa1jQQ=       0       239046   \n",
       "869634  Wel5+sBOxgF+LbWuL3linBgYe/5RY/nC4i3GtmX4cXM=       0       240256   \n",
       "869635  o6PfjDVYof2wQlRlYM86k9AKiYxS2jIljt88qbjm+BY=       0       209711   \n",
       "869636  /m2PSPzOLjEjXo6ZStvXTAsNP433xQ93C6xcNNyL4Yg=       1       339801   \n",
       "\n",
       "       genre_ids                      artist_name  \\\n",
       "0           1259                              Nas   \n",
       "1           1011                      Brett Young   \n",
       "2           1011                      Brett Young   \n",
       "3           1011                      Brett Young   \n",
       "4           1011                      Brett Young   \n",
       "...          ...                              ...   \n",
       "869632   465|921      æœ€ä½³å»£å‘Šä¸»é¡Œæ›²å¹´é‘‘   \n",
       "869633       921  Takagi Masakatsu (é«˜æœ¨æ­£å‹)   \n",
       "869634      2022                      the GazettE   \n",
       "869635      2022                      the GazettE   \n",
       "869636       465              é™³æ˜‡ (Bobby Chen)   \n",
       "\n",
       "                                          composer   lyricist language  \n",
       "0       N. Jonesã€W. Adamsã€J. Lordanã€D. Ingle                52.0  \n",
       "1          Brett Young| Kelly Archer| Justin Ebach                52.0  \n",
       "2          Brett Young| Kelly Archer| Justin Ebach                52.0  \n",
       "3          Brett Young| Kelly Archer| Justin Ebach                52.0  \n",
       "4          Brett Young| Kelly Archer| Justin Ebach                52.0  \n",
       "...                                            ...        ...      ...  \n",
       "869632                                      é™³ç†™  æ•–å›æ€¡      3.0  \n",
       "869633                            Masakatsu Takagi                17.0  \n",
       "869634                                 The Gazette       Ruki     17.0  \n",
       "869635                                                            17.0  \n",
       "869636                                                             3.0  \n",
       "\n",
       "[869637 rows x 9 columns]"
      ]
     },
     "execution_count": 109,
     "metadata": {},
     "output_type": "execute_result"
    }
   ],
   "source": [
    "data = df5.merge(df2, on = 'song_id')\n",
    "data"
   ]
  },
  {
   "cell_type": "code",
   "execution_count": 110,
   "id": "9d7bd30a",
   "metadata": {},
   "outputs": [],
   "source": [
    "data.drop(['song_length', 'language'], axis=1, inplace=True)"
   ]
  },
  {
   "cell_type": "code",
   "execution_count": 111,
   "id": "05dcece7",
   "metadata": {},
   "outputs": [
    {
     "data": {
      "text/html": [
       "<div>\n",
       "<style scoped>\n",
       "    .dataframe tbody tr th:only-of-type {\n",
       "        vertical-align: middle;\n",
       "    }\n",
       "\n",
       "    .dataframe tbody tr th {\n",
       "        vertical-align: top;\n",
       "    }\n",
       "\n",
       "    .dataframe thead th {\n",
       "        text-align: right;\n",
       "    }\n",
       "</style>\n",
       "<table border=\"1\" class=\"dataframe\">\n",
       "  <thead>\n",
       "    <tr style=\"text-align: right;\">\n",
       "      <th></th>\n",
       "      <th>user_id</th>\n",
       "      <th>song_id</th>\n",
       "      <th>target</th>\n",
       "      <th>genre_ids</th>\n",
       "      <th>artist_name</th>\n",
       "      <th>composer</th>\n",
       "      <th>lyricist</th>\n",
       "      <th>name</th>\n",
       "    </tr>\n",
       "  </thead>\n",
       "  <tbody>\n",
       "    <tr>\n",
       "      <th>0</th>\n",
       "      <td>Xumu+NIjS6QYVxDS4/t3SawvJ7viT9hPKXmf0RtLNx8=</td>\n",
       "      <td>JNWfrrC7zNN7BdMpsISKa4Mw+xVJYNnxXh3/Epw7QgY=</td>\n",
       "      <td>1</td>\n",
       "      <td>1259</td>\n",
       "      <td>Nas</td>\n",
       "      <td>N. Jonesã€W. Adamsã€J. Lordanã€D. Ingle</td>\n",
       "      <td></td>\n",
       "      <td>Hip Hop Is Dead(Album Version (Edited))</td>\n",
       "    </tr>\n",
       "    <tr>\n",
       "      <th>1</th>\n",
       "      <td>FGtllVqz18RPiwJj/edr2gV78zirAiY/9SmYvia+kCg=</td>\n",
       "      <td>3qm6XTZ6MOCU11x8FIVbAGH5l5uMkT3/ZalWG1oo2Gc=</td>\n",
       "      <td>1</td>\n",
       "      <td>1011</td>\n",
       "      <td>Brett Young</td>\n",
       "      <td>Brett Young| Kelly Archer| Justin Ebach</td>\n",
       "      <td></td>\n",
       "      <td>Sleep Without You</td>\n",
       "    </tr>\n",
       "    <tr>\n",
       "      <th>2</th>\n",
       "      <td>wIO+B1ZSvdIOBD/uwCL/plYMnDebWbJIRPAJJGqE0tU=</td>\n",
       "      <td>3qm6XTZ6MOCU11x8FIVbAGH5l5uMkT3/ZalWG1oo2Gc=</td>\n",
       "      <td>1</td>\n",
       "      <td>1011</td>\n",
       "      <td>Brett Young</td>\n",
       "      <td>Brett Young| Kelly Archer| Justin Ebach</td>\n",
       "      <td></td>\n",
       "      <td>Sleep Without You</td>\n",
       "    </tr>\n",
       "    <tr>\n",
       "      <th>3</th>\n",
       "      <td>SK6Z0OK1LCuTaEhFc4E24h7Hohl6RM0EpZcnWXNsrs4=</td>\n",
       "      <td>3qm6XTZ6MOCU11x8FIVbAGH5l5uMkT3/ZalWG1oo2Gc=</td>\n",
       "      <td>0</td>\n",
       "      <td>1011</td>\n",
       "      <td>Brett Young</td>\n",
       "      <td>Brett Young| Kelly Archer| Justin Ebach</td>\n",
       "      <td></td>\n",
       "      <td>Sleep Without You</td>\n",
       "    </tr>\n",
       "    <tr>\n",
       "      <th>4</th>\n",
       "      <td>2a3A+ajDeDgM3C3ET3ejIZ6moZbOLab9e7+cj9qFyI4=</td>\n",
       "      <td>3qm6XTZ6MOCU11x8FIVbAGH5l5uMkT3/ZalWG1oo2Gc=</td>\n",
       "      <td>1</td>\n",
       "      <td>1011</td>\n",
       "      <td>Brett Young</td>\n",
       "      <td>Brett Young| Kelly Archer| Justin Ebach</td>\n",
       "      <td></td>\n",
       "      <td>Sleep Without You</td>\n",
       "    </tr>\n",
       "    <tr>\n",
       "      <th>...</th>\n",
       "      <td>...</td>\n",
       "      <td>...</td>\n",
       "      <td>...</td>\n",
       "      <td>...</td>\n",
       "      <td>...</td>\n",
       "      <td>...</td>\n",
       "      <td>...</td>\n",
       "      <td>...</td>\n",
       "    </tr>\n",
       "    <tr>\n",
       "      <th>729294</th>\n",
       "      <td>XFpHXorosYn0RcJ6ouV8D8LRowIxmlB9Bm6C7Y0QCV8=</td>\n",
       "      <td>OQew+5f9Vgd1/6sD/N9m/oDcX61Vh+AVL/XSy2n6KZY=</td>\n",
       "      <td>1</td>\n",
       "      <td>465</td>\n",
       "      <td>é™³å¨Ÿå…’</td>\n",
       "      <td></td>\n",
       "      <td></td>\n",
       "      <td>çµ¦ä½ çš„æ„›å·²æ”¶ä¸å›ž</td>\n",
       "    </tr>\n",
       "    <tr>\n",
       "      <th>729295</th>\n",
       "      <td>DWAqD2RMqGgmYxpBF+ZKvmElt//jll7PZwsW7PVEqt4=</td>\n",
       "      <td>+IFegiShArZcA1W0K8VhybvN293+NGgBNIZtt98hrB8=</td>\n",
       "      <td>1</td>\n",
       "      <td>465|921</td>\n",
       "      <td>æœ€ä½³å»£å‘Šä¸»é¡Œæ›²å¹´é‘‘</td>\n",
       "      <td>é™³ç†™</td>\n",
       "      <td>æ•–å›æ€¡</td>\n",
       "      <td>åŽŸä¾†ä½ ä¸€ç›´éƒ½åœ¨</td>\n",
       "    </tr>\n",
       "    <tr>\n",
       "      <th>729296</th>\n",
       "      <td>7S2934Uaqc4Zkwajj5GEYUvXpofCFlJ5wEk0pG5lA+Q=</td>\n",
       "      <td>OLpxrcK86VVwTw7D1/NAoGLpUxJLaxvMLl85mHa1jQQ=</td>\n",
       "      <td>0</td>\n",
       "      <td>921</td>\n",
       "      <td>Takagi Masakatsu (é«˜æœ¨æ­£å‹)</td>\n",
       "      <td>Masakatsu Takagi</td>\n",
       "      <td></td>\n",
       "      <td>Days We All Have</td>\n",
       "    </tr>\n",
       "    <tr>\n",
       "      <th>729297</th>\n",
       "      <td>0r1791/q5rOcdzcYvC1842t8wWvMEQfTdG94Pesdhr4=</td>\n",
       "      <td>Wel5+sBOxgF+LbWuL3linBgYe/5RY/nC4i3GtmX4cXM=</td>\n",
       "      <td>0</td>\n",
       "      <td>2022</td>\n",
       "      <td>the GazettE</td>\n",
       "      <td>The Gazette</td>\n",
       "      <td>Ruki</td>\n",
       "      <td>æ­ª</td>\n",
       "    </tr>\n",
       "    <tr>\n",
       "      <th>729298</th>\n",
       "      <td>0r1791/q5rOcdzcYvC1842t8wWvMEQfTdG94Pesdhr4=</td>\n",
       "      <td>o6PfjDVYof2wQlRlYM86k9AKiYxS2jIljt88qbjm+BY=</td>\n",
       "      <td>0</td>\n",
       "      <td>2022</td>\n",
       "      <td>the GazettE</td>\n",
       "      <td></td>\n",
       "      <td></td>\n",
       "      <td>Uncertain Sense</td>\n",
       "    </tr>\n",
       "  </tbody>\n",
       "</table>\n",
       "<p>729299 rows × 8 columns</p>\n",
       "</div>"
      ],
      "text/plain": [
       "                                             user_id  \\\n",
       "0       Xumu+NIjS6QYVxDS4/t3SawvJ7viT9hPKXmf0RtLNx8=   \n",
       "1       FGtllVqz18RPiwJj/edr2gV78zirAiY/9SmYvia+kCg=   \n",
       "2       wIO+B1ZSvdIOBD/uwCL/plYMnDebWbJIRPAJJGqE0tU=   \n",
       "3       SK6Z0OK1LCuTaEhFc4E24h7Hohl6RM0EpZcnWXNsrs4=   \n",
       "4       2a3A+ajDeDgM3C3ET3ejIZ6moZbOLab9e7+cj9qFyI4=   \n",
       "...                                              ...   \n",
       "729294  XFpHXorosYn0RcJ6ouV8D8LRowIxmlB9Bm6C7Y0QCV8=   \n",
       "729295  DWAqD2RMqGgmYxpBF+ZKvmElt//jll7PZwsW7PVEqt4=   \n",
       "729296  7S2934Uaqc4Zkwajj5GEYUvXpofCFlJ5wEk0pG5lA+Q=   \n",
       "729297  0r1791/q5rOcdzcYvC1842t8wWvMEQfTdG94Pesdhr4=   \n",
       "729298  0r1791/q5rOcdzcYvC1842t8wWvMEQfTdG94Pesdhr4=   \n",
       "\n",
       "                                             song_id  target genre_ids  \\\n",
       "0       JNWfrrC7zNN7BdMpsISKa4Mw+xVJYNnxXh3/Epw7QgY=       1      1259   \n",
       "1       3qm6XTZ6MOCU11x8FIVbAGH5l5uMkT3/ZalWG1oo2Gc=       1      1011   \n",
       "2       3qm6XTZ6MOCU11x8FIVbAGH5l5uMkT3/ZalWG1oo2Gc=       1      1011   \n",
       "3       3qm6XTZ6MOCU11x8FIVbAGH5l5uMkT3/ZalWG1oo2Gc=       0      1011   \n",
       "4       3qm6XTZ6MOCU11x8FIVbAGH5l5uMkT3/ZalWG1oo2Gc=       1      1011   \n",
       "...                                              ...     ...       ...   \n",
       "729294  OQew+5f9Vgd1/6sD/N9m/oDcX61Vh+AVL/XSy2n6KZY=       1       465   \n",
       "729295  +IFegiShArZcA1W0K8VhybvN293+NGgBNIZtt98hrB8=       1   465|921   \n",
       "729296  OLpxrcK86VVwTw7D1/NAoGLpUxJLaxvMLl85mHa1jQQ=       0       921   \n",
       "729297  Wel5+sBOxgF+LbWuL3linBgYe/5RY/nC4i3GtmX4cXM=       0      2022   \n",
       "729298  o6PfjDVYof2wQlRlYM86k9AKiYxS2jIljt88qbjm+BY=       0      2022   \n",
       "\n",
       "                            artist_name  \\\n",
       "0                                   Nas   \n",
       "1                           Brett Young   \n",
       "2                           Brett Young   \n",
       "3                           Brett Young   \n",
       "4                           Brett Young   \n",
       "...                                 ...   \n",
       "729294                        é™³å¨Ÿå…’   \n",
       "729295      æœ€ä½³å»£å‘Šä¸»é¡Œæ›²å¹´é‘‘   \n",
       "729296  Takagi Masakatsu (é«˜æœ¨æ­£å‹)   \n",
       "729297                      the GazettE   \n",
       "729298                      the GazettE   \n",
       "\n",
       "                                          composer   lyricist  \\\n",
       "0       N. Jonesã€W. Adamsã€J. Lordanã€D. Ingle              \n",
       "1          Brett Young| Kelly Archer| Justin Ebach              \n",
       "2          Brett Young| Kelly Archer| Justin Ebach              \n",
       "3          Brett Young| Kelly Archer| Justin Ebach              \n",
       "4          Brett Young| Kelly Archer| Justin Ebach              \n",
       "...                                            ...        ...   \n",
       "729294                                                          \n",
       "729295                                      é™³ç†™  æ•–å›æ€¡   \n",
       "729296                            Masakatsu Takagi              \n",
       "729297                                 The Gazette       Ruki   \n",
       "729298                                                          \n",
       "\n",
       "                                           name  \n",
       "0       Hip Hop Is Dead(Album Version (Edited))  \n",
       "1                             Sleep Without You  \n",
       "2                             Sleep Without You  \n",
       "3                             Sleep Without You  \n",
       "4                             Sleep Without You  \n",
       "...                                         ...  \n",
       "729294                 çµ¦ä½ çš„æ„›å·²æ”¶ä¸å›ž  \n",
       "729295                    åŽŸä¾†ä½ ä¸€ç›´éƒ½åœ¨  \n",
       "729296                         Days We All Have  \n",
       "729297                                      æ­ª  \n",
       "729298                          Uncertain Sense  \n",
       "\n",
       "[729299 rows x 8 columns]"
      ]
     },
     "execution_count": 111,
     "metadata": {},
     "output_type": "execute_result"
    }
   ],
   "source": [
    "data = data.merge(df3, on = 'song_id')\n",
    "data"
   ]
  },
  {
   "cell_type": "code",
   "execution_count": 112,
   "id": "c54a2338",
   "metadata": {},
   "outputs": [],
   "source": [
    "data.rename(columns={'name':'song_name'}, inplace=True)"
   ]
  },
  {
   "cell_type": "code",
   "execution_count": 113,
   "id": "65aabe1c",
   "metadata": {},
   "outputs": [
    {
     "data": {
      "text/plain": [
       "0                                     Nas\n",
       "1                             Brett Young\n",
       "2                             Brett Young\n",
       "3                             Brett Young\n",
       "4                             Brett Young\n",
       "                       ...               \n",
       "729294                          é™³å¨Ÿå…’\n",
       "729295        æœ€ä½³å»£å‘Šä¸»é¡Œæ›²å¹´é‘‘\n",
       "729296    Takagi Masakatsu (é«˜æœ¨æ­£å‹)\n",
       "729297                        the GazettE\n",
       "729298                        the GazettE\n",
       "Name: artist_name, Length: 729299, dtype: object"
      ]
     },
     "execution_count": 113,
     "metadata": {},
     "output_type": "execute_result"
    }
   ],
   "source": [
    "data['artist_name']=data['artist_name'].str.replace('|', ' ', regex=True)\n",
    "data['artist_name']"
   ]
  },
  {
   "cell_type": "code",
   "execution_count": 114,
   "id": "b351f6a0",
   "metadata": {},
   "outputs": [
    {
     "data": {
      "text/plain": [
       "0         N. Jonesã€W. Adamsã€J. Lordanã€D. Ingle\n",
       "1            Brett Young  Kelly Archer  Justin Ebach\n",
       "2            Brett Young  Kelly Archer  Justin Ebach\n",
       "3            Brett Young  Kelly Archer  Justin Ebach\n",
       "4            Brett Young  Kelly Archer  Justin Ebach\n",
       "                             ...                    \n",
       "729294                                              \n",
       "729295                                        é™³ç†™\n",
       "729296                              Masakatsu Takagi\n",
       "729297                                   The Gazette\n",
       "729298                                              \n",
       "Name: composer, Length: 729299, dtype: object"
      ]
     },
     "execution_count": 114,
     "metadata": {},
     "output_type": "execute_result"
    }
   ],
   "source": [
    "data['composer']=data['composer'].str.replace('|', ' ', regex=True)\n",
    "data['composer']"
   ]
  },
  {
   "cell_type": "code",
   "execution_count": 115,
   "id": "6e78b56d",
   "metadata": {},
   "outputs": [
    {
     "data": {
      "text/plain": [
       "0                  \n",
       "1                  \n",
       "2                  \n",
       "3                  \n",
       "4                  \n",
       "            ...    \n",
       "729294             \n",
       "729295    æ•–å›æ€¡\n",
       "729296             \n",
       "729297         Ruki\n",
       "729298             \n",
       "Name: lyricist, Length: 729299, dtype: object"
      ]
     },
     "execution_count": 115,
     "metadata": {},
     "output_type": "execute_result"
    }
   ],
   "source": [
    "data['lyricist']=data['lyricist'].str.replace('|', '', regex=True)\n",
    "data['lyricist']"
   ]
  },
  {
   "cell_type": "code",
   "execution_count": 116,
   "id": "4bcc0cda",
   "metadata": {},
   "outputs": [],
   "source": [
    "data['genre_ids']=data['genre_ids'].str.lower()"
   ]
  },
  {
   "cell_type": "code",
   "execution_count": 117,
   "id": "cd8d42b0",
   "metadata": {},
   "outputs": [],
   "source": [
    "data['artist_name']=data['artist_name'].str.lower()"
   ]
  },
  {
   "cell_type": "code",
   "execution_count": 118,
   "id": "0bdf7a41",
   "metadata": {},
   "outputs": [],
   "source": [
    "data['composer']=data['composer'].str.lower()"
   ]
  },
  {
   "cell_type": "code",
   "execution_count": 119,
   "id": "7a68fdda",
   "metadata": {},
   "outputs": [],
   "source": [
    "data['lyricist']=data['lyricist'].str.lower()"
   ]
  },
  {
   "cell_type": "code",
   "execution_count": 120,
   "id": "a020d42c",
   "metadata": {},
   "outputs": [],
   "source": [
    "data['song_details']=data['artist_name']+data['composer']+data['lyricist']"
   ]
  },
  {
   "cell_type": "code",
   "execution_count": 121,
   "id": "717e18e5",
   "metadata": {},
   "outputs": [
    {
     "data": {
      "text/html": [
       "<div>\n",
       "<style scoped>\n",
       "    .dataframe tbody tr th:only-of-type {\n",
       "        vertical-align: middle;\n",
       "    }\n",
       "\n",
       "    .dataframe tbody tr th {\n",
       "        vertical-align: top;\n",
       "    }\n",
       "\n",
       "    .dataframe thead th {\n",
       "        text-align: right;\n",
       "    }\n",
       "</style>\n",
       "<table border=\"1\" class=\"dataframe\">\n",
       "  <thead>\n",
       "    <tr style=\"text-align: right;\">\n",
       "      <th></th>\n",
       "      <th>user_id</th>\n",
       "      <th>song_id</th>\n",
       "      <th>target</th>\n",
       "      <th>genre_ids</th>\n",
       "      <th>artist_name</th>\n",
       "      <th>composer</th>\n",
       "      <th>lyricist</th>\n",
       "      <th>song_name</th>\n",
       "      <th>song_details</th>\n",
       "    </tr>\n",
       "  </thead>\n",
       "  <tbody>\n",
       "    <tr>\n",
       "      <th>0</th>\n",
       "      <td>Xumu+NIjS6QYVxDS4/t3SawvJ7viT9hPKXmf0RtLNx8=</td>\n",
       "      <td>JNWfrrC7zNN7BdMpsISKa4Mw+xVJYNnxXh3/Epw7QgY=</td>\n",
       "      <td>1</td>\n",
       "      <td>1259</td>\n",
       "      <td>nas</td>\n",
       "      <td>n. jonesã€w. adamsã€j. lordanã€d. ingle</td>\n",
       "      <td></td>\n",
       "      <td>Hip Hop Is Dead(Album Version (Edited))</td>\n",
       "      <td>nasn. jonesã€w. adamsã€j. lordanã€d. ingle</td>\n",
       "    </tr>\n",
       "    <tr>\n",
       "      <th>1</th>\n",
       "      <td>FGtllVqz18RPiwJj/edr2gV78zirAiY/9SmYvia+kCg=</td>\n",
       "      <td>3qm6XTZ6MOCU11x8FIVbAGH5l5uMkT3/ZalWG1oo2Gc=</td>\n",
       "      <td>1</td>\n",
       "      <td>1011</td>\n",
       "      <td>brett young</td>\n",
       "      <td>brett young  kelly archer  justin ebach</td>\n",
       "      <td></td>\n",
       "      <td>Sleep Without You</td>\n",
       "      <td>brett youngbrett young  kelly archer  justin e...</td>\n",
       "    </tr>\n",
       "    <tr>\n",
       "      <th>2</th>\n",
       "      <td>wIO+B1ZSvdIOBD/uwCL/plYMnDebWbJIRPAJJGqE0tU=</td>\n",
       "      <td>3qm6XTZ6MOCU11x8FIVbAGH5l5uMkT3/ZalWG1oo2Gc=</td>\n",
       "      <td>1</td>\n",
       "      <td>1011</td>\n",
       "      <td>brett young</td>\n",
       "      <td>brett young  kelly archer  justin ebach</td>\n",
       "      <td></td>\n",
       "      <td>Sleep Without You</td>\n",
       "      <td>brett youngbrett young  kelly archer  justin e...</td>\n",
       "    </tr>\n",
       "    <tr>\n",
       "      <th>3</th>\n",
       "      <td>SK6Z0OK1LCuTaEhFc4E24h7Hohl6RM0EpZcnWXNsrs4=</td>\n",
       "      <td>3qm6XTZ6MOCU11x8FIVbAGH5l5uMkT3/ZalWG1oo2Gc=</td>\n",
       "      <td>0</td>\n",
       "      <td>1011</td>\n",
       "      <td>brett young</td>\n",
       "      <td>brett young  kelly archer  justin ebach</td>\n",
       "      <td></td>\n",
       "      <td>Sleep Without You</td>\n",
       "      <td>brett youngbrett young  kelly archer  justin e...</td>\n",
       "    </tr>\n",
       "    <tr>\n",
       "      <th>4</th>\n",
       "      <td>2a3A+ajDeDgM3C3ET3ejIZ6moZbOLab9e7+cj9qFyI4=</td>\n",
       "      <td>3qm6XTZ6MOCU11x8FIVbAGH5l5uMkT3/ZalWG1oo2Gc=</td>\n",
       "      <td>1</td>\n",
       "      <td>1011</td>\n",
       "      <td>brett young</td>\n",
       "      <td>brett young  kelly archer  justin ebach</td>\n",
       "      <td></td>\n",
       "      <td>Sleep Without You</td>\n",
       "      <td>brett youngbrett young  kelly archer  justin e...</td>\n",
       "    </tr>\n",
       "    <tr>\n",
       "      <th>...</th>\n",
       "      <td>...</td>\n",
       "      <td>...</td>\n",
       "      <td>...</td>\n",
       "      <td>...</td>\n",
       "      <td>...</td>\n",
       "      <td>...</td>\n",
       "      <td>...</td>\n",
       "      <td>...</td>\n",
       "      <td>...</td>\n",
       "    </tr>\n",
       "    <tr>\n",
       "      <th>729294</th>\n",
       "      <td>XFpHXorosYn0RcJ6ouV8D8LRowIxmlB9Bm6C7Y0QCV8=</td>\n",
       "      <td>OQew+5f9Vgd1/6sD/N9m/oDcX61Vh+AVL/XSy2n6KZY=</td>\n",
       "      <td>1</td>\n",
       "      <td>465</td>\n",
       "      <td>é™³å¨ÿå…’</td>\n",
       "      <td></td>\n",
       "      <td></td>\n",
       "      <td>çµ¦ä½ çš„æ„›å·²æ”¶ä¸å›ž</td>\n",
       "      <td>é™³å¨ÿå…’</td>\n",
       "    </tr>\n",
       "    <tr>\n",
       "      <th>729295</th>\n",
       "      <td>DWAqD2RMqGgmYxpBF+ZKvmElt//jll7PZwsW7PVEqt4=</td>\n",
       "      <td>+IFegiShArZcA1W0K8VhybvN293+NGgBNIZtt98hrB8=</td>\n",
       "      <td>1</td>\n",
       "      <td>465|921</td>\n",
       "      <td>æœ€ä½³å»£å‘šä¸»é¡œæ›²å¹´é‘‘</td>\n",
       "      <td>é™³ç†™</td>\n",
       "      <td>æ•–å›æ€¡</td>\n",
       "      <td>åŽŸä¾†ä½ ä¸€ç›´éƒ½åœ¨</td>\n",
       "      <td>æœ€ä½³å»£å‘šä¸»é¡œæ›²å¹´é‘‘é™³ç†™æ•–å›æ€¡</td>\n",
       "    </tr>\n",
       "    <tr>\n",
       "      <th>729296</th>\n",
       "      <td>7S2934Uaqc4Zkwajj5GEYUvXpofCFlJ5wEk0pG5lA+Q=</td>\n",
       "      <td>OLpxrcK86VVwTw7D1/NAoGLpUxJLaxvMLl85mHa1jQQ=</td>\n",
       "      <td>0</td>\n",
       "      <td>921</td>\n",
       "      <td>takagi masakatsu (é«˜æœ¨æ­£å‹)</td>\n",
       "      <td>masakatsu takagi</td>\n",
       "      <td></td>\n",
       "      <td>Days We All Have</td>\n",
       "      <td>takagi masakatsu (é«˜æœ¨æ­£å‹)masakatsu takagi</td>\n",
       "    </tr>\n",
       "    <tr>\n",
       "      <th>729297</th>\n",
       "      <td>0r1791/q5rOcdzcYvC1842t8wWvMEQfTdG94Pesdhr4=</td>\n",
       "      <td>Wel5+sBOxgF+LbWuL3linBgYe/5RY/nC4i3GtmX4cXM=</td>\n",
       "      <td>0</td>\n",
       "      <td>2022</td>\n",
       "      <td>the gazette</td>\n",
       "      <td>the gazette</td>\n",
       "      <td>ruki</td>\n",
       "      <td>æ­ª</td>\n",
       "      <td>the gazettethe gazetteruki</td>\n",
       "    </tr>\n",
       "    <tr>\n",
       "      <th>729298</th>\n",
       "      <td>0r1791/q5rOcdzcYvC1842t8wWvMEQfTdG94Pesdhr4=</td>\n",
       "      <td>o6PfjDVYof2wQlRlYM86k9AKiYxS2jIljt88qbjm+BY=</td>\n",
       "      <td>0</td>\n",
       "      <td>2022</td>\n",
       "      <td>the gazette</td>\n",
       "      <td></td>\n",
       "      <td></td>\n",
       "      <td>Uncertain Sense</td>\n",
       "      <td>the gazette</td>\n",
       "    </tr>\n",
       "  </tbody>\n",
       "</table>\n",
       "<p>729299 rows × 9 columns</p>\n",
       "</div>"
      ],
      "text/plain": [
       "                                             user_id  \\\n",
       "0       Xumu+NIjS6QYVxDS4/t3SawvJ7viT9hPKXmf0RtLNx8=   \n",
       "1       FGtllVqz18RPiwJj/edr2gV78zirAiY/9SmYvia+kCg=   \n",
       "2       wIO+B1ZSvdIOBD/uwCL/plYMnDebWbJIRPAJJGqE0tU=   \n",
       "3       SK6Z0OK1LCuTaEhFc4E24h7Hohl6RM0EpZcnWXNsrs4=   \n",
       "4       2a3A+ajDeDgM3C3ET3ejIZ6moZbOLab9e7+cj9qFyI4=   \n",
       "...                                              ...   \n",
       "729294  XFpHXorosYn0RcJ6ouV8D8LRowIxmlB9Bm6C7Y0QCV8=   \n",
       "729295  DWAqD2RMqGgmYxpBF+ZKvmElt//jll7PZwsW7PVEqt4=   \n",
       "729296  7S2934Uaqc4Zkwajj5GEYUvXpofCFlJ5wEk0pG5lA+Q=   \n",
       "729297  0r1791/q5rOcdzcYvC1842t8wWvMEQfTdG94Pesdhr4=   \n",
       "729298  0r1791/q5rOcdzcYvC1842t8wWvMEQfTdG94Pesdhr4=   \n",
       "\n",
       "                                             song_id  target genre_ids  \\\n",
       "0       JNWfrrC7zNN7BdMpsISKa4Mw+xVJYNnxXh3/Epw7QgY=       1      1259   \n",
       "1       3qm6XTZ6MOCU11x8FIVbAGH5l5uMkT3/ZalWG1oo2Gc=       1      1011   \n",
       "2       3qm6XTZ6MOCU11x8FIVbAGH5l5uMkT3/ZalWG1oo2Gc=       1      1011   \n",
       "3       3qm6XTZ6MOCU11x8FIVbAGH5l5uMkT3/ZalWG1oo2Gc=       0      1011   \n",
       "4       3qm6XTZ6MOCU11x8FIVbAGH5l5uMkT3/ZalWG1oo2Gc=       1      1011   \n",
       "...                                              ...     ...       ...   \n",
       "729294  OQew+5f9Vgd1/6sD/N9m/oDcX61Vh+AVL/XSy2n6KZY=       1       465   \n",
       "729295  +IFegiShArZcA1W0K8VhybvN293+NGgBNIZtt98hrB8=       1   465|921   \n",
       "729296  OLpxrcK86VVwTw7D1/NAoGLpUxJLaxvMLl85mHa1jQQ=       0       921   \n",
       "729297  Wel5+sBOxgF+LbWuL3linBgYe/5RY/nC4i3GtmX4cXM=       0      2022   \n",
       "729298  o6PfjDVYof2wQlRlYM86k9AKiYxS2jIljt88qbjm+BY=       0      2022   \n",
       "\n",
       "                            artist_name  \\\n",
       "0                                   nas   \n",
       "1                           brett young   \n",
       "2                           brett young   \n",
       "3                           brett young   \n",
       "4                           brett young   \n",
       "...                                 ...   \n",
       "729294                        é™³å¨ÿå…’   \n",
       "729295      æœ€ä½³å»£å‘šä¸»é¡œæ›²å¹´é‘‘   \n",
       "729296  takagi masakatsu (é«˜æœ¨æ­£å‹)   \n",
       "729297                      the gazette   \n",
       "729298                      the gazette   \n",
       "\n",
       "                                          composer   lyricist  \\\n",
       "0       n. jonesã€w. adamsã€j. lordanã€d. ingle              \n",
       "1          brett young  kelly archer  justin ebach              \n",
       "2          brett young  kelly archer  justin ebach              \n",
       "3          brett young  kelly archer  justin ebach              \n",
       "4          brett young  kelly archer  justin ebach              \n",
       "...                                            ...        ...   \n",
       "729294                                                          \n",
       "729295                                      é™³ç†™  æ•–å›æ€¡   \n",
       "729296                            masakatsu takagi              \n",
       "729297                                 the gazette       ruki   \n",
       "729298                                                          \n",
       "\n",
       "                                      song_name  \\\n",
       "0       Hip Hop Is Dead(Album Version (Edited))   \n",
       "1                             Sleep Without You   \n",
       "2                             Sleep Without You   \n",
       "3                             Sleep Without You   \n",
       "4                             Sleep Without You   \n",
       "...                                         ...   \n",
       "729294                 çµ¦ä½ çš„æ„›å·²æ”¶ä¸å›ž   \n",
       "729295                    åŽŸä¾†ä½ ä¸€ç›´éƒ½åœ¨   \n",
       "729296                         Days We All Have   \n",
       "729297                                      æ­ª   \n",
       "729298                          Uncertain Sense   \n",
       "\n",
       "                                             song_details  \n",
       "0          nasn. jonesã€w. adamsã€j. lordanã€d. ingle   \n",
       "1       brett youngbrett young  kelly archer  justin e...  \n",
       "2       brett youngbrett young  kelly archer  justin e...  \n",
       "3       brett youngbrett young  kelly archer  justin e...  \n",
       "4       brett youngbrett young  kelly archer  justin e...  \n",
       "...                                                   ...  \n",
       "729294                                        é™³å¨ÿå…’    \n",
       "729295         æœ€ä½³å»£å‘šä¸»é¡œæ›²å¹´é‘‘é™³ç†™æ•–å›æ€¡  \n",
       "729296   takagi masakatsu (é«˜æœ¨æ­£å‹)masakatsu takagi   \n",
       "729297                         the gazettethe gazetteruki  \n",
       "729298                                      the gazette    \n",
       "\n",
       "[729299 rows x 9 columns]"
      ]
     },
     "execution_count": 121,
     "metadata": {},
     "output_type": "execute_result"
    }
   ],
   "source": [
    "data"
   ]
  },
  {
   "cell_type": "code",
   "execution_count": 122,
   "id": "24cb7e6f",
   "metadata": {},
   "outputs": [
    {
     "data": {
      "image/png": "[encoded data removed]",
      "text/plain": [
       "<Figure size 250x250 with 2 Axes>"
      ]
     },
     "metadata": {},
     "output_type": "display_data"
    }
   ],
   "source": [
    "sns.pairplot(data)\n",
    "plt.show()"
   ]
  },
  {
   "cell_type": "code",
   "execution_count": 123,
   "id": "1c4460a8",
   "metadata": {},
   "outputs": [],
   "source": [
    "data.drop('user_id', axis=1, inplace=True)"
   ]
  },
  {
   "cell_type": "code",
   "execution_count": 124,
   "id": "2f7898b4",
   "metadata": {},
   "outputs": [
    {
     "data": {
      "text/plain": [
       "625229"
      ]
     },
     "execution_count": 124,
     "metadata": {},
     "output_type": "execute_result"
    }
   ],
   "source": [
    "data.duplicated().sum()"
   ]
  },
  {
   "cell_type": "code",
   "execution_count": 125,
   "id": "6f5c3a3e",
   "metadata": {},
   "outputs": [],
   "source": [
    "data.drop_duplicates(inplace=True)"
   ]
  },
  {
   "cell_type": "code",
   "execution_count": 126,
   "id": "124bcda4",
   "metadata": {},
   "outputs": [
    {
     "data": {
      "text/plain": [
       "0"
      ]
     },
     "execution_count": 126,
     "metadata": {},
     "output_type": "execute_result"
    }
   ],
   "source": [
    "data.duplicated().sum()"
   ]
  },
  {
   "cell_type": "code",
   "execution_count": 127,
   "id": "dea443c4",
   "metadata": {},
   "outputs": [
    {
     "data": {
      "text/html": [
       "<div>\n",
       "<style scoped>\n",
       "    .dataframe tbody tr th:only-of-type {\n",
       "        vertical-align: middle;\n",
       "    }\n",
       "\n",
       "    .dataframe tbody tr th {\n",
       "        vertical-align: top;\n",
       "    }\n",
       "\n",
       "    .dataframe thead th {\n",
       "        text-align: right;\n",
       "    }\n",
       "</style>\n",
       "<table border=\"1\" class=\"dataframe\">\n",
       "  <thead>\n",
       "    <tr style=\"text-align: right;\">\n",
       "      <th></th>\n",
       "      <th>song_id</th>\n",
       "      <th>target</th>\n",
       "      <th>genre_ids</th>\n",
       "      <th>artist_name</th>\n",
       "      <th>composer</th>\n",
       "      <th>lyricist</th>\n",
       "      <th>song_name</th>\n",
       "      <th>song_details</th>\n",
       "    </tr>\n",
       "  </thead>\n",
       "  <tbody>\n",
       "    <tr>\n",
       "      <th>0</th>\n",
       "      <td>JNWfrrC7zNN7BdMpsISKa4Mw+xVJYNnxXh3/Epw7QgY=</td>\n",
       "      <td>1</td>\n",
       "      <td>1259</td>\n",
       "      <td>nas</td>\n",
       "      <td>n. jonesã€w. adamsã€j. lordanã€d. ingle</td>\n",
       "      <td></td>\n",
       "      <td>Hip Hop Is Dead(Album Version (Edited))</td>\n",
       "      <td>nasn. jonesã€w. adamsã€j. lordanã€d. ingle</td>\n",
       "    </tr>\n",
       "    <tr>\n",
       "      <th>1</th>\n",
       "      <td>3qm6XTZ6MOCU11x8FIVbAGH5l5uMkT3/ZalWG1oo2Gc=</td>\n",
       "      <td>1</td>\n",
       "      <td>1011</td>\n",
       "      <td>brett young</td>\n",
       "      <td>brett young  kelly archer  justin ebach</td>\n",
       "      <td></td>\n",
       "      <td>Sleep Without You</td>\n",
       "      <td>brett youngbrett young  kelly archer  justin e...</td>\n",
       "    </tr>\n",
       "    <tr>\n",
       "      <th>3</th>\n",
       "      <td>3qm6XTZ6MOCU11x8FIVbAGH5l5uMkT3/ZalWG1oo2Gc=</td>\n",
       "      <td>0</td>\n",
       "      <td>1011</td>\n",
       "      <td>brett young</td>\n",
       "      <td>brett young  kelly archer  justin ebach</td>\n",
       "      <td></td>\n",
       "      <td>Sleep Without You</td>\n",
       "      <td>brett youngbrett young  kelly archer  justin e...</td>\n",
       "    </tr>\n",
       "    <tr>\n",
       "      <th>57</th>\n",
       "      <td>bPIvRTzfHxH5LgHrStll+tYwSQNVV8PySgA3M1PfTgc=</td>\n",
       "      <td>1</td>\n",
       "      <td>1011</td>\n",
       "      <td>thomas rhett</td>\n",
       "      <td>thomas rhett  rhett akins  ben hayslip</td>\n",
       "      <td></td>\n",
       "      <td>Star Of The Show</td>\n",
       "      <td>thomas rhettthomas rhett  rhett akins  ben hay...</td>\n",
       "    </tr>\n",
       "    <tr>\n",
       "      <th>62</th>\n",
       "      <td>bPIvRTzfHxH5LgHrStll+tYwSQNVV8PySgA3M1PfTgc=</td>\n",
       "      <td>0</td>\n",
       "      <td>1011</td>\n",
       "      <td>thomas rhett</td>\n",
       "      <td>thomas rhett  rhett akins  ben hayslip</td>\n",
       "      <td></td>\n",
       "      <td>Star Of The Show</td>\n",
       "      <td>thomas rhettthomas rhett  rhett akins  ben hay...</td>\n",
       "    </tr>\n",
       "  </tbody>\n",
       "</table>\n",
       "</div>"
      ],
      "text/plain": [
       "                                         song_id  target genre_ids  \\\n",
       "0   JNWfrrC7zNN7BdMpsISKa4Mw+xVJYNnxXh3/Epw7QgY=       1      1259   \n",
       "1   3qm6XTZ6MOCU11x8FIVbAGH5l5uMkT3/ZalWG1oo2Gc=       1      1011   \n",
       "3   3qm6XTZ6MOCU11x8FIVbAGH5l5uMkT3/ZalWG1oo2Gc=       0      1011   \n",
       "57  bPIvRTzfHxH5LgHrStll+tYwSQNVV8PySgA3M1PfTgc=       1      1011   \n",
       "62  bPIvRTzfHxH5LgHrStll+tYwSQNVV8PySgA3M1PfTgc=       0      1011   \n",
       "\n",
       "     artist_name                                    composer lyricist  \\\n",
       "0            nas  n. jonesã€w. adamsã€j. lordanã€d. ingle            \n",
       "1    brett young     brett young  kelly archer  justin ebach            \n",
       "3    brett young     brett young  kelly archer  justin ebach            \n",
       "57  thomas rhett      thomas rhett  rhett akins  ben hayslip            \n",
       "62  thomas rhett      thomas rhett  rhett akins  ben hayslip            \n",
       "\n",
       "                                  song_name  \\\n",
       "0   Hip Hop Is Dead(Album Version (Edited))   \n",
       "1                         Sleep Without You   \n",
       "3                         Sleep Without You   \n",
       "57                         Star Of The Show   \n",
       "62                         Star Of The Show   \n",
       "\n",
       "                                         song_details  \n",
       "0      nasn. jonesã€w. adamsã€j. lordanã€d. ingle   \n",
       "1   brett youngbrett young  kelly archer  justin e...  \n",
       "3   brett youngbrett young  kelly archer  justin e...  \n",
       "57  thomas rhettthomas rhett  rhett akins  ben hay...  \n",
       "62  thomas rhettthomas rhett  rhett akins  ben hay...  "
      ]
     },
     "execution_count": 127,
     "metadata": {},
     "output_type": "execute_result"
    }
   ],
   "source": [
    "data.head()"
   ]
  },
  {
   "cell_type": "code",
   "execution_count": 128,
   "id": "b627ccd3",
   "metadata": {},
   "outputs": [],
   "source": [
    "data.reset_index(inplace=True)"
   ]
  },
  {
   "cell_type": "code",
   "execution_count": 129,
   "id": "8a4385df",
   "metadata": {},
   "outputs": [
    {
     "data": {
      "text/html": [
       "<div>\n",
       "<style scoped>\n",
       "    .dataframe tbody tr th:only-of-type {\n",
       "        vertical-align: middle;\n",
       "    }\n",
       "\n",
       "    .dataframe tbody tr th {\n",
       "        vertical-align: top;\n",
       "    }\n",
       "\n",
       "    .dataframe thead th {\n",
       "        text-align: right;\n",
       "    }\n",
       "</style>\n",
       "<table border=\"1\" class=\"dataframe\">\n",
       "  <thead>\n",
       "    <tr style=\"text-align: right;\">\n",
       "      <th></th>\n",
       "      <th>index</th>\n",
       "      <th>song_id</th>\n",
       "      <th>target</th>\n",
       "      <th>genre_ids</th>\n",
       "      <th>artist_name</th>\n",
       "      <th>composer</th>\n",
       "      <th>lyricist</th>\n",
       "      <th>song_name</th>\n",
       "      <th>song_details</th>\n",
       "    </tr>\n",
       "  </thead>\n",
       "  <tbody>\n",
       "    <tr>\n",
       "      <th>0</th>\n",
       "      <td>0</td>\n",
       "      <td>JNWfrrC7zNN7BdMpsISKa4Mw+xVJYNnxXh3/Epw7QgY=</td>\n",
       "      <td>1</td>\n",
       "      <td>1259</td>\n",
       "      <td>nas</td>\n",
       "      <td>n. jonesã€w. adamsã€j. lordanã€d. ingle</td>\n",
       "      <td></td>\n",
       "      <td>Hip Hop Is Dead(Album Version (Edited))</td>\n",
       "      <td>nasn. jonesã€w. adamsã€j. lordanã€d. ingle</td>\n",
       "    </tr>\n",
       "    <tr>\n",
       "      <th>1</th>\n",
       "      <td>1</td>\n",
       "      <td>3qm6XTZ6MOCU11x8FIVbAGH5l5uMkT3/ZalWG1oo2Gc=</td>\n",
       "      <td>1</td>\n",
       "      <td>1011</td>\n",
       "      <td>brett young</td>\n",
       "      <td>brett young  kelly archer  justin ebach</td>\n",
       "      <td></td>\n",
       "      <td>Sleep Without You</td>\n",
       "      <td>brett youngbrett young  kelly archer  justin e...</td>\n",
       "    </tr>\n",
       "    <tr>\n",
       "      <th>2</th>\n",
       "      <td>3</td>\n",
       "      <td>3qm6XTZ6MOCU11x8FIVbAGH5l5uMkT3/ZalWG1oo2Gc=</td>\n",
       "      <td>0</td>\n",
       "      <td>1011</td>\n",
       "      <td>brett young</td>\n",
       "      <td>brett young  kelly archer  justin ebach</td>\n",
       "      <td></td>\n",
       "      <td>Sleep Without You</td>\n",
       "      <td>brett youngbrett young  kelly archer  justin e...</td>\n",
       "    </tr>\n",
       "    <tr>\n",
       "      <th>3</th>\n",
       "      <td>57</td>\n",
       "      <td>bPIvRTzfHxH5LgHrStll+tYwSQNVV8PySgA3M1PfTgc=</td>\n",
       "      <td>1</td>\n",
       "      <td>1011</td>\n",
       "      <td>thomas rhett</td>\n",
       "      <td>thomas rhett  rhett akins  ben hayslip</td>\n",
       "      <td></td>\n",
       "      <td>Star Of The Show</td>\n",
       "      <td>thomas rhettthomas rhett  rhett akins  ben hay...</td>\n",
       "    </tr>\n",
       "    <tr>\n",
       "      <th>4</th>\n",
       "      <td>62</td>\n",
       "      <td>bPIvRTzfHxH5LgHrStll+tYwSQNVV8PySgA3M1PfTgc=</td>\n",
       "      <td>0</td>\n",
       "      <td>1011</td>\n",
       "      <td>thomas rhett</td>\n",
       "      <td>thomas rhett  rhett akins  ben hayslip</td>\n",
       "      <td></td>\n",
       "      <td>Star Of The Show</td>\n",
       "      <td>thomas rhettthomas rhett  rhett akins  ben hay...</td>\n",
       "    </tr>\n",
       "  </tbody>\n",
       "</table>\n",
       "</div>"
      ],
      "text/plain": [
       "   index                                       song_id  target genre_ids  \\\n",
       "0      0  JNWfrrC7zNN7BdMpsISKa4Mw+xVJYNnxXh3/Epw7QgY=       1      1259   \n",
       "1      1  3qm6XTZ6MOCU11x8FIVbAGH5l5uMkT3/ZalWG1oo2Gc=       1      1011   \n",
       "2      3  3qm6XTZ6MOCU11x8FIVbAGH5l5uMkT3/ZalWG1oo2Gc=       0      1011   \n",
       "3     57  bPIvRTzfHxH5LgHrStll+tYwSQNVV8PySgA3M1PfTgc=       1      1011   \n",
       "4     62  bPIvRTzfHxH5LgHrStll+tYwSQNVV8PySgA3M1PfTgc=       0      1011   \n",
       "\n",
       "    artist_name                                    composer lyricist  \\\n",
       "0           nas  n. jonesã€w. adamsã€j. lordanã€d. ingle            \n",
       "1   brett young     brett young  kelly archer  justin ebach            \n",
       "2   brett young     brett young  kelly archer  justin ebach            \n",
       "3  thomas rhett      thomas rhett  rhett akins  ben hayslip            \n",
       "4  thomas rhett      thomas rhett  rhett akins  ben hayslip            \n",
       "\n",
       "                                 song_name  \\\n",
       "0  Hip Hop Is Dead(Album Version (Edited))   \n",
       "1                        Sleep Without You   \n",
       "2                        Sleep Without You   \n",
       "3                         Star Of The Show   \n",
       "4                         Star Of The Show   \n",
       "\n",
       "                                        song_details  \n",
       "0     nasn. jonesã€w. adamsã€j. lordanã€d. ingle   \n",
       "1  brett youngbrett young  kelly archer  justin e...  \n",
       "2  brett youngbrett young  kelly archer  justin e...  \n",
       "3  thomas rhettthomas rhett  rhett akins  ben hay...  \n",
       "4  thomas rhettthomas rhett  rhett akins  ben hay...  "
      ]
     },
     "execution_count": 129,
     "metadata": {},
     "output_type": "execute_result"
    }
   ],
   "source": [
    "data.head()"
   ]
  },
  {
   "cell_type": "code",
   "execution_count": 130,
   "id": "151763aa",
   "metadata": {},
   "outputs": [
    {
     "data": {
      "text/plain": [
       "(104070, 9)"
      ]
     },
     "execution_count": 130,
     "metadata": {},
     "output_type": "execute_result"
    }
   ],
   "source": [
    "data.shape"
   ]
  },
  {
   "cell_type": "code",
   "execution_count": 131,
   "id": "aa6e2806",
   "metadata": {},
   "outputs": [
    {
     "data": {
      "text/plain": [
       "936630"
      ]
     },
     "execution_count": 131,
     "metadata": {},
     "output_type": "execute_result"
    }
   ],
   "source": [
    "data.size"
   ]
  },
  {
   "cell_type": "code",
   "execution_count": 132,
   "id": "54bf2a65",
   "metadata": {},
   "outputs": [
    {
     "data": {
      "text/html": [
       "<div>\n",
       "<style scoped>\n",
       "    .dataframe tbody tr th:only-of-type {\n",
       "        vertical-align: middle;\n",
       "    }\n",
       "\n",
       "    .dataframe tbody tr th {\n",
       "        vertical-align: top;\n",
       "    }\n",
       "\n",
       "    .dataframe thead th {\n",
       "        text-align: right;\n",
       "    }\n",
       "</style>\n",
       "<table border=\"1\" class=\"dataframe\">\n",
       "  <thead>\n",
       "    <tr style=\"text-align: right;\">\n",
       "      <th></th>\n",
       "      <th>index</th>\n",
       "      <th>target</th>\n",
       "    </tr>\n",
       "  </thead>\n",
       "  <tbody>\n",
       "    <tr>\n",
       "      <th>count</th>\n",
       "      <td>104070.000000</td>\n",
       "      <td>104070.000000</td>\n",
       "    </tr>\n",
       "    <tr>\n",
       "      <th>mean</th>\n",
       "      <td>611788.747353</td>\n",
       "      <td>0.541866</td>\n",
       "    </tr>\n",
       "    <tr>\n",
       "      <th>std</th>\n",
       "      <td>122409.832401</td>\n",
       "      <td>0.498247</td>\n",
       "    </tr>\n",
       "    <tr>\n",
       "      <th>min</th>\n",
       "      <td>0.000000</td>\n",
       "      <td>0.000000</td>\n",
       "    </tr>\n",
       "    <tr>\n",
       "      <th>25%</th>\n",
       "      <td>570720.500000</td>\n",
       "      <td>0.000000</td>\n",
       "    </tr>\n",
       "    <tr>\n",
       "      <th>50%</th>\n",
       "      <td>651215.500000</td>\n",
       "      <td>1.000000</td>\n",
       "    </tr>\n",
       "    <tr>\n",
       "      <th>75%</th>\n",
       "      <td>697785.500000</td>\n",
       "      <td>1.000000</td>\n",
       "    </tr>\n",
       "    <tr>\n",
       "      <th>max</th>\n",
       "      <td>729298.000000</td>\n",
       "      <td>1.000000</td>\n",
       "    </tr>\n",
       "  </tbody>\n",
       "</table>\n",
       "</div>"
      ],
      "text/plain": [
       "               index         target\n",
       "count  104070.000000  104070.000000\n",
       "mean   611788.747353       0.541866\n",
       "std    122409.832401       0.498247\n",
       "min         0.000000       0.000000\n",
       "25%    570720.500000       0.000000\n",
       "50%    651215.500000       1.000000\n",
       "75%    697785.500000       1.000000\n",
       "max    729298.000000       1.000000"
      ]
     },
     "execution_count": 132,
     "metadata": {},
     "output_type": "execute_result"
    }
   ],
   "source": [
    "data.describe()"
   ]
  },
  {
   "cell_type": "code",
   "execution_count": 133,
   "id": "6d22e76f",
   "metadata": {},
   "outputs": [
    {
     "name": "stdout",
     "output_type": "stream",
     "text": [
      "<class 'pandas.core.frame.DataFrame'>\n",
      "RangeIndex: 104070 entries, 0 to 104069\n",
      "Data columns (total 9 columns):\n",
      " #   Column        Non-Null Count   Dtype \n",
      "---  ------        --------------   ----- \n",
      " 0   index         104070 non-null  int64 \n",
      " 1   song_id       104070 non-null  object\n",
      " 2   target        104070 non-null  int64 \n",
      " 3   genre_ids     104070 non-null  object\n",
      " 4   artist_name   104070 non-null  object\n",
      " 5   composer      104070 non-null  object\n",
      " 6   lyricist      104070 non-null  object\n",
      " 7   song_name     104070 non-null  object\n",
      " 8   song_details  104070 non-null  object\n",
      "dtypes: int64(2), object(7)\n",
      "memory usage: 7.1+ MB\n"
     ]
    }
   ],
   "source": [
    "data.info()"
   ]
  },
  {
   "cell_type": "code",
   "execution_count": 134,
   "id": "0f778168",
   "metadata": {},
   "outputs": [
    {
     "data": {
      "text/plain": [
       "Index(['index', 'song_id', 'target', 'genre_ids', 'artist_name', 'composer',\n",
       "       'lyricist', 'song_name', 'song_details'],\n",
       "      dtype='object')"
      ]
     },
     "execution_count": 134,
     "metadata": {},
     "output_type": "execute_result"
    }
   ],
   "source": [
    "data.columns"
   ]
  },
  {
   "cell_type": "code",
   "execution_count": 135,
   "id": "fea39fbd",
   "metadata": {},
   "outputs": [],
   "source": [
    "from sklearn.feature_extraction.text import TfidfVectorizer"
   ]
  },
  {
   "cell_type": "code",
   "execution_count": 136,
   "id": "cf349657",
   "metadata": {},
   "outputs": [],
   "source": [
    "from sklearn.metrics.pairwise import cosine_similarity"
   ]
  },
  {
   "cell_type": "code",
   "execution_count": 137,
   "id": "19da76ad",
   "metadata": {},
   "outputs": [],
   "source": [
    "sample = data.sample(n=500)"
   ]
  },
  {
   "cell_type": "code",
   "execution_count": 138,
   "id": "2be84f07",
   "metadata": {},
   "outputs": [
    {
     "data": {
      "text/plain": [
       "(500, 9)"
      ]
     },
     "execution_count": 138,
     "metadata": {},
     "output_type": "execute_result"
    }
   ],
   "source": [
    "sample.shape"
   ]
  },
  {
   "cell_type": "code",
   "execution_count": 139,
   "id": "4ab616c1",
   "metadata": {},
   "outputs": [
    {
     "data": {
      "text/plain": [
       "4500"
      ]
     },
     "execution_count": 139,
     "metadata": {},
     "output_type": "execute_result"
    }
   ],
   "source": [
    "sample.size"
   ]
  },
  {
   "cell_type": "code",
   "execution_count": 140,
   "id": "b60ad54a",
   "metadata": {},
   "outputs": [],
   "source": [
    "vectorizer = TfidfVectorizer()"
   ]
  },
  {
   "cell_type": "code",
   "execution_count": 141,
   "id": "4b5ed6f8",
   "metadata": {},
   "outputs": [
    {
     "data": {
      "text/plain": [
       "<500x1526 sparse matrix of type '<class 'numpy.float64'>'\n",
       "\twith 2198 stored elements in Compressed Sparse Row format>"
      ]
     },
     "execution_count": 141,
     "metadata": {},
     "output_type": "execute_result"
    }
   ],
   "source": [
    "vectorizer_matrix = vectorizer.fit_transform(sample['song_details'])\n",
    "vectorizer_matrix"
   ]
  },
  {
   "cell_type": "code",
   "execution_count": 142,
   "id": "21fdd549",
   "metadata": {},
   "outputs": [
    {
     "data": {
      "text/plain": [
       "array([[1.        , 0.        , 0.        , ..., 0.        , 0.        ,\n",
       "        0.        ],\n",
       "       [0.        , 1.        , 0.        , ..., 0.        , 0.        ,\n",
       "        0.        ],\n",
       "       [0.        , 0.        , 1.        , ..., 0.        , 0.        ,\n",
       "        0.        ],\n",
       "       ...,\n",
       "       [0.        , 0.        , 0.        , ..., 1.        , 0.        ,\n",
       "        0.        ],\n",
       "       [0.        , 0.        , 0.        , ..., 0.        , 1.        ,\n",
       "        0.11978058],\n",
       "       [0.        , 0.        , 0.        , ..., 0.        , 0.11978058,\n",
       "        1.        ]])"
      ]
     },
     "execution_count": 142,
     "metadata": {},
     "output_type": "execute_result"
    }
   ],
   "source": [
    "similarity = cosine_similarity(vectorizer_matrix)\n",
    "similarity"
   ]
  },
  {
   "cell_type": "code",
   "execution_count": 143,
   "id": "4a06c04d",
   "metadata": {},
   "outputs": [
    {
     "data": {
      "text/html": [
       "<div>\n",
       "<style scoped>\n",
       "    .dataframe tbody tr th:only-of-type {\n",
       "        vertical-align: middle;\n",
       "    }\n",
       "\n",
       "    .dataframe tbody tr th {\n",
       "        vertical-align: top;\n",
       "    }\n",
       "\n",
       "    .dataframe thead th {\n",
       "        text-align: right;\n",
       "    }\n",
       "</style>\n",
       "<table border=\"1\" class=\"dataframe\">\n",
       "  <thead>\n",
       "    <tr style=\"text-align: right;\">\n",
       "      <th></th>\n",
       "      <th>index</th>\n",
       "      <th>song_id</th>\n",
       "      <th>target</th>\n",
       "      <th>genre_ids</th>\n",
       "      <th>artist_name</th>\n",
       "      <th>composer</th>\n",
       "      <th>lyricist</th>\n",
       "      <th>song_name</th>\n",
       "      <th>song_details</th>\n",
       "    </tr>\n",
       "  </thead>\n",
       "  <tbody>\n",
       "    <tr>\n",
       "      <th>67959</th>\n",
       "      <td>682694</td>\n",
       "      <td>LEionWwXQKN4y8L6R360aimcBLRFLrDnGkmonb7uTb8=</td>\n",
       "      <td>1</td>\n",
       "      <td>958</td>\n",
       "      <td>lang lang</td>\n",
       "      <td></td>\n",
       "      <td></td>\n",
       "      <td>Sonata for Piano no 3 in B minor| B 155/Op. 58...</td>\n",
       "      <td>lang lang</td>\n",
       "    </tr>\n",
       "    <tr>\n",
       "      <th>68189</th>\n",
       "      <td>683125</td>\n",
       "      <td>GCHyFVCdw1g8+dgwiYqP979Ty3+yh3h3gCn9HYpIPG8=</td>\n",
       "      <td>1</td>\n",
       "      <td>947</td>\n",
       "      <td>v.k</td>\n",
       "      <td>v.kå…‹ (v.k)</td>\n",
       "      <td></td>\n",
       "      <td>äºžç‰¹è˜­ææ–¯ä¹‹æˆ€ (Atlantis Love)</td>\n",
       "      <td>v.kv.kå…‹ (v.k)</td>\n",
       "    </tr>\n",
       "    <tr>\n",
       "      <th>29139</th>\n",
       "      <td>583472</td>\n",
       "      <td>XNUin0u4bkDR9Tl9/+DVOkfTbUdrR6EJtY8l9XUXPmE=</td>\n",
       "      <td>0</td>\n",
       "      <td>465</td>\n",
       "      <td>james blunt</td>\n",
       "      <td></td>\n",
       "      <td></td>\n",
       "      <td>One Of The Brightest Stars</td>\n",
       "      <td>james blunt</td>\n",
       "    </tr>\n",
       "    <tr>\n",
       "      <th>92900</th>\n",
       "      <td>717171</td>\n",
       "      <td>vAKcIO3cNnL6hdCK7gC4tucTuHPih9wLj48OxpLXu0E=</td>\n",
       "      <td>1</td>\n",
       "      <td>2022</td>\n",
       "      <td>foo fighters</td>\n",
       "      <td>foo fighters</td>\n",
       "      <td>foo fighters</td>\n",
       "      <td>Something from Nothing</td>\n",
       "      <td>foo fightersfoo fightersfoo fighters</td>\n",
       "    </tr>\n",
       "    <tr>\n",
       "      <th>71193</th>\n",
       "      <td>687742</td>\n",
       "      <td>Uleeo7nmP8OGLLLcW+7EGyu/llofMv86cNuILmHZg0A=</td>\n",
       "      <td>1</td>\n",
       "      <td>786</td>\n",
       "      <td>é‹¼ç´é¥—å®´</td>\n",
       "      <td></td>\n",
       "      <td></td>\n",
       "      <td>Tears of Joy</td>\n",
       "      <td>é‹¼ç´é¥—å®´</td>\n",
       "    </tr>\n",
       "    <tr>\n",
       "      <th>...</th>\n",
       "      <td>...</td>\n",
       "      <td>...</td>\n",
       "      <td>...</td>\n",
       "      <td>...</td>\n",
       "      <td>...</td>\n",
       "      <td>...</td>\n",
       "      <td>...</td>\n",
       "      <td>...</td>\n",
       "      <td>...</td>\n",
       "    </tr>\n",
       "    <tr>\n",
       "      <th>20897</th>\n",
       "      <td>543182</td>\n",
       "      <td>zZK4fLeDnIYT54HWmf8r2/0+ONsZvTEBxXxFhQx36Yc=</td>\n",
       "      <td>0</td>\n",
       "      <td>2022</td>\n",
       "      <td>ftisland</td>\n",
       "      <td>choi jong hoon</td>\n",
       "      <td>choi jong hoon  lee hong gi lee jae jin  song ...</td>\n",
       "      <td>PRAY</td>\n",
       "      <td>ftislandchoi jong hoonchoi jong hoon  lee hong...</td>\n",
       "    </tr>\n",
       "    <tr>\n",
       "      <th>66849</th>\n",
       "      <td>680958</td>\n",
       "      <td>07sGjUT5j5yRS4E90z3CGWKmS2ZtRrP8ssPchNBY24Q=</td>\n",
       "      <td>0</td>\n",
       "      <td>1616</td>\n",
       "      <td>rob &amp; jack</td>\n",
       "      <td>robert milo  jacob stiernspetz</td>\n",
       "      <td></td>\n",
       "      <td>Do My Thing</td>\n",
       "      <td>rob &amp; jackrobert milo  jacob stiernspetz</td>\n",
       "    </tr>\n",
       "    <tr>\n",
       "      <th>39306</th>\n",
       "      <td>618767</td>\n",
       "      <td>01fyRDSwqBa0cAnrPPqtQn9l3iTGj/tUv6zP8UuIGLA=</td>\n",
       "      <td>0</td>\n",
       "      <td>2022</td>\n",
       "      <td>é‚£æˆ‘æ‡‚ä½ æ„æ€äº†</td>\n",
       "      <td>é™³ä¿®æ¾¤</td>\n",
       "      <td>é™³ä¿®æ¾¤</td>\n",
       "      <td>Yes Iâ€™m in Love</td>\n",
       "      <td>é‚£æˆ‘æ‡‚ä½ æ„æ€äº†é™³ä¿®æ¾¤é™³ä¿®æ¾¤</td>\n",
       "    </tr>\n",
       "    <tr>\n",
       "      <th>6212</th>\n",
       "      <td>376107</td>\n",
       "      <td>rjL2gjAOvPgIC57Bxi3UunQXUSFCBTkguZF9BgngGug=</td>\n",
       "      <td>0</td>\n",
       "      <td>458</td>\n",
       "      <td>æžçžÿ+è”¡ä¾æž—+èž«æ–‡è”š</td>\n",
       "      <td>leehom wang</td>\n",
       "      <td>zhen-chuan chen</td>\n",
       "      <td>ç¨ä½”ç¥žè©± (Du Zhan Shen Hua)</td>\n",
       "      <td>æžçžÿ+è”¡ä¾æž—+èž«æ–‡è”šleehom wangzhen-chua...</td>\n",
       "    </tr>\n",
       "    <tr>\n",
       "      <th>79881</th>\n",
       "      <td>700630</td>\n",
       "      <td>eI8yAQaVc1YpgXgP70ZXhD3sv6CVauP7/Dlj+ieHJCE=</td>\n",
       "      <td>1</td>\n",
       "      <td>465</td>\n",
       "      <td>æž—æ…§è (monique lin)</td>\n",
       "      <td></td>\n",
       "      <td></td>\n",
       "      <td>å¯ä»¥å‹‡æ•¢å¯ä»¥æº«æŸ”</td>\n",
       "      <td>æž—æ…§è (monique lin)</td>\n",
       "    </tr>\n",
       "  </tbody>\n",
       "</table>\n",
       "<p>500 rows × 9 columns</p>\n",
       "</div>"
      ],
      "text/plain": [
       "        index                                       song_id  target genre_ids  \\\n",
       "67959  682694  LEionWwXQKN4y8L6R360aimcBLRFLrDnGkmonb7uTb8=       1       958   \n",
       "68189  683125  GCHyFVCdw1g8+dgwiYqP979Ty3+yh3h3gCn9HYpIPG8=       1       947   \n",
       "29139  583472  XNUin0u4bkDR9Tl9/+DVOkfTbUdrR6EJtY8l9XUXPmE=       0       465   \n",
       "92900  717171  vAKcIO3cNnL6hdCK7gC4tucTuHPih9wLj48OxpLXu0E=       1      2022   \n",
       "71193  687742  Uleeo7nmP8OGLLLcW+7EGyu/llofMv86cNuILmHZg0A=       1       786   \n",
       "...       ...                                           ...     ...       ...   \n",
       "20897  543182  zZK4fLeDnIYT54HWmf8r2/0+ONsZvTEBxXxFhQx36Yc=       0      2022   \n",
       "66849  680958  07sGjUT5j5yRS4E90z3CGWKmS2ZtRrP8ssPchNBY24Q=       0      1616   \n",
       "39306  618767  01fyRDSwqBa0cAnrPPqtQn9l3iTGj/tUv6zP8UuIGLA=       0      2022   \n",
       "6212   376107  rjL2gjAOvPgIC57Bxi3UunQXUSFCBTkguZF9BgngGug=       0       458   \n",
       "79881  700630  eI8yAQaVc1YpgXgP70ZXhD3sv6CVauP7/Dlj+ieHJCE=       1       465   \n",
       "\n",
       "                      artist_name                        composer  \\\n",
       "67959                   lang lang                                   \n",
       "68189                         v.k                    v.kå…‹ (v.k)   \n",
       "29139                 james blunt                                   \n",
       "92900                foo fighters                    foo fighters   \n",
       "71193                é‹¼ç´é¥—å®´                                   \n",
       "...                           ...                             ...   \n",
       "20897                    ftisland                  choi jong hoon   \n",
       "66849                  rob & jack  robert milo  jacob stiernspetz   \n",
       "39306       é‚£æˆ‘æ‡‚ä½ æ„æ€äº†                       é™³ä¿®æ¾¤   \n",
       "6212   æžçžÿ+è”¡ä¾æž—+èž«æ–‡è”š                     leehom wang   \n",
       "79881     æž—æ…§è (monique lin)                                   \n",
       "\n",
       "                                                lyricist  \\\n",
       "67959                                                      \n",
       "68189                                                      \n",
       "29139                                                      \n",
       "92900                                       foo fighters   \n",
       "71193                                                      \n",
       "...                                                  ...   \n",
       "20897  choi jong hoon  lee hong gi lee jae jin  song ...   \n",
       "66849                                                      \n",
       "39306                                          é™³ä¿®æ¾¤   \n",
       "6212                                     zhen-chuan chen   \n",
       "79881                                                      \n",
       "\n",
       "                                               song_name  \\\n",
       "67959  Sonata for Piano no 3 in B minor| B 155/Op. 58...   \n",
       "68189              äºžç‰¹è˜­ææ–¯ä¹‹æˆ€ (Atlantis Love)   \n",
       "29139                         One Of The Brightest Stars   \n",
       "92900                             Something from Nothing   \n",
       "71193                                       Tears of Joy   \n",
       "...                                                  ...   \n",
       "20897                                               PRAY   \n",
       "66849                                        Do My Thing   \n",
       "39306                                  Yes Iâ€™m in Love   \n",
       "6212                     ç¨ä½”ç¥žè©± (Du Zhan Shen Hua)   \n",
       "79881                           å¯ä»¥å‹‡æ•¢å¯ä»¥æº«æŸ”   \n",
       "\n",
       "                                            song_details  \n",
       "67959                                        lang lang    \n",
       "68189                                   v.kv.kå…‹ (v.k)   \n",
       "29139                                      james blunt    \n",
       "92900               foo fightersfoo fightersfoo fighters  \n",
       "71193                                     é‹¼ç´é¥—å®´    \n",
       "...                                                  ...  \n",
       "20897  ftislandchoi jong hoonchoi jong hoon  lee hong...  \n",
       "66849          rob & jackrobert milo  jacob stiernspetz   \n",
       "39306            é‚£æˆ‘æ‡‚ä½ æ„æ€äº†é™³ä¿®æ¾¤é™³ä¿®æ¾¤  \n",
       "6212   æžçžÿ+è”¡ä¾æž—+èž«æ–‡è”šleehom wangzhen-chua...  \n",
       "79881                          æž—æ…§è (monique lin)    \n",
       "\n",
       "[500 rows x 9 columns]"
      ]
     },
     "execution_count": 143,
     "metadata": {},
     "output_type": "execute_result"
    }
   ],
   "source": [
    "sample"
   ]
  },
  {
   "cell_type": "code",
   "execution_count": 144,
   "id": "3f7ff97e",
   "metadata": {},
   "outputs": [],
   "source": [
    "sample.reset_index(inplace=True)"
   ]
  },
  {
   "cell_type": "code",
   "execution_count": 145,
   "id": "b9d6c63a",
   "metadata": {},
   "outputs": [
    {
     "data": {
      "text/html": [
       "<div>\n",
       "<style scoped>\n",
       "    .dataframe tbody tr th:only-of-type {\n",
       "        vertical-align: middle;\n",
       "    }\n",
       "\n",
       "    .dataframe tbody tr th {\n",
       "        vertical-align: top;\n",
       "    }\n",
       "\n",
       "    .dataframe thead th {\n",
       "        text-align: right;\n",
       "    }\n",
       "</style>\n",
       "<table border=\"1\" class=\"dataframe\">\n",
       "  <thead>\n",
       "    <tr style=\"text-align: right;\">\n",
       "      <th></th>\n",
       "      <th>level_0</th>\n",
       "      <th>index</th>\n",
       "      <th>song_id</th>\n",
       "      <th>target</th>\n",
       "      <th>genre_ids</th>\n",
       "      <th>artist_name</th>\n",
       "      <th>composer</th>\n",
       "      <th>lyricist</th>\n",
       "      <th>song_name</th>\n",
       "      <th>song_details</th>\n",
       "    </tr>\n",
       "  </thead>\n",
       "  <tbody>\n",
       "    <tr>\n",
       "      <th>0</th>\n",
       "      <td>67959</td>\n",
       "      <td>682694</td>\n",
       "      <td>LEionWwXQKN4y8L6R360aimcBLRFLrDnGkmonb7uTb8=</td>\n",
       "      <td>1</td>\n",
       "      <td>958</td>\n",
       "      <td>lang lang</td>\n",
       "      <td></td>\n",
       "      <td></td>\n",
       "      <td>Sonata for Piano no 3 in B minor| B 155/Op. 58...</td>\n",
       "      <td>lang lang</td>\n",
       "    </tr>\n",
       "    <tr>\n",
       "      <th>1</th>\n",
       "      <td>68189</td>\n",
       "      <td>683125</td>\n",
       "      <td>GCHyFVCdw1g8+dgwiYqP979Ty3+yh3h3gCn9HYpIPG8=</td>\n",
       "      <td>1</td>\n",
       "      <td>947</td>\n",
       "      <td>v.k</td>\n",
       "      <td>v.kå…‹ (v.k)</td>\n",
       "      <td></td>\n",
       "      <td>äºžç‰¹è˜­ææ–¯ä¹‹æˆ€ (Atlantis Love)</td>\n",
       "      <td>v.kv.kå…‹ (v.k)</td>\n",
       "    </tr>\n",
       "    <tr>\n",
       "      <th>2</th>\n",
       "      <td>29139</td>\n",
       "      <td>583472</td>\n",
       "      <td>XNUin0u4bkDR9Tl9/+DVOkfTbUdrR6EJtY8l9XUXPmE=</td>\n",
       "      <td>0</td>\n",
       "      <td>465</td>\n",
       "      <td>james blunt</td>\n",
       "      <td></td>\n",
       "      <td></td>\n",
       "      <td>One Of The Brightest Stars</td>\n",
       "      <td>james blunt</td>\n",
       "    </tr>\n",
       "    <tr>\n",
       "      <th>3</th>\n",
       "      <td>92900</td>\n",
       "      <td>717171</td>\n",
       "      <td>vAKcIO3cNnL6hdCK7gC4tucTuHPih9wLj48OxpLXu0E=</td>\n",
       "      <td>1</td>\n",
       "      <td>2022</td>\n",
       "      <td>foo fighters</td>\n",
       "      <td>foo fighters</td>\n",
       "      <td>foo fighters</td>\n",
       "      <td>Something from Nothing</td>\n",
       "      <td>foo fightersfoo fightersfoo fighters</td>\n",
       "    </tr>\n",
       "    <tr>\n",
       "      <th>4</th>\n",
       "      <td>71193</td>\n",
       "      <td>687742</td>\n",
       "      <td>Uleeo7nmP8OGLLLcW+7EGyu/llofMv86cNuILmHZg0A=</td>\n",
       "      <td>1</td>\n",
       "      <td>786</td>\n",
       "      <td>é‹¼ç´é¥—å®´</td>\n",
       "      <td></td>\n",
       "      <td></td>\n",
       "      <td>Tears of Joy</td>\n",
       "      <td>é‹¼ç´é¥—å®´</td>\n",
       "    </tr>\n",
       "    <tr>\n",
       "      <th>...</th>\n",
       "      <td>...</td>\n",
       "      <td>...</td>\n",
       "      <td>...</td>\n",
       "      <td>...</td>\n",
       "      <td>...</td>\n",
       "      <td>...</td>\n",
       "      <td>...</td>\n",
       "      <td>...</td>\n",
       "      <td>...</td>\n",
       "      <td>...</td>\n",
       "    </tr>\n",
       "    <tr>\n",
       "      <th>495</th>\n",
       "      <td>20897</td>\n",
       "      <td>543182</td>\n",
       "      <td>zZK4fLeDnIYT54HWmf8r2/0+ONsZvTEBxXxFhQx36Yc=</td>\n",
       "      <td>0</td>\n",
       "      <td>2022</td>\n",
       "      <td>ftisland</td>\n",
       "      <td>choi jong hoon</td>\n",
       "      <td>choi jong hoon  lee hong gi lee jae jin  song ...</td>\n",
       "      <td>PRAY</td>\n",
       "      <td>ftislandchoi jong hoonchoi jong hoon  lee hong...</td>\n",
       "    </tr>\n",
       "    <tr>\n",
       "      <th>496</th>\n",
       "      <td>66849</td>\n",
       "      <td>680958</td>\n",
       "      <td>07sGjUT5j5yRS4E90z3CGWKmS2ZtRrP8ssPchNBY24Q=</td>\n",
       "      <td>0</td>\n",
       "      <td>1616</td>\n",
       "      <td>rob &amp; jack</td>\n",
       "      <td>robert milo  jacob stiernspetz</td>\n",
       "      <td></td>\n",
       "      <td>Do My Thing</td>\n",
       "      <td>rob &amp; jackrobert milo  jacob stiernspetz</td>\n",
       "    </tr>\n",
       "    <tr>\n",
       "      <th>497</th>\n",
       "      <td>39306</td>\n",
       "      <td>618767</td>\n",
       "      <td>01fyRDSwqBa0cAnrPPqtQn9l3iTGj/tUv6zP8UuIGLA=</td>\n",
       "      <td>0</td>\n",
       "      <td>2022</td>\n",
       "      <td>é‚£æˆ‘æ‡‚ä½ æ„æ€äº†</td>\n",
       "      <td>é™³ä¿®æ¾¤</td>\n",
       "      <td>é™³ä¿®æ¾¤</td>\n",
       "      <td>Yes Iâ€™m in Love</td>\n",
       "      <td>é‚£æˆ‘æ‡‚ä½ æ„æ€äº†é™³ä¿®æ¾¤é™³ä¿®æ¾¤</td>\n",
       "    </tr>\n",
       "    <tr>\n",
       "      <th>498</th>\n",
       "      <td>6212</td>\n",
       "      <td>376107</td>\n",
       "      <td>rjL2gjAOvPgIC57Bxi3UunQXUSFCBTkguZF9BgngGug=</td>\n",
       "      <td>0</td>\n",
       "      <td>458</td>\n",
       "      <td>æžçžÿ+è”¡ä¾æž—+èž«æ–‡è”š</td>\n",
       "      <td>leehom wang</td>\n",
       "      <td>zhen-chuan chen</td>\n",
       "      <td>ç¨ä½”ç¥žè©± (Du Zhan Shen Hua)</td>\n",
       "      <td>æžçžÿ+è”¡ä¾æž—+èž«æ–‡è”šleehom wangzhen-chua...</td>\n",
       "    </tr>\n",
       "    <tr>\n",
       "      <th>499</th>\n",
       "      <td>79881</td>\n",
       "      <td>700630</td>\n",
       "      <td>eI8yAQaVc1YpgXgP70ZXhD3sv6CVauP7/Dlj+ieHJCE=</td>\n",
       "      <td>1</td>\n",
       "      <td>465</td>\n",
       "      <td>æž—æ…§è (monique lin)</td>\n",
       "      <td></td>\n",
       "      <td></td>\n",
       "      <td>å¯ä»¥å‹‡æ•¢å¯ä»¥æº«æŸ”</td>\n",
       "      <td>æž—æ…§è (monique lin)</td>\n",
       "    </tr>\n",
       "  </tbody>\n",
       "</table>\n",
       "<p>500 rows × 10 columns</p>\n",
       "</div>"
      ],
      "text/plain": [
       "     level_0   index                                       song_id  target  \\\n",
       "0      67959  682694  LEionWwXQKN4y8L6R360aimcBLRFLrDnGkmonb7uTb8=       1   \n",
       "1      68189  683125  GCHyFVCdw1g8+dgwiYqP979Ty3+yh3h3gCn9HYpIPG8=       1   \n",
       "2      29139  583472  XNUin0u4bkDR9Tl9/+DVOkfTbUdrR6EJtY8l9XUXPmE=       0   \n",
       "3      92900  717171  vAKcIO3cNnL6hdCK7gC4tucTuHPih9wLj48OxpLXu0E=       1   \n",
       "4      71193  687742  Uleeo7nmP8OGLLLcW+7EGyu/llofMv86cNuILmHZg0A=       1   \n",
       "..       ...     ...                                           ...     ...   \n",
       "495    20897  543182  zZK4fLeDnIYT54HWmf8r2/0+ONsZvTEBxXxFhQx36Yc=       0   \n",
       "496    66849  680958  07sGjUT5j5yRS4E90z3CGWKmS2ZtRrP8ssPchNBY24Q=       0   \n",
       "497    39306  618767  01fyRDSwqBa0cAnrPPqtQn9l3iTGj/tUv6zP8UuIGLA=       0   \n",
       "498     6212  376107  rjL2gjAOvPgIC57Bxi3UunQXUSFCBTkguZF9BgngGug=       0   \n",
       "499    79881  700630  eI8yAQaVc1YpgXgP70ZXhD3sv6CVauP7/Dlj+ieHJCE=       1   \n",
       "\n",
       "    genre_ids                 artist_name                        composer  \\\n",
       "0         958                   lang lang                                   \n",
       "1         947                         v.k                    v.kå…‹ (v.k)   \n",
       "2         465                 james blunt                                   \n",
       "3        2022                foo fighters                    foo fighters   \n",
       "4         786                é‹¼ç´é¥—å®´                                   \n",
       "..        ...                         ...                             ...   \n",
       "495      2022                    ftisland                  choi jong hoon   \n",
       "496      1616                  rob & jack  robert milo  jacob stiernspetz   \n",
       "497      2022       é‚£æˆ‘æ‡‚ä½ æ„æ€äº†                       é™³ä¿®æ¾¤   \n",
       "498       458  æžçžÿ+è”¡ä¾æž—+èž«æ–‡è”š                     leehom wang   \n",
       "499       465     æž—æ…§è (monique lin)                                   \n",
       "\n",
       "                                              lyricist  \\\n",
       "0                                                        \n",
       "1                                                        \n",
       "2                                                        \n",
       "3                                         foo fighters   \n",
       "4                                                        \n",
       "..                                                 ...   \n",
       "495  choi jong hoon  lee hong gi lee jae jin  song ...   \n",
       "496                                                      \n",
       "497                                          é™³ä¿®æ¾¤   \n",
       "498                                    zhen-chuan chen   \n",
       "499                                                      \n",
       "\n",
       "                                             song_name  \\\n",
       "0    Sonata for Piano no 3 in B minor| B 155/Op. 58...   \n",
       "1                äºžç‰¹è˜­ææ–¯ä¹‹æˆ€ (Atlantis Love)   \n",
       "2                           One Of The Brightest Stars   \n",
       "3                               Something from Nothing   \n",
       "4                                         Tears of Joy   \n",
       "..                                                 ...   \n",
       "495                                               PRAY   \n",
       "496                                        Do My Thing   \n",
       "497                                  Yes Iâ€™m in Love   \n",
       "498                    ç¨ä½”ç¥žè©± (Du Zhan Shen Hua)   \n",
       "499                           å¯ä»¥å‹‡æ•¢å¯ä»¥æº«æŸ”   \n",
       "\n",
       "                                          song_details  \n",
       "0                                          lang lang    \n",
       "1                                     v.kv.kå…‹ (v.k)   \n",
       "2                                        james blunt    \n",
       "3                 foo fightersfoo fightersfoo fighters  \n",
       "4                                       é‹¼ç´é¥—å®´    \n",
       "..                                                 ...  \n",
       "495  ftislandchoi jong hoonchoi jong hoon  lee hong...  \n",
       "496          rob & jackrobert milo  jacob stiernspetz   \n",
       "497            é‚£æˆ‘æ‡‚ä½ æ„æ€äº†é™³ä¿®æ¾¤é™³ä¿®æ¾¤  \n",
       "498  æžçžÿ+è”¡ä¾æž—+èž«æ–‡è”šleehom wangzhen-chua...  \n",
       "499                          æž—æ…§è (monique lin)    \n",
       "\n",
       "[500 rows x 10 columns]"
      ]
     },
     "execution_count": 145,
     "metadata": {},
     "output_type": "execute_result"
    }
   ],
   "source": [
    "sample"
   ]
  },
  {
   "cell_type": "code",
   "execution_count": 146,
   "id": "4eeb9875",
   "metadata": {},
   "outputs": [],
   "source": [
    "def recommend(song):\n",
    "    song_index= sample[sample['song_name']==song].index[0]\n",
    "    distance = similarity[song_index]\n",
    "    song_list = sorted(list(enumerate(similarity[0])), reverse=True, key=lambda a:a[1])[1:15]\n",
    "    for song in song_list:\n",
    "        print(song[0])"
   ]
  },
  {
   "cell_type": "code",
   "execution_count": 148,
   "id": "e24f8f40",
   "metadata": {},
   "outputs": [
    {
     "name": "stdout",
     "output_type": "stream",
     "text": [
      "94\n",
      "1\n",
      "2\n",
      "3\n",
      "4\n",
      "5\n",
      "6\n",
      "7\n",
      "8\n",
      "9\n",
      "10\n",
      "11\n",
      "12\n",
      "13\n"
     ]
    }
   ],
   "source": [
    "recommend('PRAY')"
   ]
  },
  {
   "cell_type": "code",
   "execution_count": 159,
   "id": "0528c97e",
   "metadata": {},
   "outputs": [],
   "source": [
    "def recommend(song):\n",
    "    song_index= sample[sample['song_name']==song].index[0]\n",
    "    distance = similarity[song_index]\n",
    "    song_list = sorted(list(enumerate(distance)), reverse=True, key=lambda a:a[1])[1:5]\n",
    "    for song in song_list:\n",
    "        print(sample.iloc[song[0]].song_name)"
   ]
  },
  {
   "cell_type": "code",
   "execution_count": 160,
   "id": "de88dae9",
   "metadata": {},
   "outputs": [
    {
     "name": "stdout",
     "output_type": "stream",
     "text": [
      "Ah Yeah So What\n",
      "Save Room\n",
      "Money On Me\n",
      "Lay It Down\n"
     ]
    }
   ],
   "source": [
    "recommend('One Of The Brightest Stars')"
   ]
  },
  {
   "cell_type": "code",
   "execution_count": 163,
   "id": "4895cda2",
   "metadata": {},
   "outputs": [
    {
     "name": "stdout",
     "output_type": "stream",
     "text": [
      "BPM69\n",
      "JUST ANOTHER BOY (TEAM A)\n",
      "Mine\n",
      "Our Own House\n"
     ]
    }
   ],
   "source": [
    "recommend('PRAY')"
   ]
  },
  {
   "cell_type": "code",
   "execution_count": 164,
   "id": "fe376a66",
   "metadata": {},
   "outputs": [
    {
     "name": "stdout",
     "output_type": "stream",
     "text": [
      "Hey There Delilah\n",
      "Fall\n",
      "New Disease\n",
      "Sonata for Piano no 3 in B minor| B 155/Op. 58 - Finale Presto non tanto (Original Version)\n"
     ]
    }
   ],
   "source": [
    "recommend('Do My Thing')"
   ]
  }
 ],
 "metadata": {
  "kernelspec": {
   "display_name": "Python 3 (ipykernel)",
   "language": "python",
   "name": "python3"
  },
  "language_info": {
   "codemirror_mode": {
    "name": "ipython",
    "version": 3
   },
   "file_extension": ".py",
   "mimetype": "text/x-python",
   "name": "python",
   "nbconvert_exporter": "python",
   "pygments_lexer": "ipython3",
   "version": "3.9.13"
  }
 },
 "nbformat": 4,
 "nbformat_minor": 5
}
